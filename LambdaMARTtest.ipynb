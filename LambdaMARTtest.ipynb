{
  "cells": [
    {
      "attachments": {},
      "cell_type": "markdown",
      "metadata": {
        "id": "iGRMWuX2sCjl"
      },
      "source": [
        "## Чтение и очистка трейна"
      ]
    },
    {
      "cell_type": "code",
      "execution_count": 1,
      "metadata": {
        "id": "irZfL99X4VZ3"
      },
      "outputs": [],
      "source": [
        "import numpy as np\n",
        "import pandas as pd\n",
        "import html\n",
        "import string"
      ]
    },
    {
      "cell_type": "code",
      "execution_count": 3,
      "metadata": {
        "id": "CKuNKsvD4ty7"
      },
      "outputs": [],
      "source": [
        "data = pd.read_json('ranking_train.jsonl', lines=True)\n",
        "new_rows = []\n",
        "for index, row in data.iterrows():\n",
        "    for comment in row['comments']:\n",
        "        new_row = {'text': row['text'], 'comments_text': comment['text'], 'comments_score': comment['score']}\n",
        "        new_rows.append(new_row)"
      ]
    },
    {
      "cell_type": "code",
      "execution_count": 4,
      "metadata": {
        "colab": {
          "base_uri": "https://localhost:8080/",
          "height": 424
        },
        "id": "Q2V8TTOX4v2t",
        "outputId": "b07b2f7c-8a3c-4a00-f3c4-49a0776185d0"
      },
      "outputs": [
        {
          "data": {
            "text/html": [
              "\n",
              "  <div id=\"df-54c3c081-95a7-4229-8c81-4f4983771557\">\n",
              "    <div class=\"colab-df-container\">\n",
              "      <div>\n",
              "<style scoped>\n",
              "    .dataframe tbody tr th:only-of-type {\n",
              "        vertical-align: middle;\n",
              "    }\n",
              "\n",
              "    .dataframe tbody tr th {\n",
              "        vertical-align: top;\n",
              "    }\n",
              "\n",
              "    .dataframe thead th {\n",
              "        text-align: right;\n",
              "    }\n",
              "</style>\n",
              "<table border=\"1\" class=\"dataframe\">\n",
              "  <thead>\n",
              "    <tr style=\"text-align: right;\">\n",
              "      <th></th>\n",
              "      <th>text</th>\n",
              "      <th>comments_text</th>\n",
              "      <th>comments_score</th>\n",
              "    </tr>\n",
              "  </thead>\n",
              "  <tbody>\n",
              "    <tr>\n",
              "      <th>0</th>\n",
              "      <td>How many summer Y Combinator fundees decided n...</td>\n",
              "      <td>Going back to school is not identical with giv...</td>\n",
              "      <td>0</td>\n",
              "    </tr>\n",
              "    <tr>\n",
              "      <th>1</th>\n",
              "      <td>How many summer Y Combinator fundees decided n...</td>\n",
              "      <td>There will invariably be those who don't see t...</td>\n",
              "      <td>1</td>\n",
              "    </tr>\n",
              "    <tr>\n",
              "      <th>2</th>\n",
              "      <td>How many summer Y Combinator fundees decided n...</td>\n",
              "      <td>For me school is a way to be connected to what...</td>\n",
              "      <td>2</td>\n",
              "    </tr>\n",
              "    <tr>\n",
              "      <th>3</th>\n",
              "      <td>How many summer Y Combinator fundees decided n...</td>\n",
              "      <td>I guess it really depends on how hungry you ar...</td>\n",
              "      <td>3</td>\n",
              "    </tr>\n",
              "    <tr>\n",
              "      <th>4</th>\n",
              "      <td>How many summer Y Combinator fundees decided n...</td>\n",
              "      <td>I know pollground decided to go back to school...</td>\n",
              "      <td>4</td>\n",
              "    </tr>\n",
              "    <tr>\n",
              "      <th>...</th>\n",
              "      <td>...</td>\n",
              "      <td>...</td>\n",
              "      <td>...</td>\n",
              "    </tr>\n",
              "    <tr>\n",
              "      <th>440530</th>\n",
              "      <td>Pay your rent with a Credit or Debit card. No ...</td>\n",
              "      <td>Most major banks offer a service called &amp;#x27;...</td>\n",
              "      <td>0</td>\n",
              "    </tr>\n",
              "    <tr>\n",
              "      <th>440531</th>\n",
              "      <td>Pay your rent with a Credit or Debit card. No ...</td>\n",
              "      <td>It costs 3.25%, or $74.25 for the example of $...</td>\n",
              "      <td>1</td>\n",
              "    </tr>\n",
              "    <tr>\n",
              "      <th>440532</th>\n",
              "      <td>Pay your rent with a Credit or Debit card. No ...</td>\n",
              "      <td>As many other comments have pointed out almost...</td>\n",
              "      <td>2</td>\n",
              "    </tr>\n",
              "    <tr>\n",
              "      <th>440533</th>\n",
              "      <td>Pay your rent with a Credit or Debit card. No ...</td>\n",
              "      <td>My apartment building uses Yapstone&amp;#x27;s Ren...</td>\n",
              "      <td>3</td>\n",
              "    </tr>\n",
              "    <tr>\n",
              "      <th>440534</th>\n",
              "      <td>Pay your rent with a Credit or Debit card. No ...</td>\n",
              "      <td>Video seems in poor taste.</td>\n",
              "      <td>4</td>\n",
              "    </tr>\n",
              "  </tbody>\n",
              "</table>\n",
              "<p>440535 rows × 3 columns</p>\n",
              "</div>\n",
              "      <button class=\"colab-df-convert\" onclick=\"convertToInteractive('df-54c3c081-95a7-4229-8c81-4f4983771557')\"\n",
              "              title=\"Convert this dataframe to an interactive table.\"\n",
              "              style=\"display:none;\">\n",
              "        \n",
              "  <svg xmlns=\"http://www.w3.org/2000/svg\" height=\"24px\"viewBox=\"0 0 24 24\"\n",
              "       width=\"24px\">\n",
              "    <path d=\"M0 0h24v24H0V0z\" fill=\"none\"/>\n",
              "    <path d=\"M18.56 5.44l.94 2.06.94-2.06 2.06-.94-2.06-.94-.94-2.06-.94 2.06-2.06.94zm-11 1L8.5 8.5l.94-2.06 2.06-.94-2.06-.94L8.5 2.5l-.94 2.06-2.06.94zm10 10l.94 2.06.94-2.06 2.06-.94-2.06-.94-.94-2.06-.94 2.06-2.06.94z\"/><path d=\"M17.41 7.96l-1.37-1.37c-.4-.4-.92-.59-1.43-.59-.52 0-1.04.2-1.43.59L10.3 9.45l-7.72 7.72c-.78.78-.78 2.05 0 2.83L4 21.41c.39.39.9.59 1.41.59.51 0 1.02-.2 1.41-.59l7.78-7.78 2.81-2.81c.8-.78.8-2.07 0-2.86zM5.41 20L4 18.59l7.72-7.72 1.47 1.35L5.41 20z\"/>\n",
              "  </svg>\n",
              "      </button>\n",
              "      \n",
              "  <style>\n",
              "    .colab-df-container {\n",
              "      display:flex;\n",
              "      flex-wrap:wrap;\n",
              "      gap: 12px;\n",
              "    }\n",
              "\n",
              "    .colab-df-convert {\n",
              "      background-color: #E8F0FE;\n",
              "      border: none;\n",
              "      border-radius: 50%;\n",
              "      cursor: pointer;\n",
              "      display: none;\n",
              "      fill: #1967D2;\n",
              "      height: 32px;\n",
              "      padding: 0 0 0 0;\n",
              "      width: 32px;\n",
              "    }\n",
              "\n",
              "    .colab-df-convert:hover {\n",
              "      background-color: #E2EBFA;\n",
              "      box-shadow: 0px 1px 2px rgba(60, 64, 67, 0.3), 0px 1px 3px 1px rgba(60, 64, 67, 0.15);\n",
              "      fill: #174EA6;\n",
              "    }\n",
              "\n",
              "    [theme=dark] .colab-df-convert {\n",
              "      background-color: #3B4455;\n",
              "      fill: #D2E3FC;\n",
              "    }\n",
              "\n",
              "    [theme=dark] .colab-df-convert:hover {\n",
              "      background-color: #434B5C;\n",
              "      box-shadow: 0px 1px 3px 1px rgba(0, 0, 0, 0.15);\n",
              "      filter: drop-shadow(0px 1px 2px rgba(0, 0, 0, 0.3));\n",
              "      fill: #FFFFFF;\n",
              "    }\n",
              "  </style>\n",
              "\n",
              "      <script>\n",
              "        const buttonEl =\n",
              "          document.querySelector('#df-54c3c081-95a7-4229-8c81-4f4983771557 button.colab-df-convert');\n",
              "        buttonEl.style.display =\n",
              "          google.colab.kernel.accessAllowed ? 'block' : 'none';\n",
              "\n",
              "        async function convertToInteractive(key) {\n",
              "          const element = document.querySelector('#df-54c3c081-95a7-4229-8c81-4f4983771557');\n",
              "          const dataTable =\n",
              "            await google.colab.kernel.invokeFunction('convertToInteractive',\n",
              "                                                     [key], {});\n",
              "          if (!dataTable) return;\n",
              "\n",
              "          const docLinkHtml = 'Like what you see? Visit the ' +\n",
              "            '<a target=\"_blank\" href=https://colab.research.google.com/notebooks/data_table.ipynb>data table notebook</a>'\n",
              "            + ' to learn more about interactive tables.';\n",
              "          element.innerHTML = '';\n",
              "          dataTable['output_type'] = 'display_data';\n",
              "          await google.colab.output.renderOutput(dataTable, element);\n",
              "          const docLink = document.createElement('div');\n",
              "          docLink.innerHTML = docLinkHtml;\n",
              "          element.appendChild(docLink);\n",
              "        }\n",
              "      </script>\n",
              "    </div>\n",
              "  </div>\n",
              "  "
            ],
            "text/plain": [
              "                                                     text  \\\n",
              "0       How many summer Y Combinator fundees decided n...   \n",
              "1       How many summer Y Combinator fundees decided n...   \n",
              "2       How many summer Y Combinator fundees decided n...   \n",
              "3       How many summer Y Combinator fundees decided n...   \n",
              "4       How many summer Y Combinator fundees decided n...   \n",
              "...                                                   ...   \n",
              "440530  Pay your rent with a Credit or Debit card. No ...   \n",
              "440531  Pay your rent with a Credit or Debit card. No ...   \n",
              "440532  Pay your rent with a Credit or Debit card. No ...   \n",
              "440533  Pay your rent with a Credit or Debit card. No ...   \n",
              "440534  Pay your rent with a Credit or Debit card. No ...   \n",
              "\n",
              "                                            comments_text  comments_score  \n",
              "0       Going back to school is not identical with giv...               0  \n",
              "1       There will invariably be those who don't see t...               1  \n",
              "2       For me school is a way to be connected to what...               2  \n",
              "3       I guess it really depends on how hungry you ar...               3  \n",
              "4       I know pollground decided to go back to school...               4  \n",
              "...                                                   ...             ...  \n",
              "440530  Most major banks offer a service called &#x27;...               0  \n",
              "440531  It costs 3.25%, or $74.25 for the example of $...               1  \n",
              "440532  As many other comments have pointed out almost...               2  \n",
              "440533  My apartment building uses Yapstone&#x27;s Ren...               3  \n",
              "440534                         Video seems in poor taste.               4  \n",
              "\n",
              "[440535 rows x 3 columns]"
            ]
          },
          "execution_count": 4,
          "metadata": {},
          "output_type": "execute_result"
        }
      ],
      "source": [
        "data = pd.DataFrame(new_rows)\n",
        "data = data.reset_index(drop=True)\n",
        "data"
      ]
    },
    {
      "cell_type": "code",
      "execution_count": 66,
      "metadata": {
        "id": "3-IBnAZNS0Fc"
      },
      "outputs": [],
      "source": [
        "def preprocessing(data):\n",
        "\n",
        "    for column in data.columns:\n",
        "        #заменяем коды на символы\n",
        "        data[column] = data[column].apply(html.unescape)\n",
        "\n",
        "        #заменяем url'ы на токен 1url1\n",
        "        data[column] = data[column].str.replace(\n",
        "        r\"(http|ftp|https):\\/\\/([\\w_-]+(?:(?:\\.[\\w_-]+)+))([\\w.,@?^=%&:\\/~+#-]*[\\w@?^=%&\\/~+#-])\",\n",
        "        '1url1',\n",
        "        regex=True)\n",
        "\n",
        "        #заменяем email'ы на токен 1email1\n",
        "        data[column] = data[column].str.replace(\n",
        "            r\"(?:[a-z0-9!#$%&'*+/=?^_`{|}~-]+(?:\\.[a-z0-9!#$%&'*+/=?^_`{|}~-]+)*|(?:[\\x01-\\x08\\x0b\\x0c\\x0e-\\x1f\\x21\\x23-\\x5b\\x5d-\\x7f]|\\\\[\\x01-\\x09\\x0b\\x0c\\x0e-\\x7f])*)@(?:(?:[a-z0-9](?:[a-z0-9-]*[a-z0-9])?\\.)+[a-z0-9](?:[a-z0-9-]*[a-z0-9])?|\\[(?:(?:(2(5[0-5]|[0-4][0-9])|1[0-9][0-9]|[1-9]?[0-9]))\\.){3}(?:(2(5[0-5]|[0-4][0-9])|1[0-9][0-9]|[1-9]?[0-9])|[a-z0-9-]*[a-z0-9]:(?:[\\x01-\\x08\\x0b\\x0c\\x0e-\\x1f\\x21-\\x5a\\x53-\\x7f]|\\\\[\\x01-\\x09\\x0b\\x0c\\x0e-\\x7f])+)\\])\",\n",
        "            '1email1',\n",
        "            regex=True)\n",
        "\n",
        "        #убираем ссылки\n",
        "        data[column] = data[column].str.replace(r'\\[\\d\\]', '', regex=True)\n",
        "\n",
        "        # #понижаем регистр\n",
        "        data[column] = data[column].apply(lambda x: x.lower())\n",
        "\n",
        "        #избавляемся от лишних знаков пунктуации\n",
        "        data[column] = data[column].apply(lambda x: x.translate(str.maketrans('', '', string.punctuation + \"\\n\")))\n",
        "\n",
        "        #делаем обратную замену на <token>\n",
        "        data[column] = data[column].str.replace('1url1', ' <url> ')\n",
        "        data[column] = data[column].str.replace('1email1', ' <email> ')\n",
        "\n",
        "    return data"
      ]
    },
    {
      "cell_type": "code",
      "execution_count": 6,
      "metadata": {
        "colab": {
          "base_uri": "https://localhost:8080/",
          "height": 424
        },
        "id": "sK6Ho8AkWuXq",
        "outputId": "36430f45-df2a-443f-aa08-0049327ff23b"
      },
      "outputs": [
        {
          "data": {
            "text/html": [
              "\n",
              "  <div id=\"df-41e7f76f-8c02-4fc4-8280-046e853bba43\">\n",
              "    <div class=\"colab-df-container\">\n",
              "      <div>\n",
              "<style scoped>\n",
              "    .dataframe tbody tr th:only-of-type {\n",
              "        vertical-align: middle;\n",
              "    }\n",
              "\n",
              "    .dataframe tbody tr th {\n",
              "        vertical-align: top;\n",
              "    }\n",
              "\n",
              "    .dataframe thead th {\n",
              "        text-align: right;\n",
              "    }\n",
              "</style>\n",
              "<table border=\"1\" class=\"dataframe\">\n",
              "  <thead>\n",
              "    <tr style=\"text-align: right;\">\n",
              "      <th></th>\n",
              "      <th>text</th>\n",
              "      <th>comments_text</th>\n",
              "      <th>comments_score</th>\n",
              "    </tr>\n",
              "  </thead>\n",
              "  <tbody>\n",
              "    <tr>\n",
              "      <th>0</th>\n",
              "      <td>how many summer y combinator fundees decided n...</td>\n",
              "      <td>going back to school is not identical with giv...</td>\n",
              "      <td>0</td>\n",
              "    </tr>\n",
              "    <tr>\n",
              "      <th>1</th>\n",
              "      <td>how many summer y combinator fundees decided n...</td>\n",
              "      <td>there will invariably be those who dont see th...</td>\n",
              "      <td>1</td>\n",
              "    </tr>\n",
              "    <tr>\n",
              "      <th>2</th>\n",
              "      <td>how many summer y combinator fundees decided n...</td>\n",
              "      <td>for me school is a way to be connected to what...</td>\n",
              "      <td>2</td>\n",
              "    </tr>\n",
              "    <tr>\n",
              "      <th>3</th>\n",
              "      <td>how many summer y combinator fundees decided n...</td>\n",
              "      <td>i guess it really depends on how hungry you ar...</td>\n",
              "      <td>3</td>\n",
              "    </tr>\n",
              "    <tr>\n",
              "      <th>4</th>\n",
              "      <td>how many summer y combinator fundees decided n...</td>\n",
              "      <td>i know pollground decided to go back to school...</td>\n",
              "      <td>4</td>\n",
              "    </tr>\n",
              "    <tr>\n",
              "      <th>...</th>\n",
              "      <td>...</td>\n",
              "      <td>...</td>\n",
              "      <td>...</td>\n",
              "    </tr>\n",
              "    <tr>\n",
              "      <th>440530</th>\n",
              "      <td>pay your rent with a credit or debit card no l...</td>\n",
              "      <td>most major banks offer a service called bill p...</td>\n",
              "      <td>0</td>\n",
              "    </tr>\n",
              "    <tr>\n",
              "      <th>440531</th>\n",
              "      <td>pay your rent with a credit or debit card no l...</td>\n",
              "      <td>it costs 325 or 7425 for the example of 2300 s...</td>\n",
              "      <td>1</td>\n",
              "    </tr>\n",
              "    <tr>\n",
              "      <th>440532</th>\n",
              "      <td>pay your rent with a credit or debit card no l...</td>\n",
              "      <td>as many other comments have pointed out almost...</td>\n",
              "      <td>2</td>\n",
              "    </tr>\n",
              "    <tr>\n",
              "      <th>440533</th>\n",
              "      <td>pay your rent with a credit or debit card no l...</td>\n",
              "      <td>my apartment building uses yapstones rentpayme...</td>\n",
              "      <td>3</td>\n",
              "    </tr>\n",
              "    <tr>\n",
              "      <th>440534</th>\n",
              "      <td>pay your rent with a credit or debit card no l...</td>\n",
              "      <td>video seems in poor taste</td>\n",
              "      <td>4</td>\n",
              "    </tr>\n",
              "  </tbody>\n",
              "</table>\n",
              "<p>440535 rows × 3 columns</p>\n",
              "</div>\n",
              "      <button class=\"colab-df-convert\" onclick=\"convertToInteractive('df-41e7f76f-8c02-4fc4-8280-046e853bba43')\"\n",
              "              title=\"Convert this dataframe to an interactive table.\"\n",
              "              style=\"display:none;\">\n",
              "        \n",
              "  <svg xmlns=\"http://www.w3.org/2000/svg\" height=\"24px\"viewBox=\"0 0 24 24\"\n",
              "       width=\"24px\">\n",
              "    <path d=\"M0 0h24v24H0V0z\" fill=\"none\"/>\n",
              "    <path d=\"M18.56 5.44l.94 2.06.94-2.06 2.06-.94-2.06-.94-.94-2.06-.94 2.06-2.06.94zm-11 1L8.5 8.5l.94-2.06 2.06-.94-2.06-.94L8.5 2.5l-.94 2.06-2.06.94zm10 10l.94 2.06.94-2.06 2.06-.94-2.06-.94-.94-2.06-.94 2.06-2.06.94z\"/><path d=\"M17.41 7.96l-1.37-1.37c-.4-.4-.92-.59-1.43-.59-.52 0-1.04.2-1.43.59L10.3 9.45l-7.72 7.72c-.78.78-.78 2.05 0 2.83L4 21.41c.39.39.9.59 1.41.59.51 0 1.02-.2 1.41-.59l7.78-7.78 2.81-2.81c.8-.78.8-2.07 0-2.86zM5.41 20L4 18.59l7.72-7.72 1.47 1.35L5.41 20z\"/>\n",
              "  </svg>\n",
              "      </button>\n",
              "      \n",
              "  <style>\n",
              "    .colab-df-container {\n",
              "      display:flex;\n",
              "      flex-wrap:wrap;\n",
              "      gap: 12px;\n",
              "    }\n",
              "\n",
              "    .colab-df-convert {\n",
              "      background-color: #E8F0FE;\n",
              "      border: none;\n",
              "      border-radius: 50%;\n",
              "      cursor: pointer;\n",
              "      display: none;\n",
              "      fill: #1967D2;\n",
              "      height: 32px;\n",
              "      padding: 0 0 0 0;\n",
              "      width: 32px;\n",
              "    }\n",
              "\n",
              "    .colab-df-convert:hover {\n",
              "      background-color: #E2EBFA;\n",
              "      box-shadow: 0px 1px 2px rgba(60, 64, 67, 0.3), 0px 1px 3px 1px rgba(60, 64, 67, 0.15);\n",
              "      fill: #174EA6;\n",
              "    }\n",
              "\n",
              "    [theme=dark] .colab-df-convert {\n",
              "      background-color: #3B4455;\n",
              "      fill: #D2E3FC;\n",
              "    }\n",
              "\n",
              "    [theme=dark] .colab-df-convert:hover {\n",
              "      background-color: #434B5C;\n",
              "      box-shadow: 0px 1px 3px 1px rgba(0, 0, 0, 0.15);\n",
              "      filter: drop-shadow(0px 1px 2px rgba(0, 0, 0, 0.3));\n",
              "      fill: #FFFFFF;\n",
              "    }\n",
              "  </style>\n",
              "\n",
              "      <script>\n",
              "        const buttonEl =\n",
              "          document.querySelector('#df-41e7f76f-8c02-4fc4-8280-046e853bba43 button.colab-df-convert');\n",
              "        buttonEl.style.display =\n",
              "          google.colab.kernel.accessAllowed ? 'block' : 'none';\n",
              "\n",
              "        async function convertToInteractive(key) {\n",
              "          const element = document.querySelector('#df-41e7f76f-8c02-4fc4-8280-046e853bba43');\n",
              "          const dataTable =\n",
              "            await google.colab.kernel.invokeFunction('convertToInteractive',\n",
              "                                                     [key], {});\n",
              "          if (!dataTable) return;\n",
              "\n",
              "          const docLinkHtml = 'Like what you see? Visit the ' +\n",
              "            '<a target=\"_blank\" href=https://colab.research.google.com/notebooks/data_table.ipynb>data table notebook</a>'\n",
              "            + ' to learn more about interactive tables.';\n",
              "          element.innerHTML = '';\n",
              "          dataTable['output_type'] = 'display_data';\n",
              "          await google.colab.output.renderOutput(dataTable, element);\n",
              "          const docLink = document.createElement('div');\n",
              "          docLink.innerHTML = docLinkHtml;\n",
              "          element.appendChild(docLink);\n",
              "        }\n",
              "      </script>\n",
              "    </div>\n",
              "  </div>\n",
              "  "
            ],
            "text/plain": [
              "                                                     text  \\\n",
              "0       how many summer y combinator fundees decided n...   \n",
              "1       how many summer y combinator fundees decided n...   \n",
              "2       how many summer y combinator fundees decided n...   \n",
              "3       how many summer y combinator fundees decided n...   \n",
              "4       how many summer y combinator fundees decided n...   \n",
              "...                                                   ...   \n",
              "440530  pay your rent with a credit or debit card no l...   \n",
              "440531  pay your rent with a credit or debit card no l...   \n",
              "440532  pay your rent with a credit or debit card no l...   \n",
              "440533  pay your rent with a credit or debit card no l...   \n",
              "440534  pay your rent with a credit or debit card no l...   \n",
              "\n",
              "                                            comments_text  comments_score  \n",
              "0       going back to school is not identical with giv...               0  \n",
              "1       there will invariably be those who dont see th...               1  \n",
              "2       for me school is a way to be connected to what...               2  \n",
              "3       i guess it really depends on how hungry you ar...               3  \n",
              "4       i know pollground decided to go back to school...               4  \n",
              "...                                                   ...             ...  \n",
              "440530  most major banks offer a service called bill p...               0  \n",
              "440531  it costs 325 or 7425 for the example of 2300 s...               1  \n",
              "440532  as many other comments have pointed out almost...               2  \n",
              "440533  my apartment building uses yapstones rentpayme...               3  \n",
              "440534                          video seems in poor taste               4  \n",
              "\n",
              "[440535 rows x 3 columns]"
            ]
          },
          "execution_count": 6,
          "metadata": {},
          "output_type": "execute_result"
        }
      ],
      "source": [
        "data.iloc[:, :2] = preprocessing(data.iloc[:, :2])\n",
        "data"
      ]
    },
    {
      "attachments": {},
      "cell_type": "markdown",
      "metadata": {
        "id": "j34TBqOebmvq"
      },
      "source": [
        "# Train-Val Split"
      ]
    },
    {
      "cell_type": "code",
      "execution_count": 7,
      "metadata": {
        "id": "u2CnJXtu410r"
      },
      "outputs": [],
      "source": [
        "from sklearn.model_selection import GroupShuffleSplit\n",
        "\n",
        "# подготавливаем train и val данные для итоговой валидации\n",
        "splitter = GroupShuffleSplit(test_size=0.2, n_splits=2, random_state=42)\n",
        "split = splitter.split(data, groups=data['text'])\n",
        "train_inds, val_inds = next(split)\n",
        "\n",
        "main_train = data.iloc[train_inds]\n",
        "main_val = data.iloc[val_inds]"
      ]
    },
    {
      "cell_type": "code",
      "execution_count": 8,
      "metadata": {
        "id": "8q8WL8aarBIh"
      },
      "outputs": [],
      "source": [
        "# подготавливаем train и test данные для сравнения эмбеддингов\n",
        "split = splitter.split(main_train, groups=main_train['text'])\n",
        "train_inds, test_inds = next(split)\n",
        "\n",
        "train = main_train.iloc[train_inds]\n",
        "test = main_train.iloc[test_inds]"
      ]
    },
    {
      "attachments": {},
      "cell_type": "markdown",
      "metadata": {
        "id": "vTcihWoNsKLZ"
      },
      "source": [
        "# Векторизация"
      ]
    },
    {
      "cell_type": "code",
      "execution_count": 9,
      "metadata": {
        "colab": {
          "base_uri": "https://localhost:8080/"
        },
        "id": "gRSsaZoebfCg",
        "outputId": "280bc2eb-ab9a-49be-f132-c82b51081b4f"
      },
      "outputs": [
        {
          "name": "stderr",
          "output_type": "stream",
          "text": [
            "[nltk_data] Downloading package punkt to /root/nltk_data...\n",
            "[nltk_data]   Unzipping tokenizers/punkt.zip.\n",
            "[nltk_data] Downloading package stopwords to /root/nltk_data...\n",
            "[nltk_data]   Unzipping corpora/stopwords.zip.\n"
          ]
        }
      ],
      "source": [
        "import nltk\n",
        "nltk.download('punkt')\n",
        "from nltk.tokenize import word_tokenize, sent_tokenize\n",
        "from nltk.corpus import stopwords\n",
        "nltk.download('stopwords')\n",
        "\n",
        "import gensim.downloader\n",
        "from tqdm import tqdm"
      ]
    },
    {
      "cell_type": "code",
      "execution_count": 140,
      "metadata": {
        "id": "gi0iXYgebyZt"
      },
      "outputs": [],
      "source": [
        "import vector_space_models_utils\n",
        "from vector_space_models_utils import hits_score\n",
        "from vector_space_models_utils import dcg_score"
      ]
    },
    {
      "cell_type": "code",
      "execution_count": 12,
      "metadata": {
        "id": "v3wjthTdb5CK"
      },
      "outputs": [],
      "source": [
        "stopWords = set(stopwords.words('english'))"
      ]
    },
    {
      "cell_type": "code",
      "execution_count": 13,
      "metadata": {
        "id": "v-hYvROHcD1E"
      },
      "outputs": [],
      "source": [
        "class NLTK_Tokenizer:\n",
        "    def __init__(self, delete_punctuation=False, delete_stop_words=False):\n",
        "        self.delete_punctuation = delete_punctuation\n",
        "        self.delete_stop_words = delete_stop_words\n",
        "    def tokenize(self, text, ):\n",
        "        if self.delete_punctuation:\n",
        "            text = text.translate(str.maketrans('', '', string.punctuation))\n",
        "        tokens = word_tokenize(text.lower())\n",
        "        if self.delete_stop_words:\n",
        "            return [token for token in tokens if token not in stopWords]\n",
        "        return tokens\n",
        "\n",
        "nltk_tokenizer = NLTK_Tokenizer()"
      ]
    },
    {
      "cell_type": "code",
      "execution_count": 14,
      "metadata": {
        "id": "gK1d2_UjeNSZ"
      },
      "outputs": [],
      "source": [
        "embeddings_list = [('glove-wiki-gigaword-50', 50),\n",
        "                   ('glove-wiki-gigaword-100', 100),\n",
        "                   ('glove-wiki-gigaword-200', 200),\n",
        "                   ('glove-twitter-25', 25),\n",
        "                   ('glove-twitter-50', 50),\n",
        "                   ('glove-twitter-100', 100)]"
      ]
    },
    {
      "cell_type": "code",
      "execution_count": 15,
      "metadata": {
        "id": "aJNEWKLFrAVX"
      },
      "outputs": [],
      "source": [
        "def text_to_vec(text, embeddings, tokenizer, dim=200, aggregation='mean', verbose=False):\n",
        "    \"\"\"\n",
        "        text: строка\n",
        "        embeddings: наше векторное представление\n",
        "        dim: размер любого вектора в нашем представлении\n",
        "\n",
        "        return: векторное представление для вопроса\n",
        "    \"\"\"\n",
        "    tokens = tokenizer.tokenize(text)\n",
        "\n",
        "    result = np.zeros(dim)\n",
        "\n",
        "    if verbose:\n",
        "        print('Initial text:', text)\n",
        "        print('Tokens:', tokens)\n",
        "\n",
        "    if aggregation == 'mean':\n",
        "        iterator = 0\n",
        "\n",
        "        for word in tokens:\n",
        "            if word in embeddings:\n",
        "                result += embeddings[word]\n",
        "                iterator += 1\n",
        "                if verbose and dim > 5:\n",
        "                    print('Word and its embedding:', word, embeddings[word][:5])\n",
        "\n",
        "        if iterator != 0:\n",
        "            result = result / iterator\n",
        "    else:\n",
        "        raise AttributeError(f'No aggregation type {aggregation}, please, use other')\n",
        "\n",
        "\n",
        "    return result"
      ]
    },
    {
      "cell_type": "code",
      "execution_count": 16,
      "metadata": {
        "id": "aJm0ZBDQ-tUw"
      },
      "outputs": [],
      "source": [
        "def transform_data(data, current_embeddings, current_tokenizer, vector_dim):\n",
        "\n",
        "    X_text_raw = data['text']\n",
        "    X_comm_raw = data['comments_text']\n",
        "    y = np.array(data['comments_score'])\n",
        "\n",
        "    text_emb = [text_to_vec(row, current_embeddings, current_tokenizer, vector_dim) for row in X_text_raw]\n",
        "    comm_emb = [text_to_vec(row, current_embeddings, current_tokenizer, vector_dim) for row in X_comm_raw]\n",
        "    embeddings = [np.concatenate((text, comm)) for text, comm in zip(text_emb, comm_emb)]\n",
        "\n",
        "    idx = []\n",
        "    for i in range(int(len(embeddings) / 5)):\n",
        "        idx.extend([i] * 5)\n",
        "\n",
        "    embeddings_df = pd.DataFrame(embeddings, columns=[i for i in range(1, 2*vector_dim+1)])\n",
        "    embeddings_df['score'] = y\n",
        "    embeddings_df['qid'] = idx\n",
        "\n",
        "    qids = embeddings_df.groupby('qid')['qid'].count().to_numpy()\n",
        "    X = embeddings_df.drop(['score'], axis = 1)\n",
        "\n",
        "    return X, y, qids"
      ]
    },
    {
      "attachments": {},
      "cell_type": "markdown",
      "metadata": {
        "id": "1X7r9FjDfG3U"
      },
      "source": [
        "# Сравнение различных эмбеддингов для LambdaMART модели"
      ]
    },
    {
      "cell_type": "code",
      "execution_count": 28,
      "metadata": {
        "id": "jqereiILZx2L"
      },
      "outputs": [],
      "source": [
        "import lightgbm"
      ]
    },
    {
      "cell_type": "code",
      "execution_count": 29,
      "metadata": {
        "colab": {
          "base_uri": "https://localhost:8080/"
        },
        "id": "pyCU54FSfFZy",
        "outputId": "25283a18-09bb-45a4-d6fb-39de8f8313a7"
      },
      "outputs": [
        {
          "name": "stderr",
          "output_type": "stream",
          "text": [
            "\r  0%|          | 0/6 [00:00<?, ?it/s]"
          ]
        },
        {
          "name": "stdout",
          "output_type": "stream",
          "text": [
            "\n",
            "\n",
            "glove-wiki-gigaword-50\n",
            "\n",
            "[1]\tvalid_0's ndcg@1: 0.494754\tvalid_0's ndcg@3: 0.576375\tvalid_0's ndcg@5: 0.792423\n",
            "[2]\tvalid_0's ndcg@1: 0.592596\tvalid_0's ndcg@3: 0.657437\tvalid_0's ndcg@5: 0.831721\n",
            "[3]\tvalid_0's ndcg@1: 0.615085\tvalid_0's ndcg@3: 0.687357\tvalid_0's ndcg@5: 0.84403\n",
            "[4]\tvalid_0's ndcg@1: 0.628341\tvalid_0's ndcg@3: 0.701477\tvalid_0's ndcg@5: 0.850235\n",
            "[5]\tvalid_0's ndcg@1: 0.632487\tvalid_0's ndcg@3: 0.70941\tvalid_0's ndcg@5: 0.853273\n"
          ]
        },
        {
          "name": "stderr",
          "output_type": "stream",
          "text": [
            "\r 17%|█▋        | 1/6 [05:29<27:25, 329.03s/it]"
          ]
        },
        {
          "name": "stdout",
          "output_type": "stream",
          "text": [
            "\n",
            "\n",
            "glove-wiki-gigaword-100\n",
            "\n",
            "[1]\tvalid_0's ndcg@1: 0.502322\tvalid_0's ndcg@3: 0.58939\tvalid_0's ndcg@5: 0.796973\n",
            "[2]\tvalid_0's ndcg@1: 0.598391\tvalid_0's ndcg@3: 0.672096\tvalid_0's ndcg@5: 0.836633\n",
            "[3]\tvalid_0's ndcg@1: 0.622935\tvalid_0's ndcg@3: 0.697943\tvalid_0's ndcg@5: 0.848421\n",
            "[4]\tvalid_0's ndcg@1: 0.630095\tvalid_0's ndcg@3: 0.704986\tvalid_0's ndcg@5: 0.851702\n"
          ]
        },
        {
          "name": "stderr",
          "output_type": "stream",
          "text": [
            "\r 33%|███▎      | 2/6 [12:04<24:33, 368.28s/it]"
          ]
        },
        {
          "name": "stdout",
          "output_type": "stream",
          "text": [
            "[5]\tvalid_0's ndcg@1: 0.637804\tvalid_0's ndcg@3: 0.713174\tvalid_0's ndcg@5: 0.855366\n",
            "\n",
            "\n",
            "glove-wiki-gigaword-200\n",
            "\n",
            "[1]\tvalid_0's ndcg@1: 0.48678\tvalid_0's ndcg@3: 0.592667\tvalid_0's ndcg@5: 0.795665\n",
            "[2]\tvalid_0's ndcg@1: 0.59715\tvalid_0's ndcg@3: 0.679566\tvalid_0's ndcg@5: 0.838768\n",
            "[3]\tvalid_0's ndcg@1: 0.625115\tvalid_0's ndcg@3: 0.703478\tvalid_0's ndcg@5: 0.850508\n",
            "[4]\tvalid_0's ndcg@1: 0.634915\tvalid_0's ndcg@3: 0.713802\tvalid_0's ndcg@5: 0.855167\n"
          ]
        },
        {
          "name": "stderr",
          "output_type": "stream",
          "text": [
            "\r 50%|█████     | 3/6 [20:43<21:51, 437.03s/it]"
          ]
        },
        {
          "name": "stdout",
          "output_type": "stream",
          "text": [
            "[5]\tvalid_0's ndcg@1: 0.640746\tvalid_0's ndcg@3: 0.721079\tvalid_0's ndcg@5: 0.858539\n",
            "\n",
            "\n",
            "glove-twitter-25\n",
            "\n",
            "[1]\tvalid_0's ndcg@1: 0.497058\tvalid_0's ndcg@3: 0.593753\tvalid_0's ndcg@5: 0.797305\n",
            "[2]\tvalid_0's ndcg@1: 0.590469\tvalid_0's ndcg@3: 0.65394\tvalid_0's ndcg@5: 0.830205\n",
            "[3]\tvalid_0's ndcg@1: 0.60789\tvalid_0's ndcg@3: 0.678969\tvalid_0's ndcg@5: 0.840199\n",
            "[4]\tvalid_0's ndcg@1: 0.61489\tvalid_0's ndcg@3: 0.688957\tvalid_0's ndcg@5: 0.844425\n"
          ]
        },
        {
          "name": "stderr",
          "output_type": "stream",
          "text": [
            "\r 67%|██████▋   | 4/6 [26:05<13:02, 391.41s/it]"
          ]
        },
        {
          "name": "stdout",
          "output_type": "stream",
          "text": [
            "[5]\tvalid_0's ndcg@1: 0.623237\tvalid_0's ndcg@3: 0.700228\tvalid_0's ndcg@5: 0.849124\n",
            "\n",
            "[==================================================] 100.0% 199.5/199.5MB downloaded\n",
            "\n",
            "glove-twitter-50\n",
            "\n",
            "[1]\tvalid_0's ndcg@1: 0.496367\tvalid_0's ndcg@3: 0.605101\tvalid_0's ndcg@5: 0.80062\n",
            "[2]\tvalid_0's ndcg@1: 0.597523\tvalid_0's ndcg@3: 0.67527\tvalid_0's ndcg@5: 0.837653\n",
            "[3]\tvalid_0's ndcg@1: 0.619994\tvalid_0's ndcg@3: 0.6927\tvalid_0's ndcg@5: 0.846487\n",
            "[4]\tvalid_0's ndcg@1: 0.632452\tvalid_0's ndcg@3: 0.703607\tvalid_0's ndcg@5: 0.851436\n"
          ]
        },
        {
          "name": "stderr",
          "output_type": "stream",
          "text": [
            "\r 83%|████████▎ | 5/6 [33:09<06:43, 403.29s/it]"
          ]
        },
        {
          "name": "stdout",
          "output_type": "stream",
          "text": [
            "[5]\tvalid_0's ndcg@1: 0.636865\tvalid_0's ndcg@3: 0.71036\tvalid_0's ndcg@5: 0.854143\n",
            "\n",
            "[==================================================] 100.0% 387.1/387.1MB downloaded\n",
            "\n",
            "glove-twitter-100\n",
            "\n",
            "[1]\tvalid_0's ndcg@1: 0.487613\tvalid_0's ndcg@3: 0.610096\tvalid_0's ndcg@5: 0.800731\n",
            "[2]\tvalid_0's ndcg@1: 0.597966\tvalid_0's ndcg@3: 0.677797\tvalid_0's ndcg@5: 0.838546\n",
            "[3]\tvalid_0's ndcg@1: 0.627224\tvalid_0's ndcg@3: 0.702181\tvalid_0's ndcg@5: 0.850405\n",
            "[4]\tvalid_0's ndcg@1: 0.636103\tvalid_0's ndcg@3: 0.712656\tvalid_0's ndcg@5: 0.854873\n"
          ]
        },
        {
          "name": "stderr",
          "output_type": "stream",
          "text": [
            "100%|██████████| 6/6 [42:48<00:00, 428.01s/it]"
          ]
        },
        {
          "name": "stdout",
          "output_type": "stream",
          "text": [
            "[5]\tvalid_0's ndcg@1: 0.642075\tvalid_0's ndcg@3: 0.720529\tvalid_0's ndcg@5: 0.858173\n"
          ]
        },
        {
          "name": "stderr",
          "output_type": "stream",
          "text": [
            "\n"
          ]
        }
      ],
      "source": [
        "scores = dict()\n",
        "\n",
        "for embedding_name, vector_dim in tqdm(embeddings_list):\n",
        "\n",
        "    print()\n",
        "\n",
        "    current_embeddings = gensim.downloader.load(embedding_name)\n",
        "    current_tokenizer = NLTK_Tokenizer(delete_punctuation=True, delete_stop_words=True)\n",
        "\n",
        "    print()\n",
        "    print(embedding_name)\n",
        "    print()\n",
        "\n",
        "    # Подготавливаем данные для подачи в модель\n",
        "    X_train, y_train, qids_train = transform_data(train, current_embeddings, current_tokenizer, vector_dim)\n",
        "    X_test, y_test, qids_test = transform_data(test, current_embeddings, current_tokenizer, vector_dim)\n",
        "\n",
        "    X_train = X_train.drop(['qid'], axis=1)\n",
        "    X_test = X_test.drop(['qid'], axis=1)\n",
        "\n",
        "    # Создаем модель\n",
        "    ranker = lightgbm.LGBMRanker(\n",
        "        objective='lambdarank',\n",
        "        boosting_type='gbdt',\n",
        "        n_estimators=5,\n",
        "        importance_type='gain',\n",
        "        metric='ndcg',\n",
        "        num_leaves=10,\n",
        "        learning_rate=0.05,\n",
        "        max_depth=-1,\n",
        "        label_gain=[i for i in range(5)]\n",
        "    )\n",
        "\n",
        "    # Обучаем модель\n",
        "    ranker.fit(\n",
        "        X=X_train,\n",
        "        y=y_train,\n",
        "        group=qids_train,\n",
        "        eval_set=[(X_test, y_test)],\n",
        "        eval_group=[qids_test],\n",
        "        eval_at=[1, 3, 5]\n",
        "    )\n",
        "\n",
        "    # Сохраняем результат\n",
        "    scores[embedding_name] = [ranker.best_score_['valid_0']['ndcg@1'],\n",
        "                              ranker.best_score_['valid_0']['ndcg@3'],\n",
        "                              ranker.best_score_['valid_0']['ndcg@5']]"
      ]
    },
    {
      "cell_type": "code",
      "execution_count": 46,
      "metadata": {
        "colab": {
          "base_uri": "https://localhost:8080/",
          "height": 452
        },
        "id": "2qCaUTGCgYmH",
        "outputId": "0fd81f59-04a8-458e-ca1b-dd70d98ad995"
      },
      "outputs": [
        {
          "data": {
            "image/png": "[encoded data removed]",
            "text/plain": [
              "<Figure size 640x480 with 1 Axes>"
            ]
          },
          "metadata": {},
          "output_type": "display_data"
        }
      ],
      "source": [
        "import matplotlib.pyplot as plt\n",
        "\n",
        "x_values = list(range(len(scores[list(scores.keys())[0]])))\n",
        "x_ticks = ['ndcg@1', 'ndcg@3', 'ndcg@5']\n",
        "\n",
        "for key, values in scores.items():\n",
        "    plt.plot(x_values, values, label=key)\n",
        "plt.xticks(x_values, x_ticks)\n",
        "plt.title('LambdaMART NDCG')\n",
        "plt.legend()\n",
        "plt.show()"
      ]
    },
    {
      "attachments": {},
      "cell_type": "markdown",
      "metadata": {
        "id": "Na_bOLc0iQV2"
      },
      "source": [
        "Наилучшими моделями по метрике качества оказались glove-wiki-gigaword-200 и glove-twitter-100. Чтобы сократить размер используемых эмбеддингов, в дальнейшем будем использовать glove-twitter-100."
      ]
    },
    {
      "attachments": {},
      "cell_type": "markdown",
      "metadata": {
        "id": "BihSXuGmG6sN"
      },
      "source": [
        "# Оптимизация гиперпараметров"
      ]
    },
    {
      "cell_type": "code",
      "execution_count": 44,
      "metadata": {
        "id": "T4M4FdYw4lTo"
      },
      "outputs": [],
      "source": [
        "import optuna"
      ]
    },
    {
      "cell_type": "code",
      "execution_count": 47,
      "metadata": {
        "id": "Kg_IB9PE8O8e"
      },
      "outputs": [],
      "source": [
        "# Возьмем за основу оптимальный вариант (glove-twitter-100)\n",
        "embedding_name = embeddings_list[5][0]\n",
        "vector_dim = embeddings_list[5][1]\n",
        "\n",
        "current_embeddings = gensim.downloader.load(embedding_name)\n",
        "current_tokenizer = NLTK_Tokenizer(delete_punctuation=True, delete_stop_words=True)\n",
        "\n",
        "X, y, _ = transform_data(main_train, current_embeddings, current_tokenizer, vector_dim)"
      ]
    },
    {
      "cell_type": "code",
      "execution_count": 48,
      "metadata": {
        "colab": {
          "base_uri": "https://localhost:8080/"
        },
        "id": "moqBVlL-G95T",
        "outputId": "982534ef-d6da-40d4-a4e1-fbcf0c41f4e2"
      },
      "outputs": [
        {
          "name": "stderr",
          "output_type": "stream",
          "text": [
            "[I 2023-06-25 17:24:50,762] A new study created in memory with name: LGBMRanker\n"
          ]
        },
        {
          "name": "stdout",
          "output_type": "stream",
          "text": [
            "[1]\tvalid_0's ndcg@1: 0.575743\tvalid_0's ndcg@3: 0.632271\tvalid_0's ndcg@5: 0.821164\n",
            "[2]\tvalid_0's ndcg@1: 0.616585\tvalid_0's ndcg@3: 0.677058\tvalid_0's ndcg@5: 0.841023\n",
            "[3]\tvalid_0's ndcg@1: 0.634621\tvalid_0's ndcg@3: 0.703487\tvalid_0's ndcg@5: 0.85181\n",
            "[4]\tvalid_0's ndcg@1: 0.642885\tvalid_0's ndcg@3: 0.715278\tvalid_0's ndcg@5: 0.856636\n",
            "[5]\tvalid_0's ndcg@1: 0.649163\tvalid_0's ndcg@3: 0.722194\tvalid_0's ndcg@5: 0.859744\n",
            "[1]\tvalid_0's ndcg@1: 0.567816\tvalid_0's ndcg@3: 0.617989\tvalid_0's ndcg@5: 0.81605\n",
            "[2]\tvalid_0's ndcg@1: 0.619387\tvalid_0's ndcg@3: 0.681468\tvalid_0's ndcg@5: 0.842907\n",
            "[3]\tvalid_0's ndcg@1: 0.636394\tvalid_0's ndcg@3: 0.704204\tvalid_0's ndcg@5: 0.852379\n",
            "[4]\tvalid_0's ndcg@1: 0.642264\tvalid_0's ndcg@3: 0.715047\tvalid_0's ndcg@5: 0.856618\n"
          ]
        },
        {
          "name": "stderr",
          "output_type": "stream",
          "text": [
            "[I 2023-06-25 17:25:26,033] Trial 0 finished with value: 0.8594528732643594 and parameters: {'num_leaves': 42, 'learning_rate': 0.07943563076086084, 'max_depth': 7}. Best is trial 0 with value: 0.8594528732643594.\n"
          ]
        },
        {
          "name": "stdout",
          "output_type": "stream",
          "text": [
            "[5]\tvalid_0's ndcg@1: 0.645581\tvalid_0's ndcg@3: 0.721242\tvalid_0's ndcg@5: 0.859162\n",
            "[1]\tvalid_0's ndcg@1: 0.406948\tvalid_0's ndcg@3: 0.487549\tvalid_0's ndcg@5: 0.751683\n",
            "[2]\tvalid_0's ndcg@1: 0.523906\tvalid_0's ndcg@3: 0.572161\tvalid_0's ndcg@5: 0.795465\n",
            "[3]\tvalid_0's ndcg@1: 0.573083\tvalid_0's ndcg@3: 0.623845\tvalid_0's ndcg@5: 0.81841\n",
            "[4]\tvalid_0's ndcg@1: 0.589948\tvalid_0's ndcg@3: 0.639585\tvalid_0's ndcg@5: 0.825932\n",
            "[5]\tvalid_0's ndcg@1: 0.600074\tvalid_0's ndcg@3: 0.65142\tvalid_0's ndcg@5: 0.830996\n",
            "[1]\tvalid_0's ndcg@1: 0.403969\tvalid_0's ndcg@3: 0.485781\tvalid_0's ndcg@5: 0.75082\n",
            "[2]\tvalid_0's ndcg@1: 0.516298\tvalid_0's ndcg@3: 0.57119\tvalid_0's ndcg@5: 0.793902\n",
            "[3]\tvalid_0's ndcg@1: 0.566947\tvalid_0's ndcg@3: 0.623702\tvalid_0's ndcg@5: 0.817449\n",
            "[4]\tvalid_0's ndcg@1: 0.590055\tvalid_0's ndcg@3: 0.646224\tvalid_0's ndcg@5: 0.827569\n"
          ]
        },
        {
          "name": "stderr",
          "output_type": "stream",
          "text": [
            "[I 2023-06-25 17:25:56,508] Trial 1 finished with value: 0.8311595731078227 and parameters: {'num_leaves': 4, 'learning_rate': 0.037973867519668116, 'max_depth': -1}. Best is trial 0 with value: 0.8594528732643594.\n"
          ]
        },
        {
          "name": "stdout",
          "output_type": "stream",
          "text": [
            "[5]\tvalid_0's ndcg@1: 0.598833\tvalid_0's ndcg@3: 0.653744\tvalid_0's ndcg@5: 0.831323\n",
            "[1]\tvalid_0's ndcg@1: 0.454334\tvalid_0's ndcg@3: 0.501769\tvalid_0's ndcg@5: 0.763367\n",
            "[2]\tvalid_0's ndcg@1: 0.533748\tvalid_0's ndcg@3: 0.571132\tvalid_0's ndcg@5: 0.796655\n",
            "[3]\tvalid_0's ndcg@1: 0.578403\tvalid_0's ndcg@3: 0.619414\tvalid_0's ndcg@5: 0.817995\n",
            "[4]\tvalid_0's ndcg@1: 0.597521\tvalid_0's ndcg@3: 0.646399\tvalid_0's ndcg@5: 0.829155\n",
            "[5]\tvalid_0's ndcg@1: 0.612293\tvalid_0's ndcg@3: 0.668362\tvalid_0's ndcg@5: 0.838063\n",
            "[1]\tvalid_0's ndcg@1: 0.449723\tvalid_0's ndcg@3: 0.499992\tvalid_0's ndcg@5: 0.762222\n",
            "[2]\tvalid_0's ndcg@1: 0.54125\tvalid_0's ndcg@3: 0.57661\tvalid_0's ndcg@5: 0.799466\n",
            "[3]\tvalid_0's ndcg@1: 0.584256\tvalid_0's ndcg@3: 0.628401\tvalid_0's ndcg@5: 0.821604\n",
            "[4]\tvalid_0's ndcg@1: 0.603497\tvalid_0's ndcg@3: 0.650708\tvalid_0's ndcg@5: 0.831268\n"
          ]
        },
        {
          "name": "stderr",
          "output_type": "stream",
          "text": [
            "[I 2023-06-25 17:26:27,212] Trial 2 finished with value: 0.8372262391512283 and parameters: {'num_leaves': 46, 'learning_rate': 0.04366256072523495, 'max_depth': 3}. Best is trial 0 with value: 0.8594528732643594.\n"
          ]
        },
        {
          "name": "stdout",
          "output_type": "stream",
          "text": [
            "[5]\tvalid_0's ndcg@1: 0.614439\tvalid_0's ndcg@3: 0.662043\tvalid_0's ndcg@5: 0.836389\n",
            "[1]\tvalid_0's ndcg@1: 0.505409\tvalid_0's ndcg@3: 0.543129\tvalid_0's ndcg@5: 0.783939\n",
            "[2]\tvalid_0's ndcg@1: 0.567408\tvalid_0's ndcg@3: 0.605339\tvalid_0's ndcg@5: 0.812185\n",
            "[3]\tvalid_0's ndcg@1: 0.600252\tvalid_0's ndcg@3: 0.647198\tvalid_0's ndcg@5: 0.829946\n",
            "[4]\tvalid_0's ndcg@1: 0.615681\tvalid_0's ndcg@3: 0.667523\tvalid_0's ndcg@5: 0.838234\n",
            "[5]\tvalid_0's ndcg@1: 0.627509\tvalid_0's ndcg@3: 0.685888\tvalid_0's ndcg@5: 0.845586\n",
            "[1]\tvalid_0's ndcg@1: 0.50133\tvalid_0's ndcg@3: 0.541848\tvalid_0's ndcg@5: 0.782808\n",
            "[2]\tvalid_0's ndcg@1: 0.575176\tvalid_0's ndcg@3: 0.613134\tvalid_0's ndcg@5: 0.815647\n",
            "[3]\tvalid_0's ndcg@1: 0.601227\tvalid_0's ndcg@3: 0.646977\tvalid_0's ndcg@5: 0.829843\n",
            "[4]\tvalid_0's ndcg@1: 0.61529\tvalid_0's ndcg@3: 0.662932\tvalid_0's ndcg@5: 0.836768\n"
          ]
        },
        {
          "name": "stderr",
          "output_type": "stream",
          "text": [
            "[I 2023-06-25 17:26:58,612] Trial 3 finished with value: 0.8451122320749807 and parameters: {'num_leaves': 37, 'learning_rate': 0.0316491640815509, 'max_depth': 4}. Best is trial 0 with value: 0.8594528732643594.\n"
          ]
        },
        {
          "name": "stdout",
          "output_type": "stream",
          "text": [
            "[5]\tvalid_0's ndcg@1: 0.625222\tvalid_0's ndcg@3: 0.684143\tvalid_0's ndcg@5: 0.844639\n",
            "[1]\tvalid_0's ndcg@1: 0.557335\tvalid_0's ndcg@3: 0.635525\tvalid_0's ndcg@5: 0.819142\n",
            "[2]\tvalid_0's ndcg@1: 0.608924\tvalid_0's ndcg@3: 0.684746\tvalid_0's ndcg@5: 0.842127\n",
            "[3]\tvalid_0's ndcg@1: 0.612329\tvalid_0's ndcg@3: 0.688883\tvalid_0's ndcg@5: 0.843925\n",
            "[4]\tvalid_0's ndcg@1: 0.623235\tvalid_0's ndcg@3: 0.699403\tvalid_0's ndcg@5: 0.848835\n",
            "[5]\tvalid_0's ndcg@1: 0.624725\tvalid_0's ndcg@3: 0.70143\tvalid_0's ndcg@5: 0.84962\n",
            "[1]\tvalid_0's ndcg@1: 0.554143\tvalid_0's ndcg@3: 0.621055\tvalid_0's ndcg@5: 0.814642\n",
            "[2]\tvalid_0's ndcg@1: 0.600642\tvalid_0's ndcg@3: 0.672061\tvalid_0's ndcg@5: 0.837058\n",
            "[3]\tvalid_0's ndcg@1: 0.612293\tvalid_0's ndcg@3: 0.682699\tvalid_0's ndcg@5: 0.842034\n",
            "[4]\tvalid_0's ndcg@1: 0.618429\tvalid_0's ndcg@3: 0.692168\tvalid_0's ndcg@5: 0.845944\n"
          ]
        },
        {
          "name": "stderr",
          "output_type": "stream",
          "text": [
            "[I 2023-06-25 17:27:32,386] Trial 4 finished with value: 0.8494536854071624 and parameters: {'num_leaves': 19, 'learning_rate': 0.013262301884082164, 'max_depth': 8}. Best is trial 0 with value: 0.8594528732643594.\n"
          ]
        },
        {
          "name": "stdout",
          "output_type": "stream",
          "text": [
            "[5]\tvalid_0's ndcg@1: 0.625647\tvalid_0's ndcg@3: 0.699831\tvalid_0's ndcg@5: 0.849287\n",
            "[1]\tvalid_0's ndcg@1: 0.534387\tvalid_0's ndcg@3: 0.576087\tvalid_0's ndcg@5: 0.798284\n",
            "[2]\tvalid_0's ndcg@1: 0.591367\tvalid_0's ndcg@3: 0.642394\tvalid_0's ndcg@5: 0.826754\n",
            "[3]\tvalid_0's ndcg@1: 0.615149\tvalid_0's ndcg@3: 0.67461\tvalid_0's ndcg@5: 0.840203\n",
            "[4]\tvalid_0's ndcg@1: 0.628928\tvalid_0's ndcg@3: 0.693891\tvalid_0's ndcg@5: 0.848128\n",
            "[5]\tvalid_0's ndcg@1: 0.63815\tvalid_0's ndcg@3: 0.704021\tvalid_0's ndcg@5: 0.852565\n",
            "[1]\tvalid_0's ndcg@1: 0.533323\tvalid_0's ndcg@3: 0.572476\tvalid_0's ndcg@5: 0.796986\n",
            "[2]\tvalid_0's ndcg@1: 0.599844\tvalid_0's ndcg@3: 0.641574\tvalid_0's ndcg@5: 0.828078\n",
            "[3]\tvalid_0's ndcg@1: 0.623785\tvalid_0's ndcg@3: 0.674857\tvalid_0's ndcg@5: 0.841713\n",
            "[4]\tvalid_0's ndcg@1: 0.634514\tvalid_0's ndcg@3: 0.695244\tvalid_0's ndcg@5: 0.849666\n"
          ]
        },
        {
          "name": "stderr",
          "output_type": "stream",
          "text": [
            "[I 2023-06-25 17:28:03,619] Trial 5 finished with value: 0.8539030177165285 and parameters: {'num_leaves': 41, 'learning_rate': 0.0767155358238994, 'max_depth': 5}. Best is trial 0 with value: 0.8594528732643594.\n"
          ]
        },
        {
          "name": "stdout",
          "output_type": "stream",
          "text": [
            "[5]\tvalid_0's ndcg@1: 0.644375\tvalid_0's ndcg@3: 0.710041\tvalid_0's ndcg@5: 0.855241\n",
            "[1]\tvalid_0's ndcg@1: 0.560988\tvalid_0's ndcg@3: 0.627097\tvalid_0's ndcg@5: 0.817338\n",
            "[2]\tvalid_0's ndcg@1: 0.605377\tvalid_0's ndcg@3: 0.668611\tvalid_0's ndcg@5: 0.836774\n",
            "[3]\tvalid_0's ndcg@1: 0.622012\tvalid_0's ndcg@3: 0.693409\tvalid_0's ndcg@5: 0.846772\n",
            "[4]\tvalid_0's ndcg@1: 0.630045\tvalid_0's ndcg@3: 0.70566\tvalid_0's ndcg@5: 0.851707\n",
            "[5]\tvalid_0's ndcg@1: 0.63251\tvalid_0's ndcg@3: 0.708999\tvalid_0's ndcg@5: 0.85309\n",
            "[1]\tvalid_0's ndcg@1: 0.554959\tvalid_0's ndcg@3: 0.613508\tvalid_0's ndcg@5: 0.812599\n",
            "[2]\tvalid_0's ndcg@1: 0.612471\tvalid_0's ndcg@3: 0.670072\tvalid_0's ndcg@5: 0.838444\n",
            "[3]\tvalid_0's ndcg@1: 0.629371\tvalid_0's ndcg@3: 0.693606\tvalid_0's ndcg@5: 0.848169\n",
            "[4]\tvalid_0's ndcg@1: 0.635774\tvalid_0's ndcg@3: 0.70609\tvalid_0's ndcg@5: 0.852786\n"
          ]
        },
        {
          "name": "stderr",
          "output_type": "stream",
          "text": [
            "[I 2023-06-25 17:28:34,876] Trial 6 finished with value: 0.8539922687127308 and parameters: {'num_leaves': 23, 'learning_rate': 0.024438685459267064, 'max_depth': 7}. Best is trial 0 with value: 0.8594528732643594.\n"
          ]
        },
        {
          "name": "stdout",
          "output_type": "stream",
          "text": [
            "[5]\tvalid_0's ndcg@1: 0.639019\tvalid_0's ndcg@3: 0.71091\tvalid_0's ndcg@5: 0.854894\n",
            "[1]\tvalid_0's ndcg@1: 0.578385\tvalid_0's ndcg@3: 0.67697\tvalid_0's ndcg@5: 0.835106\n",
            "[2]\tvalid_0's ndcg@1: 0.613694\tvalid_0's ndcg@3: 0.707132\tvalid_0's ndcg@5: 0.849938\n",
            "[3]\tvalid_0's ndcg@1: 0.623271\tvalid_0's ndcg@3: 0.713497\tvalid_0's ndcg@5: 0.853459\n",
            "[4]\tvalid_0's ndcg@1: 0.629265\tvalid_0's ndcg@3: 0.718371\tvalid_0's ndcg@5: 0.855998\n",
            "[5]\tvalid_0's ndcg@1: 0.636784\tvalid_0's ndcg@3: 0.723606\tvalid_0's ndcg@5: 0.858626\n",
            "[1]\tvalid_0's ndcg@1: 0.584078\tvalid_0's ndcg@3: 0.680569\tvalid_0's ndcg@5: 0.837161\n",
            "[2]\tvalid_0's ndcg@1: 0.62015\tvalid_0's ndcg@3: 0.711202\tvalid_0's ndcg@5: 0.852195\n",
            "[3]\tvalid_0's ndcg@1: 0.636979\tvalid_0's ndcg@3: 0.720443\tvalid_0's ndcg@5: 0.857818\n",
            "[4]\tvalid_0's ndcg@1: 0.643949\tvalid_0's ndcg@3: 0.726462\tvalid_0's ndcg@5: 0.860638\n"
          ]
        },
        {
          "name": "stderr",
          "output_type": "stream",
          "text": [
            "[I 2023-06-25 17:29:07,672] Trial 7 finished with value: 0.8602425514530663 and parameters: {'num_leaves': 45, 'learning_rate': 0.02147740963433883, 'max_depth': -1}. Best is trial 7 with value: 0.8602425514530663.\n"
          ]
        },
        {
          "name": "stdout",
          "output_type": "stream",
          "text": [
            "[5]\tvalid_0's ndcg@1: 0.646964\tvalid_0's ndcg@3: 0.728562\tvalid_0's ndcg@5: 0.861859\n",
            "[1]\tvalid_0's ndcg@1: 0.448411\tvalid_0's ndcg@3: 0.500197\tvalid_0's ndcg@5: 0.761997\n",
            "[2]\tvalid_0's ndcg@1: 0.511687\tvalid_0's ndcg@3: 0.54402\tvalid_0's ndcg@5: 0.785155\n",
            "[3]\tvalid_0's ndcg@1: 0.553735\tvalid_0's ndcg@3: 0.587316\tvalid_0's ndcg@5: 0.804849\n",
            "[4]\tvalid_0's ndcg@1: 0.565386\tvalid_0's ndcg@3: 0.59824\tvalid_0's ndcg@5: 0.809993\n",
            "[5]\tvalid_0's ndcg@1: 0.579254\tvalid_0's ndcg@3: 0.619987\tvalid_0's ndcg@5: 0.818584\n",
            "[1]\tvalid_0's ndcg@1: 0.44552\tvalid_0's ndcg@3: 0.498738\tvalid_0's ndcg@5: 0.761191\n",
            "[2]\tvalid_0's ndcg@1: 0.534032\tvalid_0's ndcg@3: 0.571395\tvalid_0's ndcg@5: 0.797033\n",
            "[3]\tvalid_0's ndcg@1: 0.56943\tvalid_0's ndcg@3: 0.609348\tvalid_0's ndcg@5: 0.813861\n",
            "[4]\tvalid_0's ndcg@1: 0.57365\tvalid_0's ndcg@3: 0.611659\tvalid_0's ndcg@5: 0.815269\n"
          ]
        },
        {
          "name": "stderr",
          "output_type": "stream",
          "text": [
            "[I 2023-06-25 17:29:38,058] Trial 8 finished with value: 0.8169209302830034 and parameters: {'num_leaves': 6, 'learning_rate': 0.013278311813162847, 'max_depth': 3}. Best is trial 7 with value: 0.8602425514530663.\n"
          ]
        },
        {
          "name": "stdout",
          "output_type": "stream",
          "text": [
            "[5]\tvalid_0's ndcg@1: 0.572285\tvalid_0's ndcg@3: 0.612333\tvalid_0's ndcg@5: 0.815258\n",
            "[1]\tvalid_0's ndcg@1: 0.505409\tvalid_0's ndcg@3: 0.543129\tvalid_0's ndcg@5: 0.783939\n",
            "[2]\tvalid_0's ndcg@1: 0.567106\tvalid_0's ndcg@3: 0.605289\tvalid_0's ndcg@5: 0.812131\n",
            "[3]\tvalid_0's ndcg@1: 0.597964\tvalid_0's ndcg@3: 0.640512\tvalid_0's ndcg@5: 0.827463\n",
            "[4]\tvalid_0's ndcg@1: 0.616301\tvalid_0's ndcg@3: 0.667392\tvalid_0's ndcg@5: 0.838016\n",
            "[5]\tvalid_0's ndcg@1: 0.628272\tvalid_0's ndcg@3: 0.687683\tvalid_0's ndcg@5: 0.846\n",
            "[1]\tvalid_0's ndcg@1: 0.50133\tvalid_0's ndcg@3: 0.541848\tvalid_0's ndcg@5: 0.782808\n",
            "[2]\tvalid_0's ndcg@1: 0.573668\tvalid_0's ndcg@3: 0.610104\tvalid_0's ndcg@5: 0.814487\n",
            "[3]\tvalid_0's ndcg@1: 0.600979\tvalid_0's ndcg@3: 0.645425\tvalid_0's ndcg@5: 0.829442\n",
            "[4]\tvalid_0's ndcg@1: 0.616319\tvalid_0's ndcg@3: 0.662113\tvalid_0's ndcg@5: 0.836777\n"
          ]
        },
        {
          "name": "stderr",
          "output_type": "stream",
          "text": [
            "[I 2023-06-25 17:30:09,794] Trial 9 finished with value: 0.8431914178837996 and parameters: {'num_leaves': 47, 'learning_rate': 0.02667474180350113, 'max_depth': 4}. Best is trial 7 with value: 0.8602425514530663.\n"
          ]
        },
        {
          "name": "stdout",
          "output_type": "stream",
          "text": [
            "[5]\tvalid_0's ndcg@1: 0.620806\tvalid_0's ndcg@3: 0.671969\tvalid_0's ndcg@5: 0.840382\n",
            "[1]\tvalid_0's ndcg@1: 0.572267\tvalid_0's ndcg@3: 0.668515\tvalid_0's ndcg@5: 0.831384\n",
            "[2]\tvalid_0's ndcg@1: 0.599879\tvalid_0's ndcg@3: 0.695687\tvalid_0's ndcg@5: 0.844052\n",
            "[3]\tvalid_0's ndcg@1: 0.607523\tvalid_0's ndcg@3: 0.701758\tvalid_0's ndcg@5: 0.847142\n",
            "[4]\tvalid_0's ndcg@1: 0.611229\tvalid_0's ndcg@3: 0.702384\tvalid_0's ndcg@5: 0.848015\n",
            "[5]\tvalid_0's ndcg@1: 0.614546\tvalid_0's ndcg@3: 0.70579\tvalid_0's ndcg@5: 0.849499\n",
            "[1]\tvalid_0's ndcg@1: 0.573083\tvalid_0's ndcg@3: 0.670912\tvalid_0's ndcg@5: 0.832363\n",
            "[2]\tvalid_0's ndcg@1: 0.59745\tvalid_0's ndcg@3: 0.691697\tvalid_0's ndcg@5: 0.842648\n",
            "[3]\tvalid_0's ndcg@1: 0.611247\tvalid_0's ndcg@3: 0.700097\tvalid_0's ndcg@5: 0.847318\n",
            "[4]\tvalid_0's ndcg@1: 0.622845\tvalid_0's ndcg@3: 0.711529\tvalid_0's ndcg@5: 0.852419\n"
          ]
        },
        {
          "name": "stderr",
          "output_type": "stream",
          "text": [
            "[I 2023-06-25 17:30:42,900] Trial 10 finished with value: 0.851042738679063 and parameters: {'num_leaves': 32, 'learning_rate': 0.01033778195771495, 'max_depth': -1}. Best is trial 7 with value: 0.8602425514530663.\n"
          ]
        },
        {
          "name": "stdout",
          "output_type": "stream",
          "text": [
            "[5]\tvalid_0's ndcg@1: 0.623147\tvalid_0's ndcg@3: 0.711906\tvalid_0's ndcg@5: 0.852586\n",
            "[1]\tvalid_0's ndcg@1: 0.574041\tvalid_0's ndcg@3: 0.654651\tvalid_0's ndcg@5: 0.827548\n",
            "[2]\tvalid_0's ndcg@1: 0.619955\tvalid_0's ndcg@3: 0.699434\tvalid_0's ndcg@5: 0.848258\n",
            "[3]\tvalid_0's ndcg@1: 0.634319\tvalid_0's ndcg@3: 0.713696\tvalid_0's ndcg@5: 0.855093\n",
            "[4]\tvalid_0's ndcg@1: 0.643453\tvalid_0's ndcg@3: 0.723043\tvalid_0's ndcg@5: 0.859154\n",
            "[5]\tvalid_0's ndcg@1: 0.646024\tvalid_0's ndcg@3: 0.726357\tvalid_0's ndcg@5: 0.86076\n",
            "[1]\tvalid_0's ndcg@1: 0.577712\tvalid_0's ndcg@3: 0.6505\tvalid_0's ndcg@5: 0.827031\n",
            "[2]\tvalid_0's ndcg@1: 0.629567\tvalid_0's ndcg@3: 0.701663\tvalid_0's ndcg@5: 0.850602\n",
            "[3]\tvalid_0's ndcg@1: 0.64308\tvalid_0's ndcg@3: 0.717497\tvalid_0's ndcg@5: 0.857576\n",
            "[4]\tvalid_0's ndcg@1: 0.649606\tvalid_0's ndcg@3: 0.725955\tvalid_0's ndcg@5: 0.861219\n"
          ]
        },
        {
          "name": "stderr",
          "output_type": "stream",
          "text": [
            "[I 2023-06-25 17:31:14,616] Trial 11 finished with value: 0.8622600261616746 and parameters: {'num_leaves': 32, 'learning_rate': 0.09283697190488013, 'max_depth': 10}. Best is trial 11 with value: 0.8622600261616746.\n"
          ]
        },
        {
          "name": "stdout",
          "output_type": "stream",
          "text": [
            "[5]\tvalid_0's ndcg@1: 0.655441\tvalid_0's ndcg@3: 0.732489\tvalid_0's ndcg@5: 0.86376\n",
            "[1]\tvalid_0's ndcg@1: 0.573065\tvalid_0's ndcg@3: 0.654321\tvalid_0's ndcg@5: 0.827257\n",
            "[2]\tvalid_0's ndcg@1: 0.62093\tvalid_0's ndcg@3: 0.697638\tvalid_0's ndcg@5: 0.847813\n",
            "[3]\tvalid_0's ndcg@1: 0.634727\tvalid_0's ndcg@3: 0.71346\tvalid_0's ndcg@5: 0.854878\n",
            "[4]\tvalid_0's ndcg@1: 0.644215\tvalid_0's ndcg@3: 0.722381\tvalid_0's ndcg@5: 0.858993\n",
            "[5]\tvalid_0's ndcg@1: 0.650333\tvalid_0's ndcg@3: 0.727453\tvalid_0's ndcg@5: 0.861626\n",
            "[1]\tvalid_0's ndcg@1: 0.576807\tvalid_0's ndcg@3: 0.649911\tvalid_0's ndcg@5: 0.826706\n",
            "[2]\tvalid_0's ndcg@1: 0.628875\tvalid_0's ndcg@3: 0.701775\tvalid_0's ndcg@5: 0.850426\n",
            "[3]\tvalid_0's ndcg@1: 0.640934\tvalid_0's ndcg@3: 0.716519\tvalid_0's ndcg@5: 0.857081\n",
            "[4]\tvalid_0's ndcg@1: 0.647797\tvalid_0's ndcg@3: 0.72556\tvalid_0's ndcg@5: 0.860785\n"
          ]
        },
        {
          "name": "stderr",
          "output_type": "stream",
          "text": [
            "[I 2023-06-25 17:31:48,500] Trial 12 finished with value: 0.8622288033140986 and parameters: {'num_leaves': 31, 'learning_rate': 0.08759095625723963, 'max_depth': 10}. Best is trial 11 with value: 0.8622600261616746.\n"
          ]
        },
        {
          "name": "stdout",
          "output_type": "stream",
          "text": [
            "[5]\tvalid_0's ndcg@1: 0.652426\tvalid_0's ndcg@3: 0.730221\tvalid_0's ndcg@5: 0.862832\n",
            "[1]\tvalid_0's ndcg@1: 0.571505\tvalid_0's ndcg@3: 0.653384\tvalid_0's ndcg@5: 0.826745\n",
            "[2]\tvalid_0's ndcg@1: 0.621533\tvalid_0's ndcg@3: 0.699078\tvalid_0's ndcg@5: 0.848454\n",
            "[3]\tvalid_0's ndcg@1: 0.633628\tvalid_0's ndcg@3: 0.715445\tvalid_0's ndcg@5: 0.855324\n",
            "[4]\tvalid_0's ndcg@1: 0.643594\tvalid_0's ndcg@3: 0.722625\tvalid_0's ndcg@5: 0.859164\n",
            "[5]\tvalid_0's ndcg@1: 0.648188\tvalid_0's ndcg@3: 0.728012\tvalid_0's ndcg@5: 0.861591\n",
            "[1]\tvalid_0's ndcg@1: 0.573597\tvalid_0's ndcg@3: 0.648493\tvalid_0's ndcg@5: 0.825775\n",
            "[2]\tvalid_0's ndcg@1: 0.626765\tvalid_0's ndcg@3: 0.700809\tvalid_0's ndcg@5: 0.849877\n",
            "[3]\tvalid_0's ndcg@1: 0.638256\tvalid_0's ndcg@3: 0.717931\tvalid_0's ndcg@5: 0.856842\n",
            "[4]\tvalid_0's ndcg@1: 0.644481\tvalid_0's ndcg@3: 0.72545\tvalid_0's ndcg@5: 0.86031\n"
          ]
        },
        {
          "name": "stderr",
          "output_type": "stream",
          "text": [
            "[I 2023-06-25 17:32:20,971] Trial 13 finished with value: 0.8620728901036476 and parameters: {'num_leaves': 29, 'learning_rate': 0.0997247438035498, 'max_depth': 10}. Best is trial 11 with value: 0.8622600261616746.\n"
          ]
        },
        {
          "name": "stdout",
          "output_type": "stream",
          "text": [
            "[5]\tvalid_0's ndcg@1: 0.650067\tvalid_0's ndcg@3: 0.729805\tvalid_0's ndcg@5: 0.862555\n",
            "[1]\tvalid_0's ndcg@1: 0.540399\tvalid_0's ndcg@3: 0.636928\tvalid_0's ndcg@5: 0.816886\n",
            "[2]\tvalid_0's ndcg@1: 0.607487\tvalid_0's ndcg@3: 0.690599\tvalid_0's ndcg@5: 0.843373\n",
            "[3]\tvalid_0's ndcg@1: 0.626357\tvalid_0's ndcg@3: 0.70715\tvalid_0's ndcg@5: 0.851309\n",
            "[4]\tvalid_0's ndcg@1: 0.637015\tvalid_0's ndcg@3: 0.716292\tvalid_0's ndcg@5: 0.855971\n",
            "[5]\tvalid_0's ndcg@1: 0.640172\tvalid_0's ndcg@3: 0.722728\tvalid_0's ndcg@5: 0.858561\n",
            "[1]\tvalid_0's ndcg@1: 0.545134\tvalid_0's ndcg@3: 0.633699\tvalid_0's ndcg@5: 0.816797\n",
            "[2]\tvalid_0's ndcg@1: 0.616301\tvalid_0's ndcg@3: 0.693896\tvalid_0's ndcg@5: 0.846227\n",
            "[3]\tvalid_0's ndcg@1: 0.631535\tvalid_0's ndcg@3: 0.710693\tvalid_0's ndcg@5: 0.853555\n",
            "[4]\tvalid_0's ndcg@1: 0.63721\tvalid_0's ndcg@3: 0.718627\tvalid_0's ndcg@5: 0.856835\n"
          ]
        },
        {
          "name": "stderr",
          "output_type": "stream",
          "text": [
            "[I 2023-06-25 17:32:53,514] Trial 14 finished with value: 0.8588506849627229 and parameters: {'num_leaves': 15, 'learning_rate': 0.05788463233139148, 'max_depth': 10}. Best is trial 11 with value: 0.8622600261616746.\n"
          ]
        },
        {
          "name": "stdout",
          "output_type": "stream",
          "text": [
            "[5]\tvalid_0's ndcg@1: 0.643009\tvalid_0's ndcg@3: 0.723154\tvalid_0's ndcg@5: 0.85914\n",
            "[1]\tvalid_0's ndcg@1: 0.573384\tvalid_0's ndcg@3: 0.650692\tvalid_0's ndcg@5: 0.826349\n",
            "[2]\tvalid_0's ndcg@1: 0.619582\tvalid_0's ndcg@3: 0.693354\tvalid_0's ndcg@5: 0.846346\n",
            "[3]\tvalid_0's ndcg@1: 0.637352\tvalid_0's ndcg@3: 0.710447\tvalid_0's ndcg@5: 0.854412\n",
            "[4]\tvalid_0's ndcg@1: 0.64292\tvalid_0's ndcg@3: 0.718346\tvalid_0's ndcg@5: 0.857813\n",
            "[5]\tvalid_0's ndcg@1: 0.646308\tvalid_0's ndcg@3: 0.723173\tvalid_0's ndcg@5: 0.859732\n",
            "[1]\tvalid_0's ndcg@1: 0.573296\tvalid_0's ndcg@3: 0.641742\tvalid_0's ndcg@5: 0.823763\n",
            "[2]\tvalid_0's ndcg@1: 0.627793\tvalid_0's ndcg@3: 0.693447\tvalid_0's ndcg@5: 0.847644\n",
            "[3]\tvalid_0's ndcg@1: 0.635596\tvalid_0's ndcg@3: 0.70836\tvalid_0's ndcg@5: 0.853553\n",
            "[4]\tvalid_0's ndcg@1: 0.644978\tvalid_0's ndcg@3: 0.721051\tvalid_0's ndcg@5: 0.858611\n"
          ]
        },
        {
          "name": "stderr",
          "output_type": "stream",
          "text": [
            "[I 2023-06-25 17:33:25,346] Trial 15 finished with value: 0.860324410991065 and parameters: {'num_leaves': 33, 'learning_rate': 0.054470167676291814, 'max_depth': 9}. Best is trial 11 with value: 0.8622600261616746.\n"
          ]
        },
        {
          "name": "stdout",
          "output_type": "stream",
          "text": [
            "[5]\tvalid_0's ndcg@1: 0.648684\tvalid_0's ndcg@3: 0.725942\tvalid_0's ndcg@5: 0.860917\n",
            "[1]\tvalid_0's ndcg@1: 0.553948\tvalid_0's ndcg@3: 0.605273\tvalid_0's ndcg@5: 0.809869\n",
            "[2]\tvalid_0's ndcg@1: 0.609438\tvalid_0's ndcg@3: 0.672652\tvalid_0's ndcg@5: 0.838659\n",
            "[3]\tvalid_0's ndcg@1: 0.627172\tvalid_0's ndcg@3: 0.695469\tvalid_0's ndcg@5: 0.848459\n",
            "[4]\tvalid_0's ndcg@1: 0.639054\tvalid_0's ndcg@3: 0.709526\tvalid_0's ndcg@5: 0.854198\n",
            "[5]\tvalid_0's ndcg@1: 0.642211\tvalid_0's ndcg@3: 0.717057\tvalid_0's ndcg@5: 0.85718\n",
            "[1]\tvalid_0's ndcg@1: 0.551039\tvalid_0's ndcg@3: 0.599136\tvalid_0's ndcg@5: 0.807657\n",
            "[2]\tvalid_0's ndcg@1: 0.610006\tvalid_0's ndcg@3: 0.667347\tvalid_0's ndcg@5: 0.837178\n",
            "[3]\tvalid_0's ndcg@1: 0.631216\tvalid_0's ndcg@3: 0.694862\tvalid_0's ndcg@5: 0.848866\n",
            "[4]\tvalid_0's ndcg@1: 0.640367\tvalid_0's ndcg@3: 0.709844\tvalid_0's ndcg@5: 0.85491\n"
          ]
        },
        {
          "name": "stderr",
          "output_type": "stream",
          "text": [
            "[I 2023-06-25 17:33:56,505] Trial 16 finished with value: 0.8576913918232738 and parameters: {'num_leaves': 25, 'learning_rate': 0.09814335860338301, 'max_depth': 6}. Best is trial 11 with value: 0.8622600261616746.\n"
          ]
        },
        {
          "name": "stdout",
          "output_type": "stream",
          "text": [
            "[5]\tvalid_0's ndcg@1: 0.645722\tvalid_0's ndcg@3: 0.71806\tvalid_0's ndcg@5: 0.858202\n",
            "[1]\tvalid_0's ndcg@1: 0.535327\tvalid_0's ndcg@3: 0.630445\tvalid_0's ndcg@5: 0.814216\n",
            "[2]\tvalid_0's ndcg@1: 0.608285\tvalid_0's ndcg@3: 0.686763\tvalid_0's ndcg@5: 0.842496\n",
            "[3]\tvalid_0's ndcg@1: 0.62453\tvalid_0's ndcg@3: 0.706086\tvalid_0's ndcg@5: 0.851039\n",
            "[4]\tvalid_0's ndcg@1: 0.634142\tvalid_0's ndcg@3: 0.714595\tvalid_0's ndcg@5: 0.854914\n",
            "[5]\tvalid_0's ndcg@1: 0.643222\tvalid_0's ndcg@3: 0.72153\tvalid_0's ndcg@5: 0.858721\n",
            "[1]\tvalid_0's ndcg@1: 0.536816\tvalid_0's ndcg@3: 0.623149\tvalid_0's ndcg@5: 0.812312\n",
            "[2]\tvalid_0's ndcg@1: 0.610839\tvalid_0's ndcg@3: 0.685928\tvalid_0's ndcg@5: 0.842813\n",
            "[3]\tvalid_0's ndcg@1: 0.629176\tvalid_0's ndcg@3: 0.703832\tvalid_0's ndcg@5: 0.851212\n",
            "[4]\tvalid_0's ndcg@1: 0.642637\tvalid_0's ndcg@3: 0.717678\tvalid_0's ndcg@5: 0.857425\n"
          ]
        },
        {
          "name": "stderr",
          "output_type": "stream",
          "text": [
            "[I 2023-06-25 17:34:27,574] Trial 17 finished with value: 0.859168583952281 and parameters: {'num_leaves': 13, 'learning_rate': 0.06745354368747779, 'max_depth': 9}. Best is trial 11 with value: 0.8622600261616746.\n"
          ]
        },
        {
          "name": "stdout",
          "output_type": "stream",
          "text": [
            "[5]\tvalid_0's ndcg@1: 0.646148\tvalid_0's ndcg@3: 0.722532\tvalid_0's ndcg@5: 0.859616\n",
            "[1]\tvalid_0's ndcg@1: 0.221944\tvalid_0's ndcg@3: 0.341968\tvalid_0's ndcg@5: 0.677834\n",
            "[2]\tvalid_0's ndcg@1: 0.341136\tvalid_0's ndcg@3: 0.412174\tvalid_0's ndcg@5: 0.718251\n",
            "[3]\tvalid_0's ndcg@1: 0.395315\tvalid_0's ndcg@3: 0.445207\tvalid_0's ndcg@5: 0.736852\n",
            "[4]\tvalid_0's ndcg@1: 0.462244\tvalid_0's ndcg@3: 0.501406\tvalid_0's ndcg@5: 0.764519\n",
            "[5]\tvalid_0's ndcg@1: 0.498705\tvalid_0's ndcg@3: 0.532231\tvalid_0's ndcg@5: 0.77964\n",
            "[1]\tvalid_0's ndcg@1: 0.221075\tvalid_0's ndcg@3: 0.341504\tvalid_0's ndcg@5: 0.677557\n",
            "[2]\tvalid_0's ndcg@1: 0.304267\tvalid_0's ndcg@3: 0.384823\tvalid_0's ndcg@5: 0.703906\n",
            "[3]\tvalid_0's ndcg@1: 0.395793\tvalid_0's ndcg@3: 0.444968\tvalid_0's ndcg@5: 0.73669\n",
            "[4]\tvalid_0's ndcg@1: 0.450309\tvalid_0's ndcg@3: 0.483346\tvalid_0's ndcg@5: 0.75701\n"
          ]
        },
        {
          "name": "stderr",
          "output_type": "stream",
          "text": [
            "[I 2023-06-25 17:34:57,810] Trial 18 finished with value: 0.7764422402702134 and parameters: {'num_leaves': 37, 'learning_rate': 0.052564783367834246, 'max_depth': 1}. Best is trial 11 with value: 0.8622600261616746.\n"
          ]
        },
        {
          "name": "stdout",
          "output_type": "stream",
          "text": [
            "[5]\tvalid_0's ndcg@1: 0.489856\tvalid_0's ndcg@3: 0.51628\tvalid_0's ndcg@5: 0.773244\n",
            "[1]\tvalid_0's ndcg@1: 0.569057\tvalid_0's ndcg@3: 0.64078\tvalid_0's ndcg@5: 0.822703\n",
            "[2]\tvalid_0's ndcg@1: 0.616\tvalid_0's ndcg@3: 0.685232\tvalid_0's ndcg@5: 0.843464\n",
            "[3]\tvalid_0's ndcg@1: 0.63377\tvalid_0's ndcg@3: 0.706603\tvalid_0's ndcg@5: 0.852579\n",
            "[4]\tvalid_0's ndcg@1: 0.641484\tvalid_0's ndcg@3: 0.718532\tvalid_0's ndcg@5: 0.857242\n",
            "[5]\tvalid_0's ndcg@1: 0.646733\tvalid_0's ndcg@3: 0.722056\tvalid_0's ndcg@5: 0.859345\n",
            "[1]\tvalid_0's ndcg@1: 0.565989\tvalid_0's ndcg@3: 0.627639\tvalid_0's ndcg@5: 0.81849\n",
            "[2]\tvalid_0's ndcg@1: 0.624477\tvalid_0's ndcg@3: 0.690213\tvalid_0's ndcg@5: 0.846313\n",
            "[3]\tvalid_0's ndcg@1: 0.63799\tvalid_0's ndcg@3: 0.710659\tvalid_0's ndcg@5: 0.854785\n",
            "[4]\tvalid_0's ndcg@1: 0.647851\tvalid_0's ndcg@3: 0.721955\tvalid_0's ndcg@5: 0.859668\n"
          ]
        },
        {
          "name": "stderr",
          "output_type": "stream",
          "text": [
            "[I 2023-06-25 17:35:29,514] Trial 19 finished with value: 0.8604517801764745 and parameters: {'num_leaves': 28, 'learning_rate': 0.07857269745664297, 'max_depth': 8}. Best is trial 11 with value: 0.8622600261616746.\n"
          ]
        },
        {
          "name": "stdout",
          "output_type": "stream",
          "text": [
            "[5]\tvalid_0's ndcg@1: 0.649979\tvalid_0's ndcg@3: 0.727229\tvalid_0's ndcg@5: 0.861558\n",
            "[1]\tvalid_0's ndcg@1: 0.560988\tvalid_0's ndcg@3: 0.647367\tvalid_0's ndcg@5: 0.823185\n",
            "[2]\tvalid_0's ndcg@1: 0.621001\tvalid_0's ndcg@3: 0.697461\tvalid_0's ndcg@5: 0.847499\n",
            "[3]\tvalid_0's ndcg@1: 0.636501\tvalid_0's ndcg@3: 0.714331\tvalid_0's ndcg@5: 0.855257\n",
            "[4]\tvalid_0's ndcg@1: 0.643506\tvalid_0's ndcg@3: 0.723393\tvalid_0's ndcg@5: 0.859376\n",
            "[5]\tvalid_0's ndcg@1: 0.646751\tvalid_0's ndcg@3: 0.72751\tvalid_0's ndcg@5: 0.861084\n",
            "[1]\tvalid_0's ndcg@1: 0.563542\tvalid_0's ndcg@3: 0.642207\tvalid_0's ndcg@5: 0.822285\n",
            "[2]\tvalid_0's ndcg@1: 0.62242\tvalid_0's ndcg@3: 0.698074\tvalid_0's ndcg@5: 0.848425\n",
            "[3]\tvalid_0's ndcg@1: 0.635011\tvalid_0's ndcg@3: 0.714302\tvalid_0's ndcg@5: 0.855395\n",
            "[4]\tvalid_0's ndcg@1: 0.641466\tvalid_0's ndcg@3: 0.721993\tvalid_0's ndcg@5: 0.858601\n"
          ]
        },
        {
          "name": "stderr",
          "output_type": "stream",
          "text": [
            "[I 2023-06-25 17:36:02,674] Trial 20 finished with value: 0.8612758105865929 and parameters: {'num_leaves': 21, 'learning_rate': 0.097321545212146, 'max_depth': 10}. Best is trial 11 with value: 0.8622600261616746.\n"
          ]
        },
        {
          "name": "stdout",
          "output_type": "stream",
          "text": [
            "[5]\tvalid_0's ndcg@1: 0.646946\tvalid_0's ndcg@3: 0.728182\tvalid_0's ndcg@5: 0.861468\n",
            "[1]\tvalid_0's ndcg@1: 0.571505\tvalid_0's ndcg@3: 0.653384\tvalid_0's ndcg@5: 0.826745\n",
            "[2]\tvalid_0's ndcg@1: 0.621533\tvalid_0's ndcg@3: 0.699078\tvalid_0's ndcg@5: 0.848454\n",
            "[3]\tvalid_0's ndcg@1: 0.633592\tvalid_0's ndcg@3: 0.715436\tvalid_0's ndcg@5: 0.855315\n",
            "[4]\tvalid_0's ndcg@1: 0.643541\tvalid_0's ndcg@3: 0.722602\tvalid_0's ndcg@5: 0.859134\n",
            "[5]\tvalid_0's ndcg@1: 0.648542\tvalid_0's ndcg@3: 0.72808\tvalid_0's ndcg@5: 0.861671\n",
            "[1]\tvalid_0's ndcg@1: 0.573597\tvalid_0's ndcg@3: 0.648493\tvalid_0's ndcg@5: 0.825775\n",
            "[2]\tvalid_0's ndcg@1: 0.626694\tvalid_0's ndcg@3: 0.70079\tvalid_0's ndcg@5: 0.849865\n",
            "[3]\tvalid_0's ndcg@1: 0.638274\tvalid_0's ndcg@3: 0.717954\tvalid_0's ndcg@5: 0.85686\n",
            "[4]\tvalid_0's ndcg@1: 0.644499\tvalid_0's ndcg@3: 0.725474\tvalid_0's ndcg@5: 0.860319\n"
          ]
        },
        {
          "name": "stderr",
          "output_type": "stream",
          "text": [
            "[I 2023-06-25 17:36:34,715] Trial 21 finished with value: 0.8621119543112883 and parameters: {'num_leaves': 29, 'learning_rate': 0.09931843281500612, 'max_depth': 10}. Best is trial 11 with value: 0.8622600261616746.\n"
          ]
        },
        {
          "name": "stdout",
          "output_type": "stream",
          "text": [
            "[5]\tvalid_0's ndcg@1: 0.650032\tvalid_0's ndcg@3: 0.729808\tvalid_0's ndcg@5: 0.862553\n",
            "[1]\tvalid_0's ndcg@1: 0.574094\tvalid_0's ndcg@3: 0.650879\tvalid_0's ndcg@5: 0.826539\n",
            "[2]\tvalid_0's ndcg@1: 0.623874\tvalid_0's ndcg@3: 0.695192\tvalid_0's ndcg@5: 0.847492\n",
            "[3]\tvalid_0's ndcg@1: 0.634355\tvalid_0's ndcg@3: 0.712273\tvalid_0's ndcg@5: 0.854359\n",
            "[4]\tvalid_0's ndcg@1: 0.642654\tvalid_0's ndcg@3: 0.721692\tvalid_0's ndcg@5: 0.858556\n",
            "[5]\tvalid_0's ndcg@1: 0.647585\tvalid_0's ndcg@3: 0.726175\tvalid_0's ndcg@5: 0.860758\n",
            "[1]\tvalid_0's ndcg@1: 0.573154\tvalid_0's ndcg@3: 0.641792\tvalid_0's ndcg@5: 0.823739\n",
            "[2]\tvalid_0's ndcg@1: 0.626658\tvalid_0's ndcg@3: 0.692832\tvalid_0's ndcg@5: 0.84742\n",
            "[3]\tvalid_0's ndcg@1: 0.635667\tvalid_0's ndcg@3: 0.71083\tvalid_0's ndcg@5: 0.854278\n",
            "[4]\tvalid_0's ndcg@1: 0.645368\tvalid_0's ndcg@3: 0.719903\tvalid_0's ndcg@5: 0.858749\n"
          ]
        },
        {
          "name": "stderr",
          "output_type": "stream",
          "text": [
            "[I 2023-06-25 17:37:06,426] Trial 22 finished with value: 0.8609390305026002 and parameters: {'num_leaves': 34, 'learning_rate': 0.06408069373786192, 'max_depth': 9}. Best is trial 11 with value: 0.8622600261616746.\n"
          ]
        },
        {
          "name": "stdout",
          "output_type": "stream",
          "text": [
            "[5]\tvalid_0's ndcg@1: 0.648915\tvalid_0's ndcg@3: 0.726276\tvalid_0's ndcg@5: 0.86112\n",
            "[1]\tvalid_0's ndcg@1: 0.570033\tvalid_0's ndcg@3: 0.641374\tvalid_0's ndcg@5: 0.823101\n",
            "[2]\tvalid_0's ndcg@1: 0.615787\tvalid_0's ndcg@3: 0.684751\tvalid_0's ndcg@5: 0.843445\n",
            "[3]\tvalid_0's ndcg@1: 0.632369\tvalid_0's ndcg@3: 0.706638\tvalid_0's ndcg@5: 0.852468\n",
            "[4]\tvalid_0's ndcg@1: 0.643364\tvalid_0's ndcg@3: 0.718518\tvalid_0's ndcg@5: 0.857606\n",
            "[5]\tvalid_0's ndcg@1: 0.646201\tvalid_0's ndcg@3: 0.72304\tvalid_0's ndcg@5: 0.859721\n",
            "[1]\tvalid_0's ndcg@1: 0.56677\tvalid_0's ndcg@3: 0.628167\tvalid_0's ndcg@5: 0.818778\n",
            "[2]\tvalid_0's ndcg@1: 0.624973\tvalid_0's ndcg@3: 0.691812\tvalid_0's ndcg@5: 0.846932\n",
            "[3]\tvalid_0's ndcg@1: 0.63799\tvalid_0's ndcg@3: 0.709607\tvalid_0's ndcg@5: 0.854468\n",
            "[4]\tvalid_0's ndcg@1: 0.647141\tvalid_0's ndcg@3: 0.72311\tvalid_0's ndcg@5: 0.859815\n"
          ]
        },
        {
          "name": "stderr",
          "output_type": "stream",
          "text": [
            "[I 2023-06-25 17:37:38,254] Trial 23 finished with value: 0.8610923959916601 and parameters: {'num_leaves': 29, 'learning_rate': 0.08142213035163545, 'max_depth': 8}. Best is trial 11 with value: 0.8622600261616746.\n"
          ]
        },
        {
          "name": "stdout",
          "output_type": "stream",
          "text": [
            "[5]\tvalid_0's ndcg@1: 0.652337\tvalid_0's ndcg@3: 0.729004\tvalid_0's ndcg@5: 0.862464\n",
            "[1]\tvalid_0's ndcg@1: 0.576559\tvalid_0's ndcg@3: 0.657019\tvalid_0's ndcg@5: 0.828682\n",
            "[2]\tvalid_0's ndcg@1: 0.623147\tvalid_0's ndcg@3: 0.699727\tvalid_0's ndcg@5: 0.848767\n",
            "[3]\tvalid_0's ndcg@1: 0.637547\tvalid_0's ndcg@3: 0.716966\tvalid_0's ndcg@5: 0.856422\n",
            "[4]\tvalid_0's ndcg@1: 0.644251\tvalid_0's ndcg@3: 0.724015\tvalid_0's ndcg@5: 0.859721\n",
            "[5]\tvalid_0's ndcg@1: 0.64934\tvalid_0's ndcg@3: 0.728218\tvalid_0's ndcg@5: 0.861873\n",
            "[1]\tvalid_0's ndcg@1: 0.578332\tvalid_0's ndcg@3: 0.652\tvalid_0's ndcg@5: 0.827525\n",
            "[2]\tvalid_0's ndcg@1: 0.629123\tvalid_0's ndcg@3: 0.701091\tvalid_0's ndcg@5: 0.850218\n",
            "[3]\tvalid_0's ndcg@1: 0.641324\tvalid_0's ndcg@3: 0.716931\tvalid_0's ndcg@5: 0.857132\n",
            "[4]\tvalid_0's ndcg@1: 0.64872\tvalid_0's ndcg@3: 0.724853\tvalid_0's ndcg@5: 0.860625\n"
          ]
        },
        {
          "name": "stderr",
          "output_type": "stream",
          "text": [
            "[I 2023-06-25 17:38:11,114] Trial 24 finished with value: 0.8621899942313836 and parameters: {'num_leaves': 38, 'learning_rate': 0.06741552730803357, 'max_depth': 10}. Best is trial 11 with value: 0.8622600261616746.\n"
          ]
        },
        {
          "name": "stdout",
          "output_type": "stream",
          "text": [
            "[5]\tvalid_0's ndcg@1: 0.651415\tvalid_0's ndcg@3: 0.730195\tvalid_0's ndcg@5: 0.862507\n",
            "[1]\tvalid_0's ndcg@1: 0.575388\tvalid_0's ndcg@3: 0.632347\tvalid_0's ndcg@5: 0.821114\n",
            "[2]\tvalid_0's ndcg@1: 0.61357\tvalid_0's ndcg@3: 0.680481\tvalid_0's ndcg@5: 0.84175\n",
            "[3]\tvalid_0's ndcg@1: 0.633007\tvalid_0's ndcg@3: 0.702277\tvalid_0's ndcg@5: 0.851527\n",
            "[4]\tvalid_0's ndcg@1: 0.642495\tvalid_0's ndcg@3: 0.712391\tvalid_0's ndcg@5: 0.856058\n",
            "[5]\tvalid_0's ndcg@1: 0.648188\tvalid_0's ndcg@3: 0.721119\tvalid_0's ndcg@5: 0.859513\n",
            "[1]\tvalid_0's ndcg@1: 0.567\tvalid_0's ndcg@3: 0.617471\tvalid_0's ndcg@5: 0.815707\n",
            "[2]\tvalid_0's ndcg@1: 0.620611\tvalid_0's ndcg@3: 0.683023\tvalid_0's ndcg@5: 0.84343\n",
            "[3]\tvalid_0's ndcg@1: 0.634621\tvalid_0's ndcg@3: 0.703404\tvalid_0's ndcg@5: 0.852021\n",
            "[4]\tvalid_0's ndcg@1: 0.641378\tvalid_0's ndcg@3: 0.71425\tvalid_0's ndcg@5: 0.856283\n"
          ]
        },
        {
          "name": "stderr",
          "output_type": "stream",
          "text": [
            "[I 2023-06-25 17:38:43,799] Trial 25 finished with value: 0.8595456150105436 and parameters: {'num_leaves': 39, 'learning_rate': 0.06752747974762403, 'max_depth': 7}. Best is trial 11 with value: 0.8622600261616746.\n"
          ]
        },
        {
          "name": "stdout",
          "output_type": "stream",
          "text": [
            "[5]\tvalid_0's ndcg@1: 0.646308\tvalid_0's ndcg@3: 0.72198\tvalid_0's ndcg@5: 0.859578\n",
            "[1]\tvalid_0's ndcg@1: 0.573384\tvalid_0's ndcg@3: 0.650692\tvalid_0's ndcg@5: 0.826349\n",
            "[2]\tvalid_0's ndcg@1: 0.620043\tvalid_0's ndcg@3: 0.693602\tvalid_0's ndcg@5: 0.846505\n",
            "[3]\tvalid_0's ndcg@1: 0.634514\tvalid_0's ndcg@3: 0.710403\tvalid_0's ndcg@5: 0.854028\n",
            "[4]\tvalid_0's ndcg@1: 0.639551\tvalid_0's ndcg@3: 0.717421\tvalid_0's ndcg@5: 0.856887\n",
            "[5]\tvalid_0's ndcg@1: 0.643665\tvalid_0's ndcg@3: 0.722475\tvalid_0's ndcg@5: 0.859237\n",
            "[1]\tvalid_0's ndcg@1: 0.573296\tvalid_0's ndcg@3: 0.641742\tvalid_0's ndcg@5: 0.823763\n",
            "[2]\tvalid_0's ndcg@1: 0.627598\tvalid_0's ndcg@3: 0.693667\tvalid_0's ndcg@5: 0.847718\n",
            "[3]\tvalid_0's ndcg@1: 0.640331\tvalid_0's ndcg@3: 0.712754\tvalid_0's ndcg@5: 0.855371\n",
            "[4]\tvalid_0's ndcg@1: 0.64308\tvalid_0's ndcg@3: 0.719527\tvalid_0's ndcg@5: 0.857965\n"
          ]
        },
        {
          "name": "stderr",
          "output_type": "stream",
          "text": [
            "[I 2023-06-25 17:39:15,671] Trial 26 finished with value: 0.8601813758995277 and parameters: {'num_leaves': 33, 'learning_rate': 0.047297777982586026, 'max_depth': 9}. Best is trial 11 with value: 0.8622600261616746.\n"
          ]
        },
        {
          "name": "stdout",
          "output_type": "stream",
          "text": [
            "[5]\tvalid_0's ndcg@1: 0.649376\tvalid_0's ndcg@3: 0.726218\tvalid_0's ndcg@5: 0.861126\n",
            "[1]\tvalid_0's ndcg@1: 0.558807\tvalid_0's ndcg@3: 0.606481\tvalid_0's ndcg@5: 0.811029\n",
            "[2]\tvalid_0's ndcg@1: 0.607736\tvalid_0's ndcg@3: 0.667171\tvalid_0's ndcg@5: 0.836715\n",
            "[3]\tvalid_0's ndcg@1: 0.62453\tvalid_0's ndcg@3: 0.691512\tvalid_0's ndcg@5: 0.84665\n",
            "[4]\tvalid_0's ndcg@1: 0.636589\tvalid_0's ndcg@3: 0.706735\tvalid_0's ndcg@5: 0.852911\n",
            "[5]\tvalid_0's ndcg@1: 0.643116\tvalid_0's ndcg@3: 0.715996\tvalid_0's ndcg@5: 0.85682\n",
            "[1]\tvalid_0's ndcg@1: 0.557654\tvalid_0's ndcg@3: 0.601092\tvalid_0's ndcg@5: 0.8093\n",
            "[2]\tvalid_0's ndcg@1: 0.613428\tvalid_0's ndcg@3: 0.670095\tvalid_0's ndcg@5: 0.838527\n",
            "[3]\tvalid_0's ndcg@1: 0.632954\tvalid_0's ndcg@3: 0.695372\tvalid_0's ndcg@5: 0.849133\n",
            "[4]\tvalid_0's ndcg@1: 0.639515\tvalid_0's ndcg@3: 0.707217\tvalid_0's ndcg@5: 0.853786\n"
          ]
        },
        {
          "name": "stderr",
          "output_type": "stream",
          "text": [
            "[I 2023-06-25 17:39:47,048] Trial 27 finished with value: 0.8574517972946871 and parameters: {'num_leaves': 50, 'learning_rate': 0.062263961922165344, 'max_depth': 6}. Best is trial 11 with value: 0.8622600261616746.\n"
          ]
        },
        {
          "name": "stdout",
          "output_type": "stream",
          "text": [
            "[5]\tvalid_0's ndcg@1: 0.647939\tvalid_0's ndcg@3: 0.717099\tvalid_0's ndcg@5: 0.858083\n",
            "[1]\tvalid_0's ndcg@1: 0.576381\tvalid_0's ndcg@3: 0.64421\tvalid_0's ndcg@5: 0.824993\n",
            "[2]\tvalid_0's ndcg@1: 0.615397\tvalid_0's ndcg@3: 0.685046\tvalid_0's ndcg@5: 0.843463\n",
            "[3]\tvalid_0's ndcg@1: 0.632635\tvalid_0's ndcg@3: 0.706773\tvalid_0's ndcg@5: 0.852726\n",
            "[4]\tvalid_0's ndcg@1: 0.64269\tvalid_0's ndcg@3: 0.717263\tvalid_0's ndcg@5: 0.857138\n",
            "[5]\tvalid_0's ndcg@1: 0.645297\tvalid_0's ndcg@3: 0.7242\tvalid_0's ndcg@5: 0.859668\n",
            "[1]\tvalid_0's ndcg@1: 0.569199\tvalid_0's ndcg@3: 0.629922\tvalid_0's ndcg@5: 0.819658\n",
            "[2]\tvalid_0's ndcg@1: 0.627598\tvalid_0's ndcg@3: 0.692576\tvalid_0's ndcg@5: 0.847333\n",
            "[3]\tvalid_0's ndcg@1: 0.639994\tvalid_0's ndcg@3: 0.711277\tvalid_0's ndcg@5: 0.85521\n",
            "[4]\tvalid_0's ndcg@1: 0.646822\tvalid_0's ndcg@3: 0.721218\tvalid_0's ndcg@5: 0.859277\n"
          ]
        },
        {
          "name": "stderr",
          "output_type": "stream",
          "text": [
            "[I 2023-06-25 17:40:19,167] Trial 28 finished with value: 0.8608489857006024 and parameters: {'num_leaves': 36, 'learning_rate': 0.08302584101064946, 'max_depth': 8}. Best is trial 11 with value: 0.8622600261616746.\n"
          ]
        },
        {
          "name": "stdout",
          "output_type": "stream",
          "text": [
            "[5]\tvalid_0's ndcg@1: 0.652284\tvalid_0's ndcg@3: 0.727412\tvalid_0's ndcg@5: 0.86203\n",
            "[1]\tvalid_0's ndcg@1: 0.575406\tvalid_0's ndcg@3: 0.632427\tvalid_0's ndcg@5: 0.821179\n",
            "[2]\tvalid_0's ndcg@1: 0.616638\tvalid_0's ndcg@3: 0.683513\tvalid_0's ndcg@5: 0.843121\n",
            "[3]\tvalid_0's ndcg@1: 0.633947\tvalid_0's ndcg@3: 0.704631\tvalid_0's ndcg@5: 0.852116\n",
            "[4]\tvalid_0's ndcg@1: 0.641519\tvalid_0's ndcg@3: 0.714514\tvalid_0's ndcg@5: 0.856201\n",
            "[5]\tvalid_0's ndcg@1: 0.647248\tvalid_0's ndcg@3: 0.722101\tvalid_0's ndcg@5: 0.859558\n",
            "[1]\tvalid_0's ndcg@1: 0.567603\tvalid_0's ndcg@3: 0.617706\tvalid_0's ndcg@5: 0.815877\n",
            "[2]\tvalid_0's ndcg@1: 0.619103\tvalid_0's ndcg@3: 0.683099\tvalid_0's ndcg@5: 0.843201\n",
            "[3]\tvalid_0's ndcg@1: 0.634036\tvalid_0's ndcg@3: 0.703351\tvalid_0's ndcg@5: 0.851858\n",
            "[4]\tvalid_0's ndcg@1: 0.64253\tvalid_0's ndcg@3: 0.714806\tvalid_0's ndcg@5: 0.856805\n"
          ]
        },
        {
          "name": "stderr",
          "output_type": "stream",
          "text": [
            "[I 2023-06-25 17:40:51,925] Trial 29 finished with value: 0.8596433631877703 and parameters: {'num_leaves': 40, 'learning_rate': 0.07237490266531568, 'max_depth': 7}. Best is trial 11 with value: 0.8622600261616746.\n"
          ]
        },
        {
          "name": "stdout",
          "output_type": "stream",
          "text": [
            "[5]\tvalid_0's ndcg@1: 0.648329\tvalid_0's ndcg@3: 0.721709\tvalid_0's ndcg@5: 0.859729\n",
            "[1]\tvalid_0's ndcg@1: 0.569607\tvalid_0's ndcg@3: 0.651484\tvalid_0's ndcg@5: 0.825763\n",
            "[2]\tvalid_0's ndcg@1: 0.620185\tvalid_0's ndcg@3: 0.69714\tvalid_0's ndcg@5: 0.847545\n",
            "[3]\tvalid_0's ndcg@1: 0.631837\tvalid_0's ndcg@3: 0.711824\tvalid_0's ndcg@5: 0.854081\n",
            "[4]\tvalid_0's ndcg@1: 0.641697\tvalid_0's ndcg@3: 0.721416\tvalid_0's ndcg@5: 0.858632\n",
            "[5]\tvalid_0's ndcg@1: 0.647851\tvalid_0's ndcg@3: 0.727828\tvalid_0's ndcg@5: 0.861376\n",
            "[1]\tvalid_0's ndcg@1: 0.571203\tvalid_0's ndcg@3: 0.647423\tvalid_0's ndcg@5: 0.825059\n",
            "[2]\tvalid_0's ndcg@1: 0.627226\tvalid_0's ndcg@3: 0.699813\tvalid_0's ndcg@5: 0.849608\n",
            "[3]\tvalid_0's ndcg@1: 0.638292\tvalid_0's ndcg@3: 0.714809\tvalid_0's ndcg@5: 0.855957\n",
            "[4]\tvalid_0's ndcg@1: 0.646769\tvalid_0's ndcg@3: 0.723827\tvalid_0's ndcg@5: 0.860125\n"
          ]
        },
        {
          "name": "stderr",
          "output_type": "stream",
          "text": [
            "[I 2023-06-25 17:41:24,813] Trial 30 finished with value: 0.8617675604487536 and parameters: {'num_leaves': 26, 'learning_rate': 0.0827123158886036, 'max_depth': 10}. Best is trial 11 with value: 0.8622600261616746.\n"
          ]
        },
        {
          "name": "stdout",
          "output_type": "stream",
          "text": [
            "[5]\tvalid_0's ndcg@1: 0.650422\tvalid_0's ndcg@3: 0.728831\tvalid_0's ndcg@5: 0.862159\n",
            "[1]\tvalid_0's ndcg@1: 0.573065\tvalid_0's ndcg@3: 0.654321\tvalid_0's ndcg@5: 0.827257\n",
            "[2]\tvalid_0's ndcg@1: 0.621178\tvalid_0's ndcg@3: 0.697543\tvalid_0's ndcg@5: 0.847834\n",
            "[3]\tvalid_0's ndcg@1: 0.631996\tvalid_0's ndcg@3: 0.713376\tvalid_0's ndcg@5: 0.854463\n",
            "[4]\tvalid_0's ndcg@1: 0.638877\tvalid_0's ndcg@3: 0.721018\tvalid_0's ndcg@5: 0.858107\n",
            "[5]\tvalid_0's ndcg@1: 0.647815\tvalid_0's ndcg@3: 0.727118\tvalid_0's ndcg@5: 0.861419\n",
            "[1]\tvalid_0's ndcg@1: 0.576807\tvalid_0's ndcg@3: 0.649911\tvalid_0's ndcg@5: 0.826706\n",
            "[2]\tvalid_0's ndcg@1: 0.62868\tvalid_0's ndcg@3: 0.701464\tvalid_0's ndcg@5: 0.850245\n",
            "[3]\tvalid_0's ndcg@1: 0.640473\tvalid_0's ndcg@3: 0.717201\tvalid_0's ndcg@5: 0.856869\n",
            "[4]\tvalid_0's ndcg@1: 0.647053\tvalid_0's ndcg@3: 0.724563\tvalid_0's ndcg@5: 0.860292\n"
          ]
        },
        {
          "name": "stderr",
          "output_type": "stream",
          "text": [
            "[I 2023-06-25 17:41:56,763] Trial 31 finished with value: 0.8619793103269062 and parameters: {'num_leaves': 31, 'learning_rate': 0.0910650640213381, 'max_depth': 10}. Best is trial 11 with value: 0.8622600261616746.\n"
          ]
        },
        {
          "name": "stdout",
          "output_type": "stream",
          "text": [
            "[5]\tvalid_0's ndcg@1: 0.650653\tvalid_0's ndcg@3: 0.729832\tvalid_0's ndcg@5: 0.86254\n",
            "[1]\tvalid_0's ndcg@1: 0.581294\tvalid_0's ndcg@3: 0.654294\tvalid_0's ndcg@5: 0.828686\n",
            "[2]\tvalid_0's ndcg@1: 0.626215\tvalid_0's ndcg@3: 0.696605\tvalid_0's ndcg@5: 0.848194\n",
            "[3]\tvalid_0's ndcg@1: 0.641378\tvalid_0's ndcg@3: 0.71575\tvalid_0's ndcg@5: 0.856429\n",
            "[4]\tvalid_0's ndcg@1: 0.645403\tvalid_0's ndcg@3: 0.724627\tvalid_0's ndcg@5: 0.860001\n",
            "[5]\tvalid_0's ndcg@1: 0.651025\tvalid_0's ndcg@3: 0.730199\tvalid_0's ndcg@5: 0.862615\n",
            "[1]\tvalid_0's ndcg@1: 0.578563\tvalid_0's ndcg@3: 0.644561\tvalid_0's ndcg@5: 0.825337\n",
            "[2]\tvalid_0's ndcg@1: 0.631872\tvalid_0's ndcg@3: 0.701009\tvalid_0's ndcg@5: 0.850599\n",
            "[3]\tvalid_0's ndcg@1: 0.644641\tvalid_0's ndcg@3: 0.718995\tvalid_0's ndcg@5: 0.85821\n",
            "[4]\tvalid_0's ndcg@1: 0.650333\tvalid_0's ndcg@3: 0.724518\tvalid_0's ndcg@5: 0.860897\n"
          ]
        },
        {
          "name": "stderr",
          "output_type": "stream",
          "text": [
            "[I 2023-06-25 17:42:28,739] Trial 32 finished with value: 0.8628095002273279 and parameters: {'num_leaves': 43, 'learning_rate': 0.08751028231551655, 'max_depth': 9}. Best is trial 32 with value: 0.8628095002273279.\n"
          ]
        },
        {
          "name": "stdout",
          "output_type": "stream",
          "text": [
            "[5]\tvalid_0's ndcg@1: 0.65349\tvalid_0's ndcg@3: 0.729349\tvalid_0's ndcg@5: 0.863004\n",
            "[1]\tvalid_0's ndcg@1: 0.581294\tvalid_0's ndcg@3: 0.654294\tvalid_0's ndcg@5: 0.828686\n",
            "[2]\tvalid_0's ndcg@1: 0.622952\tvalid_0's ndcg@3: 0.695258\tvalid_0's ndcg@5: 0.847268\n",
            "[3]\tvalid_0's ndcg@1: 0.639782\tvalid_0's ndcg@3: 0.711854\tvalid_0's ndcg@5: 0.855152\n",
            "[4]\tvalid_0's ndcg@1: 0.642814\tvalid_0's ndcg@3: 0.721606\tvalid_0's ndcg@5: 0.858566\n",
            "[5]\tvalid_0's ndcg@1: 0.646432\tvalid_0's ndcg@3: 0.727088\tvalid_0's ndcg@5: 0.860916\n",
            "[1]\tvalid_0's ndcg@1: 0.578563\tvalid_0's ndcg@3: 0.644561\tvalid_0's ndcg@5: 0.825337\n",
            "[2]\tvalid_0's ndcg@1: 0.629602\tvalid_0's ndcg@3: 0.697746\tvalid_0's ndcg@5: 0.849216\n",
            "[3]\tvalid_0's ndcg@1: 0.640083\tvalid_0's ndcg@3: 0.715403\tvalid_0's ndcg@5: 0.856396\n",
            "[4]\tvalid_0's ndcg@1: 0.647106\tvalid_0's ndcg@3: 0.722771\tvalid_0's ndcg@5: 0.859851\n"
          ]
        },
        {
          "name": "stderr",
          "output_type": "stream",
          "text": [
            "[I 2023-06-25 17:43:00,920] Trial 33 finished with value: 0.8616952845622285 and parameters: {'num_leaves': 43, 'learning_rate': 0.07029310450485984, 'max_depth': 9}. Best is trial 32 with value: 0.8628095002273279.\n"
          ]
        },
        {
          "name": "stdout",
          "output_type": "stream",
          "text": [
            "[5]\tvalid_0's ndcg@1: 0.651859\tvalid_0's ndcg@3: 0.728919\tvalid_0's ndcg@5: 0.862475\n",
            "[1]\tvalid_0's ndcg@1: 0.584202\tvalid_0's ndcg@3: 0.655459\tvalid_0's ndcg@5: 0.829408\n",
            "[2]\tvalid_0's ndcg@1: 0.623909\tvalid_0's ndcg@3: 0.695174\tvalid_0's ndcg@5: 0.847524\n",
            "[3]\tvalid_0's ndcg@1: 0.637139\tvalid_0's ndcg@3: 0.714303\tvalid_0's ndcg@5: 0.855625\n",
            "[4]\tvalid_0's ndcg@1: 0.643275\tvalid_0's ndcg@3: 0.723535\tvalid_0's ndcg@5: 0.85924\n",
            "[5]\tvalid_0's ndcg@1: 0.649021\tvalid_0's ndcg@3: 0.728787\tvalid_0's ndcg@5: 0.861678\n",
            "[1]\tvalid_0's ndcg@1: 0.581081\tvalid_0's ndcg@3: 0.646109\tvalid_0's ndcg@5: 0.826181\n",
            "[2]\tvalid_0's ndcg@1: 0.63079\tvalid_0's ndcg@3: 0.698745\tvalid_0's ndcg@5: 0.849605\n",
            "[3]\tvalid_0's ndcg@1: 0.641431\tvalid_0's ndcg@3: 0.717436\tvalid_0's ndcg@5: 0.857032\n",
            "[4]\tvalid_0's ndcg@1: 0.648294\tvalid_0's ndcg@3: 0.724937\tvalid_0's ndcg@5: 0.860643\n"
          ]
        },
        {
          "name": "stderr",
          "output_type": "stream",
          "text": [
            "[I 2023-06-25 17:43:34,925] Trial 34 finished with value: 0.8623989359551427 and parameters: {'num_leaves': 50, 'learning_rate': 0.08574205053838152, 'max_depth': 9}. Best is trial 32 with value: 0.8628095002273279.\n"
          ]
        },
        {
          "name": "stdout",
          "output_type": "stream",
          "text": [
            "[5]\tvalid_0's ndcg@1: 0.652586\tvalid_0's ndcg@3: 0.730573\tvalid_0's ndcg@5: 0.86312\n",
            "[1]\tvalid_0's ndcg@1: 0.584433\tvalid_0's ndcg@3: 0.646926\tvalid_0's ndcg@5: 0.827059\n",
            "[2]\tvalid_0's ndcg@1: 0.620132\tvalid_0's ndcg@3: 0.68729\tvalid_0's ndcg@5: 0.844892\n",
            "[3]\tvalid_0's ndcg@1: 0.637068\tvalid_0's ndcg@3: 0.707783\tvalid_0's ndcg@5: 0.853706\n",
            "[4]\tvalid_0's ndcg@1: 0.646733\tvalid_0's ndcg@3: 0.718997\tvalid_0's ndcg@5: 0.858618\n",
            "[5]\tvalid_0's ndcg@1: 0.649908\tvalid_0's ndcg@3: 0.725847\tvalid_0's ndcg@5: 0.861073\n",
            "[1]\tvalid_0's ndcg@1: 0.576577\tvalid_0's ndcg@3: 0.632109\tvalid_0's ndcg@5: 0.821458\n",
            "[2]\tvalid_0's ndcg@1: 0.631535\tvalid_0's ndcg@3: 0.692616\tvalid_0's ndcg@5: 0.848012\n",
            "[3]\tvalid_0's ndcg@1: 0.642477\tvalid_0's ndcg@3: 0.712753\tvalid_0's ndcg@5: 0.855941\n",
            "[4]\tvalid_0's ndcg@1: 0.6484\tvalid_0's ndcg@3: 0.721657\tvalid_0's ndcg@5: 0.859691\n"
          ]
        },
        {
          "name": "stderr",
          "output_type": "stream",
          "text": [
            "[I 2023-06-25 17:44:07,172] Trial 35 finished with value: 0.8614073943210666 and parameters: {'num_leaves': 49, 'learning_rate': 0.08190711760080034, 'max_depth': 8}. Best is trial 32 with value: 0.8628095002273279.\n"
          ]
        },
        {
          "name": "stdout",
          "output_type": "stream",
          "text": [
            "[5]\tvalid_0's ndcg@1: 0.652196\tvalid_0's ndcg@3: 0.727189\tvalid_0's ndcg@5: 0.861741\n",
            "[1]\tvalid_0's ndcg@1: 0.559942\tvalid_0's ndcg@3: 0.606796\tvalid_0's ndcg@5: 0.811279\n",
            "[2]\tvalid_0's ndcg@1: 0.609651\tvalid_0's ndcg@3: 0.671531\tvalid_0's ndcg@5: 0.838447\n",
            "[3]\tvalid_0's ndcg@1: 0.62946\tvalid_0's ndcg@3: 0.695411\tvalid_0's ndcg@5: 0.848512\n",
            "[4]\tvalid_0's ndcg@1: 0.639072\tvalid_0's ndcg@3: 0.70818\tvalid_0's ndcg@5: 0.854088\n",
            "[5]\tvalid_0's ndcg@1: 0.644055\tvalid_0's ndcg@3: 0.718153\tvalid_0's ndcg@5: 0.85785\n",
            "[1]\tvalid_0's ndcg@1: 0.557956\tvalid_0's ndcg@3: 0.601078\tvalid_0's ndcg@5: 0.809341\n",
            "[2]\tvalid_0's ndcg@1: 0.612595\tvalid_0's ndcg@3: 0.670788\tvalid_0's ndcg@5: 0.838706\n",
            "[3]\tvalid_0's ndcg@1: 0.633982\tvalid_0's ndcg@3: 0.696369\tvalid_0's ndcg@5: 0.849649\n",
            "[4]\tvalid_0's ndcg@1: 0.639888\tvalid_0's ndcg@3: 0.710232\tvalid_0's ndcg@5: 0.854746\n"
          ]
        },
        {
          "name": "stderr",
          "output_type": "stream",
          "text": [
            "[I 2023-06-25 17:44:38,371] Trial 36 finished with value: 0.8578815719976423 and parameters: {'num_leaves': 42, 'learning_rate': 0.08813915324809546, 'max_depth': 6}. Best is trial 32 with value: 0.8628095002273279.\n"
          ]
        },
        {
          "name": "stdout",
          "output_type": "stream",
          "text": [
            "[5]\tvalid_0's ndcg@1: 0.645368\tvalid_0's ndcg@3: 0.717469\tvalid_0's ndcg@5: 0.857913\n",
            "[1]\tvalid_0's ndcg@1: 0.58234\tvalid_0's ndcg@3: 0.654652\tvalid_0's ndcg@5: 0.82894\n",
            "[2]\tvalid_0's ndcg@1: 0.622845\tvalid_0's ndcg@3: 0.695615\tvalid_0's ndcg@5: 0.847616\n",
            "[3]\tvalid_0's ndcg@1: 0.635862\tvalid_0's ndcg@3: 0.712262\tvalid_0's ndcg@5: 0.854846\n",
            "[4]\tvalid_0's ndcg@1: 0.645758\tvalid_0's ndcg@3: 0.720664\tvalid_0's ndcg@5: 0.858913\n",
            "[5]\tvalid_0's ndcg@1: 0.646645\tvalid_0's ndcg@3: 0.724837\tvalid_0's ndcg@5: 0.860282\n",
            "[1]\tvalid_0's ndcg@1: 0.580425\tvalid_0's ndcg@3: 0.645628\tvalid_0's ndcg@5: 0.825907\n",
            "[2]\tvalid_0's ndcg@1: 0.629425\tvalid_0's ndcg@3: 0.692256\tvalid_0's ndcg@5: 0.847438\n",
            "[3]\tvalid_0's ndcg@1: 0.636678\tvalid_0's ndcg@3: 0.711784\tvalid_0's ndcg@5: 0.854499\n",
            "[4]\tvalid_0's ndcg@1: 0.645758\tvalid_0's ndcg@3: 0.72082\tvalid_0's ndcg@5: 0.858704\n"
          ]
        },
        {
          "name": "stderr",
          "output_type": "stream",
          "text": [
            "[I 2023-06-25 17:45:10,718] Trial 37 finished with value: 0.8602859451412772 and parameters: {'num_leaves': 45, 'learning_rate': 0.041595656800808345, 'max_depth': 9}. Best is trial 32 with value: 0.8628095002273279.\n"
          ]
        },
        {
          "name": "stdout",
          "output_type": "stream",
          "text": [
            "[5]\tvalid_0's ndcg@1: 0.647851\tvalid_0's ndcg@3: 0.724161\tvalid_0's ndcg@5: 0.86029\n",
            "[1]\tvalid_0's ndcg@1: 0.576452\tvalid_0's ndcg@3: 0.632598\tvalid_0's ndcg@5: 0.821376\n",
            "[2]\tvalid_0's ndcg@1: 0.615734\tvalid_0's ndcg@3: 0.676538\tvalid_0's ndcg@5: 0.840768\n",
            "[3]\tvalid_0's ndcg@1: 0.633716\tvalid_0's ndcg@3: 0.703779\tvalid_0's ndcg@5: 0.851937\n",
            "[4]\tvalid_0's ndcg@1: 0.643328\tvalid_0's ndcg@3: 0.716246\tvalid_0's ndcg@5: 0.857201\n",
            "[5]\tvalid_0's ndcg@1: 0.649464\tvalid_0's ndcg@3: 0.722583\tvalid_0's ndcg@5: 0.859934\n",
            "[1]\tvalid_0's ndcg@1: 0.567709\tvalid_0's ndcg@3: 0.618087\tvalid_0's ndcg@5: 0.816069\n",
            "[2]\tvalid_0's ndcg@1: 0.620504\tvalid_0's ndcg@3: 0.682804\tvalid_0's ndcg@5: 0.843389\n",
            "[3]\tvalid_0's ndcg@1: 0.635703\tvalid_0's ndcg@3: 0.702879\tvalid_0's ndcg@5: 0.851891\n",
            "[4]\tvalid_0's ndcg@1: 0.643293\tvalid_0's ndcg@3: 0.717128\tvalid_0's ndcg@5: 0.857404\n"
          ]
        },
        {
          "name": "stderr",
          "output_type": "stream",
          "text": [
            "[I 2023-06-25 17:45:43,271] Trial 38 finished with value: 0.8606164731496133 and parameters: {'num_leaves': 49, 'learning_rate': 0.07235202209064451, 'max_depth': 7}. Best is trial 32 with value: 0.8628095002273279.\n"
          ]
        },
        {
          "name": "stdout",
          "output_type": "stream",
          "text": [
            "[5]\tvalid_0's ndcg@1: 0.650351\tvalid_0's ndcg@3: 0.725882\tvalid_0's ndcg@5: 0.861299\n",
            "[1]\tvalid_0's ndcg@1: 0.221944\tvalid_0's ndcg@3: 0.341968\tvalid_0's ndcg@5: 0.677834\n",
            "[2]\tvalid_0's ndcg@1: 0.341136\tvalid_0's ndcg@3: 0.412174\tvalid_0's ndcg@5: 0.718251\n",
            "[3]\tvalid_0's ndcg@1: 0.395315\tvalid_0's ndcg@3: 0.445207\tvalid_0's ndcg@5: 0.736852\n",
            "[4]\tvalid_0's ndcg@1: 0.462244\tvalid_0's ndcg@3: 0.501406\tvalid_0's ndcg@5: 0.764519\n",
            "[5]\tvalid_0's ndcg@1: 0.498705\tvalid_0's ndcg@3: 0.532231\tvalid_0's ndcg@5: 0.77964\n",
            "[1]\tvalid_0's ndcg@1: 0.221075\tvalid_0's ndcg@3: 0.341504\tvalid_0's ndcg@5: 0.677557\n",
            "[2]\tvalid_0's ndcg@1: 0.340303\tvalid_0's ndcg@3: 0.412453\tvalid_0's ndcg@5: 0.718163\n",
            "[3]\tvalid_0's ndcg@1: 0.395793\tvalid_0's ndcg@3: 0.444968\tvalid_0's ndcg@5: 0.73669\n"
          ]
        },
        {
          "name": "stderr",
          "output_type": "stream",
          "text": [
            "[I 2023-06-25 17:46:14,529] Trial 39 finished with value: 0.7764422402702134 and parameters: {'num_leaves': 43, 'learning_rate': 0.060562815749758095, 'max_depth': 1}. Best is trial 32 with value: 0.8628095002273279.\n"
          ]
        },
        {
          "name": "stdout",
          "output_type": "stream",
          "text": [
            "[4]\tvalid_0's ndcg@1: 0.450309\tvalid_0's ndcg@3: 0.483346\tvalid_0's ndcg@5: 0.75701\n",
            "[5]\tvalid_0's ndcg@1: 0.489856\tvalid_0's ndcg@3: 0.51628\tvalid_0's ndcg@5: 0.773244\n",
            "[1]\tvalid_0's ndcg@1: 0.534387\tvalid_0's ndcg@3: 0.576087\tvalid_0's ndcg@5: 0.798284\n",
            "[2]\tvalid_0's ndcg@1: 0.595623\tvalid_0's ndcg@3: 0.649621\tvalid_0's ndcg@5: 0.829442\n",
            "[3]\tvalid_0's ndcg@1: 0.618518\tvalid_0's ndcg@3: 0.678742\tvalid_0's ndcg@5: 0.841916\n",
            "[4]\tvalid_0's ndcg@1: 0.631163\tvalid_0's ndcg@3: 0.697631\tvalid_0's ndcg@5: 0.849352\n",
            "[5]\tvalid_0's ndcg@1: 0.639994\tvalid_0's ndcg@3: 0.709686\tvalid_0's ndcg@5: 0.854304\n",
            "[1]\tvalid_0's ndcg@1: 0.533323\tvalid_0's ndcg@3: 0.572476\tvalid_0's ndcg@5: 0.796986\n",
            "[2]\tvalid_0's ndcg@1: 0.599702\tvalid_0's ndcg@3: 0.645461\tvalid_0's ndcg@5: 0.829213\n",
            "[3]\tvalid_0's ndcg@1: 0.623111\tvalid_0's ndcg@3: 0.677173\tvalid_0's ndcg@5: 0.842279\n",
            "[4]\tvalid_0's ndcg@1: 0.635472\tvalid_0's ndcg@3: 0.69848\tvalid_0's ndcg@5: 0.850447\n"
          ]
        },
        {
          "name": "stderr",
          "output_type": "stream",
          "text": [
            "[I 2023-06-25 17:46:46,019] Trial 40 finished with value: 0.8543158489626952 and parameters: {'num_leaves': 47, 'learning_rate': 0.08853472936102602, 'max_depth': 5}. Best is trial 32 with value: 0.8628095002273279.\n"
          ]
        },
        {
          "name": "stdout",
          "output_type": "stream",
          "text": [
            "[5]\tvalid_0's ndcg@1: 0.640792\tvalid_0's ndcg@3: 0.70863\tvalid_0's ndcg@5: 0.854328\n",
            "[1]\tvalid_0's ndcg@1: 0.576559\tvalid_0's ndcg@3: 0.657019\tvalid_0's ndcg@5: 0.828682\n",
            "[2]\tvalid_0's ndcg@1: 0.62265\tvalid_0's ndcg@3: 0.699533\tvalid_0's ndcg@5: 0.848651\n",
            "[3]\tvalid_0's ndcg@1: 0.638097\tvalid_0's ndcg@3: 0.716826\tvalid_0's ndcg@5: 0.856415\n",
            "[4]\tvalid_0's ndcg@1: 0.643789\tvalid_0's ndcg@3: 0.724309\tvalid_0's ndcg@5: 0.859708\n",
            "[5]\tvalid_0's ndcg@1: 0.648046\tvalid_0's ndcg@3: 0.726964\tvalid_0's ndcg@5: 0.861355\n",
            "[1]\tvalid_0's ndcg@1: 0.578332\tvalid_0's ndcg@3: 0.652\tvalid_0's ndcg@5: 0.827525\n",
            "[2]\tvalid_0's ndcg@1: 0.630081\tvalid_0's ndcg@3: 0.702091\tvalid_0's ndcg@5: 0.850586\n",
            "[3]\tvalid_0's ndcg@1: 0.645652\tvalid_0's ndcg@3: 0.71944\tvalid_0's ndcg@5: 0.858564\n",
            "[4]\tvalid_0's ndcg@1: 0.649801\tvalid_0's ndcg@3: 0.726771\tvalid_0's ndcg@5: 0.861423\n"
          ]
        },
        {
          "name": "stderr",
          "output_type": "stream",
          "text": [
            "[I 2023-06-25 17:47:17,894] Trial 41 finished with value: 0.8623010290226629 and parameters: {'num_leaves': 38, 'learning_rate': 0.0768863946208184, 'max_depth': 10}. Best is trial 32 with value: 0.8628095002273279.\n"
          ]
        },
        {
          "name": "stdout",
          "output_type": "stream",
          "text": [
            "[5]\tvalid_0's ndcg@1: 0.652302\tvalid_0's ndcg@3: 0.731177\tvalid_0's ndcg@5: 0.863248\n",
            "[1]\tvalid_0's ndcg@1: 0.574768\tvalid_0's ndcg@3: 0.651202\tvalid_0's ndcg@5: 0.826744\n",
            "[2]\tvalid_0's ndcg@1: 0.623732\tvalid_0's ndcg@3: 0.694951\tvalid_0's ndcg@5: 0.847457\n",
            "[3]\tvalid_0's ndcg@1: 0.636625\tvalid_0's ndcg@3: 0.71377\tvalid_0's ndcg@5: 0.855137\n",
            "[4]\tvalid_0's ndcg@1: 0.641856\tvalid_0's ndcg@3: 0.722312\tvalid_0's ndcg@5: 0.858655\n",
            "[5]\tvalid_0's ndcg@1: 0.64966\tvalid_0's ndcg@3: 0.728181\tvalid_0's ndcg@5: 0.861623\n",
            "[1]\tvalid_0's ndcg@1: 0.572852\tvalid_0's ndcg@3: 0.64195\tvalid_0's ndcg@5: 0.823709\n",
            "[2]\tvalid_0's ndcg@1: 0.626889\tvalid_0's ndcg@3: 0.696263\tvalid_0's ndcg@5: 0.848642\n",
            "[3]\tvalid_0's ndcg@1: 0.641431\tvalid_0's ndcg@3: 0.715492\tvalid_0's ndcg@5: 0.856576\n",
            "[4]\tvalid_0's ndcg@1: 0.64817\tvalid_0's ndcg@3: 0.723643\tvalid_0's ndcg@5: 0.860176\n"
          ]
        },
        {
          "name": "stderr",
          "output_type": "stream",
          "text": [
            "[I 2023-06-25 17:47:49,973] Trial 42 finished with value: 0.8617989959692589 and parameters: {'num_leaves': 35, 'learning_rate': 0.076771345952442, 'max_depth': 9}. Best is trial 32 with value: 0.8628095002273279.\n"
          ]
        },
        {
          "name": "stdout",
          "output_type": "stream",
          "text": [
            "[5]\tvalid_0's ndcg@1: 0.650901\tvalid_0's ndcg@3: 0.728182\tvalid_0's ndcg@5: 0.861975\n",
            "[1]\tvalid_0's ndcg@1: 0.578864\tvalid_0's ndcg@3: 0.645095\tvalid_0's ndcg@5: 0.825621\n",
            "[2]\tvalid_0's ndcg@1: 0.619848\tvalid_0's ndcg@3: 0.689747\tvalid_0's ndcg@5: 0.845405\n",
            "[3]\tvalid_0's ndcg@1: 0.636288\tvalid_0's ndcg@3: 0.709638\tvalid_0's ndcg@5: 0.853838\n",
            "[4]\tvalid_0's ndcg@1: 0.643506\tvalid_0's ndcg@3: 0.719864\tvalid_0's ndcg@5: 0.858104\n",
            "[5]\tvalid_0's ndcg@1: 0.651894\tvalid_0's ndcg@3: 0.726977\tvalid_0's ndcg@5: 0.861553\n",
            "[1]\tvalid_0's ndcg@1: 0.57154\tvalid_0's ndcg@3: 0.630906\tvalid_0's ndcg@5: 0.820304\n",
            "[2]\tvalid_0's ndcg@1: 0.627864\tvalid_0's ndcg@3: 0.691206\tvalid_0's ndcg@5: 0.84711\n",
            "[3]\tvalid_0's ndcg@1: 0.640207\tvalid_0's ndcg@3: 0.709966\tvalid_0's ndcg@5: 0.854828\n",
            "[4]\tvalid_0's ndcg@1: 0.648986\tvalid_0's ndcg@3: 0.720601\tvalid_0's ndcg@5: 0.85945\n"
          ]
        },
        {
          "name": "stderr",
          "output_type": "stream",
          "text": [
            "[I 2023-06-25 17:48:21,903] Trial 43 finished with value: 0.8616466119581625 and parameters: {'num_leaves': 40, 'learning_rate': 0.0903007729389608, 'max_depth': 8}. Best is trial 32 with value: 0.8628095002273279.\n"
          ]
        },
        {
          "name": "stdout",
          "output_type": "stream",
          "text": [
            "[5]\tvalid_0's ndcg@1: 0.650493\tvalid_0's ndcg@3: 0.727113\tvalid_0's ndcg@5: 0.86174\n",
            "[1]\tvalid_0's ndcg@1: 0.580655\tvalid_0's ndcg@3: 0.658496\tvalid_0's ndcg@5: 0.829768\n",
            "[2]\tvalid_0's ndcg@1: 0.624619\tvalid_0's ndcg@3: 0.701207\tvalid_0's ndcg@5: 0.849432\n",
            "[3]\tvalid_0's ndcg@1: 0.636057\tvalid_0's ndcg@3: 0.716022\tvalid_0's ndcg@5: 0.855857\n",
            "[4]\tvalid_0's ndcg@1: 0.644197\tvalid_0's ndcg@3: 0.724603\tvalid_0's ndcg@5: 0.859869\n",
            "[5]\tvalid_0's ndcg@1: 0.648205\tvalid_0's ndcg@3: 0.729133\tvalid_0's ndcg@5: 0.861953\n",
            "[1]\tvalid_0's ndcg@1: 0.582145\tvalid_0's ndcg@3: 0.654059\tvalid_0's ndcg@5: 0.828719\n",
            "[2]\tvalid_0's ndcg@1: 0.626818\tvalid_0's ndcg@3: 0.70199\tvalid_0's ndcg@5: 0.850196\n",
            "[3]\tvalid_0's ndcg@1: 0.641147\tvalid_0's ndcg@3: 0.716319\tvalid_0's ndcg@5: 0.856842\n",
            "[4]\tvalid_0's ndcg@1: 0.647833\tvalid_0's ndcg@3: 0.725395\tvalid_0's ndcg@5: 0.860716\n"
          ]
        },
        {
          "name": "stderr",
          "output_type": "stream",
          "text": [
            "[I 2023-06-25 17:48:55,727] Trial 44 finished with value: 0.8620612674625372 and parameters: {'num_leaves': 44, 'learning_rate': 0.07684591402100044, 'max_depth': 10}. Best is trial 32 with value: 0.8628095002273279.\n"
          ]
        },
        {
          "name": "stdout",
          "output_type": "stream",
          "text": [
            "[5]\tvalid_0's ndcg@1: 0.648649\tvalid_0's ndcg@3: 0.729243\tvalid_0's ndcg@5: 0.862169\n",
            "[1]\tvalid_0's ndcg@1: 0.582305\tvalid_0's ndcg@3: 0.654819\tvalid_0's ndcg@5: 0.828938\n",
            "[2]\tvalid_0's ndcg@1: 0.623572\tvalid_0's ndcg@3: 0.697319\tvalid_0's ndcg@5: 0.84809\n",
            "[3]\tvalid_0's ndcg@1: 0.637884\tvalid_0's ndcg@3: 0.713692\tvalid_0's ndcg@5: 0.855381\n",
            "[4]\tvalid_0's ndcg@1: 0.644534\tvalid_0's ndcg@3: 0.722008\tvalid_0's ndcg@5: 0.859046\n",
            "[5]\tvalid_0's ndcg@1: 0.647975\tvalid_0's ndcg@3: 0.726103\tvalid_0's ndcg@5: 0.860982\n",
            "[1]\tvalid_0's ndcg@1: 0.580762\tvalid_0's ndcg@3: 0.645727\tvalid_0's ndcg@5: 0.825999\n",
            "[2]\tvalid_0's ndcg@1: 0.631978\tvalid_0's ndcg@3: 0.699151\tvalid_0's ndcg@5: 0.849966\n",
            "[3]\tvalid_0's ndcg@1: 0.639515\tvalid_0's ndcg@3: 0.713953\tvalid_0's ndcg@5: 0.855655\n",
            "[4]\tvalid_0's ndcg@1: 0.6484\tvalid_0's ndcg@3: 0.722794\tvalid_0's ndcg@5: 0.859892\n"
          ]
        },
        {
          "name": "stderr",
          "output_type": "stream",
          "text": [
            "[I 2023-06-25 17:49:28,242] Trial 45 finished with value: 0.8615487889813168 and parameters: {'num_leaves': 46, 'learning_rate': 0.056581175116147596, 'max_depth': 9}. Best is trial 32 with value: 0.8628095002273279.\n"
          ]
        },
        {
          "name": "stdout",
          "output_type": "stream",
          "text": [
            "[5]\tvalid_0's ndcg@1: 0.651699\tvalid_0's ndcg@3: 0.72865\tvalid_0's ndcg@5: 0.862115\n",
            "[1]\tvalid_0's ndcg@1: 0.575849\tvalid_0's ndcg@3: 0.656674\tvalid_0's ndcg@5: 0.828469\n",
            "[2]\tvalid_0's ndcg@1: 0.623838\tvalid_0's ndcg@3: 0.699816\tvalid_0's ndcg@5: 0.848828\n",
            "[3]\tvalid_0's ndcg@1: 0.634532\tvalid_0's ndcg@3: 0.716757\tvalid_0's ndcg@5: 0.855874\n",
            "[4]\tvalid_0's ndcg@1: 0.644126\tvalid_0's ndcg@3: 0.724583\tvalid_0's ndcg@5: 0.859832\n",
            "[5]\tvalid_0's ndcg@1: 0.650458\tvalid_0's ndcg@3: 0.728426\tvalid_0's ndcg@5: 0.861892\n",
            "[1]\tvalid_0's ndcg@1: 0.578332\tvalid_0's ndcg@3: 0.651801\tvalid_0's ndcg@5: 0.82746\n",
            "[2]\tvalid_0's ndcg@1: 0.62829\tvalid_0's ndcg@3: 0.701696\tvalid_0's ndcg@5: 0.850491\n",
            "[3]\tvalid_0's ndcg@1: 0.642016\tvalid_0's ndcg@3: 0.718808\tvalid_0's ndcg@5: 0.857734\n",
            "[4]\tvalid_0's ndcg@1: 0.648844\tvalid_0's ndcg@3: 0.726214\tvalid_0's ndcg@5: 0.861027\n"
          ]
        },
        {
          "name": "stderr",
          "output_type": "stream",
          "text": [
            "[I 2023-06-25 17:50:02,399] Trial 46 finished with value: 0.8627211240743116 and parameters: {'num_leaves': 37, 'learning_rate': 0.08896146710846986, 'max_depth': 10}. Best is trial 32 with value: 0.8628095002273279.\n"
          ]
        },
        {
          "name": "stdout",
          "output_type": "stream",
          "text": [
            "[5]\tvalid_0's ndcg@1: 0.653756\tvalid_0's ndcg@3: 0.731683\tvalid_0's ndcg@5: 0.86355\n",
            "[1]\tvalid_0's ndcg@1: 0.579042\tvalid_0's ndcg@3: 0.645315\tvalid_0's ndcg@5: 0.825704\n",
            "[2]\tvalid_0's ndcg@1: 0.616762\tvalid_0's ndcg@3: 0.685678\tvalid_0's ndcg@5: 0.843729\n",
            "[3]\tvalid_0's ndcg@1: 0.633557\tvalid_0's ndcg@3: 0.708688\tvalid_0's ndcg@5: 0.853155\n",
            "[4]\tvalid_0's ndcg@1: 0.639764\tvalid_0's ndcg@3: 0.718087\tvalid_0's ndcg@5: 0.857233\n",
            "[5]\tvalid_0's ndcg@1: 0.646751\tvalid_0's ndcg@3: 0.724738\tvalid_0's ndcg@5: 0.860307\n",
            "[1]\tvalid_0's ndcg@1: 0.572267\tvalid_0's ndcg@3: 0.631073\tvalid_0's ndcg@5: 0.820473\n",
            "[2]\tvalid_0's ndcg@1: 0.628591\tvalid_0's ndcg@3: 0.691864\tvalid_0's ndcg@5: 0.847351\n",
            "[3]\tvalid_0's ndcg@1: 0.636873\tvalid_0's ndcg@3: 0.71009\tvalid_0's ndcg@5: 0.854316\n",
            "[4]\tvalid_0's ndcg@1: 0.647709\tvalid_0's ndcg@3: 0.720713\tvalid_0's ndcg@5: 0.859203\n"
          ]
        },
        {
          "name": "stderr",
          "output_type": "stream",
          "text": [
            "[I 2023-06-25 17:50:35,419] Trial 47 finished with value: 0.8613095782589988 and parameters: {'num_leaves': 41, 'learning_rate': 0.0727027310549729, 'max_depth': 8}. Best is trial 32 with value: 0.8628095002273279.\n"
          ]
        },
        {
          "name": "stdout",
          "output_type": "stream",
          "text": [
            "[5]\tvalid_0's ndcg@1: 0.65294\tvalid_0's ndcg@3: 0.727822\tvalid_0's ndcg@5: 0.862312\n",
            "[1]\tvalid_0's ndcg@1: 0.575708\tvalid_0's ndcg@3: 0.651845\tvalid_0's ndcg@5: 0.827102\n",
            "[2]\tvalid_0's ndcg@1: 0.621462\tvalid_0's ndcg@3: 0.69479\tvalid_0's ndcg@5: 0.847112\n",
            "[3]\tvalid_0's ndcg@1: 0.6351\tvalid_0's ndcg@3: 0.711583\tvalid_0's ndcg@5: 0.854291\n",
            "[4]\tvalid_0's ndcg@1: 0.643435\tvalid_0's ndcg@3: 0.719787\tvalid_0's ndcg@5: 0.85822\n",
            "[5]\tvalid_0's ndcg@1: 0.649198\tvalid_0's ndcg@3: 0.726356\tvalid_0's ndcg@5: 0.86092\n",
            "[1]\tvalid_0's ndcg@1: 0.57553\tvalid_0's ndcg@3: 0.643409\tvalid_0's ndcg@5: 0.824563\n",
            "[2]\tvalid_0's ndcg@1: 0.627013\tvalid_0's ndcg@3: 0.693405\tvalid_0's ndcg@5: 0.847641\n",
            "[3]\tvalid_0's ndcg@1: 0.638274\tvalid_0's ndcg@3: 0.709768\tvalid_0's ndcg@5: 0.854332\n",
            "[4]\tvalid_0's ndcg@1: 0.645705\tvalid_0's ndcg@3: 0.720588\tvalid_0's ndcg@5: 0.858782\n"
          ]
        },
        {
          "name": "stderr",
          "output_type": "stream",
          "text": [
            "[I 2023-06-25 17:51:08,616] Trial 48 finished with value: 0.8611431707251533 and parameters: {'num_leaves': 38, 'learning_rate': 0.04922133836549592, 'max_depth': 9}. Best is trial 32 with value: 0.8628095002273279.\n"
          ]
        },
        {
          "name": "stdout",
          "output_type": "stream",
          "text": [
            "[5]\tvalid_0's ndcg@1: 0.649553\tvalid_0's ndcg@3: 0.726574\tvalid_0's ndcg@5: 0.861366\n",
            "[1]\tvalid_0's ndcg@1: 0.454334\tvalid_0's ndcg@3: 0.501769\tvalid_0's ndcg@5: 0.763367\n",
            "[2]\tvalid_0's ndcg@1: 0.547563\tvalid_0's ndcg@3: 0.589414\tvalid_0's ndcg@5: 0.804405\n",
            "[3]\tvalid_0's ndcg@1: 0.586508\tvalid_0's ndcg@3: 0.63134\tvalid_0's ndcg@5: 0.822933\n",
            "[4]\tvalid_0's ndcg@1: 0.604544\tvalid_0's ndcg@3: 0.653089\tvalid_0's ndcg@5: 0.83227\n",
            "[5]\tvalid_0's ndcg@1: 0.619813\tvalid_0's ndcg@3: 0.671327\tvalid_0's ndcg@5: 0.839958\n",
            "[1]\tvalid_0's ndcg@1: 0.449723\tvalid_0's ndcg@3: 0.499992\tvalid_0's ndcg@5: 0.762222\n",
            "[2]\tvalid_0's ndcg@1: 0.545081\tvalid_0's ndcg@3: 0.581393\tvalid_0's ndcg@5: 0.801486\n",
            "[3]\tvalid_0's ndcg@1: 0.582535\tvalid_0's ndcg@3: 0.622585\tvalid_0's ndcg@5: 0.819642\n",
            "[4]\tvalid_0's ndcg@1: 0.606299\tvalid_0's ndcg@3: 0.651955\tvalid_0's ndcg@5: 0.832048\n"
          ]
        },
        {
          "name": "stderr",
          "output_type": "stream",
          "text": [
            "[I 2023-06-25 17:51:39,537] Trial 49 finished with value: 0.8392538225225439 and parameters: {'num_leaves': 35, 'learning_rate': 0.06095088303533395, 'max_depth': 3}. Best is trial 32 with value: 0.8628095002273279.\n"
          ]
        },
        {
          "name": "stdout",
          "output_type": "stream",
          "text": [
            "[5]\tvalid_0's ndcg@1: 0.615361\tvalid_0's ndcg@3: 0.669056\tvalid_0's ndcg@5: 0.83855\n",
            "Best trial:\n",
            "NDCG: 0.8628095002273279\n",
            "Hyperparameters: {'num_leaves': 43, 'learning_rate': 0.08751028231551655, 'max_depth': 9}\n"
          ]
        }
      ],
      "source": [
        "def objective(trial, X, y):\n",
        "    params = {\n",
        "        'objective': 'lambdarank',\n",
        "        'boosting_type': 'gbdt',\n",
        "        'n_estimators': 5,\n",
        "        'importance_type': 'gain',\n",
        "        'metric': 'ndcg',\n",
        "        'num_leaves': trial.suggest_int('num_leaves', 2, 50),\n",
        "        'learning_rate': trial.suggest_float('learning_rate', 0.01, 0.1, log=True),\n",
        "        'max_depth': trial.suggest_int('max_depth', -1, 10),\n",
        "        'label_gain': [i for i in range(5)]\n",
        "    }\n",
        "\n",
        "    cv = GroupShuffleSplit(test_size=0.2, n_splits=2, random_state=42)\n",
        "\n",
        "    scores = []\n",
        "\n",
        "    for idx, (train_idx, test_idx) in enumerate(cv.split(X, y, groups=X['qid'])):\n",
        "        X_train, X_test = X.iloc[train_idx], X.iloc[test_idx]\n",
        "        y_train, y_test = y[train_idx], y[test_idx]\n",
        "\n",
        "        ranker = lightgbm.LGBMRanker(**params)\n",
        "\n",
        "        qids_train = X_train.groupby('qid')['qid'].count().to_numpy()\n",
        "        qids_test = X_test.groupby('qid')['qid'].count().to_numpy()\n",
        "\n",
        "        X_train = X_train.drop(['qid'], axis=1)\n",
        "        X_test = X_test.drop(['qid'], axis=1)\n",
        "\n",
        "        ranker.fit(\n",
        "            X=X_train,\n",
        "            y=y_train,\n",
        "            group=qids_train,\n",
        "            eval_set=[(X_test, y_test)],\n",
        "            eval_group=[qids_test],\n",
        "            eval_at=[1, 3, 5]\n",
        "        )\n",
        "\n",
        "        ndcg = ranker.best_score_['valid_0']['ndcg@5']\n",
        "        scores.append(ndcg)\n",
        "\n",
        "    return np.mean(scores)\n",
        "\n",
        "study = optuna.create_study(direction='maximize', study_name='LGBMRanker')\n",
        "func = lambda trial: objective(trial, X=X, y=y)\n",
        "study.optimize(func, n_trials=50)\n",
        "\n",
        "print('Best trial:')\n",
        "best_trial = study.best_trial\n",
        "print('NDCG: {}'.format(best_trial.value))\n",
        "print('Hyperparameters: {}'.format(best_trial.params))"
      ]
    },
    {
      "attachments": {},
      "cell_type": "markdown",
      "metadata": {
        "id": "WSV9iMzAX6ra"
      },
      "source": [
        "# Валидация"
      ]
    },
    {
      "cell_type": "code",
      "execution_count": 49,
      "metadata": {
        "id": "0eOkE7RgEtri"
      },
      "outputs": [],
      "source": [
        "X_train, y_train, qids_train = transform_data(train, current_embeddings, current_tokenizer, vector_dim)\n",
        "X_test, y_test, qids_test = transform_data(test, current_embeddings, current_tokenizer, vector_dim)\n",
        "\n",
        "X_train = X_train.drop(['qid'], axis=1)\n",
        "X_test = X_test.drop(['qid'], axis=1)"
      ]
    },
    {
      "cell_type": "code",
      "execution_count": 55,
      "metadata": {
        "colab": {
          "base_uri": "https://localhost:8080/",
          "height": 283
        },
        "id": "4gIScgNdTQRg",
        "outputId": "eb81c5ba-adce-4675-becc-7d0acd8b6ba9"
      },
      "outputs": [
        {
          "name": "stdout",
          "output_type": "stream",
          "text": [
            "[1]\tvalid_0's ndcg@1: 0.588307\tvalid_0's ndcg@3: 0.650968\tvalid_0's ndcg@5: 0.828975\n",
            "[2]\tvalid_0's ndcg@1: 0.626622\tvalid_0's ndcg@3: 0.695548\tvalid_0's ndcg@5: 0.848655\n",
            "[3]\tvalid_0's ndcg@1: 0.640338\tvalid_0's ndcg@3: 0.716714\tvalid_0's ndcg@5: 0.857024\n",
            "[4]\tvalid_0's ndcg@1: 0.649146\tvalid_0's ndcg@3: 0.726373\tvalid_0's ndcg@5: 0.861475\n",
            "[5]\tvalid_0's ndcg@1: 0.653293\tvalid_0's ndcg@3: 0.732024\tvalid_0's ndcg@5: 0.863792\n",
            "[6]\tvalid_0's ndcg@1: 0.657404\tvalid_0's ndcg@3: 0.73434\tvalid_0's ndcg@5: 0.865425\n",
            "[7]\tvalid_0's ndcg@1: 0.658786\tvalid_0's ndcg@3: 0.736912\tvalid_0's ndcg@5: 0.866502\n",
            "[8]\tvalid_0's ndcg@1: 0.663323\tvalid_0's ndcg@3: 0.739448\tvalid_0's ndcg@5: 0.867848\n",
            "[9]\tvalid_0's ndcg@1: 0.662898\tvalid_0's ndcg@3: 0.740562\tvalid_0's ndcg@5: 0.868091\n",
            "[10]\tvalid_0's ndcg@1: 0.666247\tvalid_0's ndcg@3: 0.742228\tvalid_0's ndcg@5: 0.869042\n"
          ]
        },
        {
          "data": {
            "text/html": [
              "<style>#sk-container-id-4 {color: black;background-color: white;}#sk-container-id-4 pre{padding: 0;}#sk-container-id-4 div.sk-toggleable {background-color: white;}#sk-container-id-4 label.sk-toggleable__label {cursor: pointer;display: block;width: 100%;margin-bottom: 0;padding: 0.3em;box-sizing: border-box;text-align: center;}#sk-container-id-4 label.sk-toggleable__label-arrow:before {content: \"▸\";float: left;margin-right: 0.25em;color: #696969;}#sk-container-id-4 label.sk-toggleable__label-arrow:hover:before {color: black;}#sk-container-id-4 div.sk-estimator:hover label.sk-toggleable__label-arrow:before {color: black;}#sk-container-id-4 div.sk-toggleable__content {max-height: 0;max-width: 0;overflow: hidden;text-align: left;background-color: #f0f8ff;}#sk-container-id-4 div.sk-toggleable__content pre {margin: 0.2em;color: black;border-radius: 0.25em;background-color: #f0f8ff;}#sk-container-id-4 input.sk-toggleable__control:checked~div.sk-toggleable__content {max-height: 200px;max-width: 100%;overflow: auto;}#sk-container-id-4 input.sk-toggleable__control:checked~label.sk-toggleable__label-arrow:before {content: \"▾\";}#sk-container-id-4 div.sk-estimator input.sk-toggleable__control:checked~label.sk-toggleable__label {background-color: #d4ebff;}#sk-container-id-4 div.sk-label input.sk-toggleable__control:checked~label.sk-toggleable__label {background-color: #d4ebff;}#sk-container-id-4 input.sk-hidden--visually {border: 0;clip: rect(1px 1px 1px 1px);clip: rect(1px, 1px, 1px, 1px);height: 1px;margin: -1px;overflow: hidden;padding: 0;position: absolute;width: 1px;}#sk-container-id-4 div.sk-estimator {font-family: monospace;background-color: #f0f8ff;border: 1px dotted black;border-radius: 0.25em;box-sizing: border-box;margin-bottom: 0.5em;}#sk-container-id-4 div.sk-estimator:hover {background-color: #d4ebff;}#sk-container-id-4 div.sk-parallel-item::after {content: \"\";width: 100%;border-bottom: 1px solid gray;flex-grow: 1;}#sk-container-id-4 div.sk-label:hover label.sk-toggleable__label {background-color: #d4ebff;}#sk-container-id-4 div.sk-serial::before {content: \"\";position: absolute;border-left: 1px solid gray;box-sizing: border-box;top: 0;bottom: 0;left: 50%;z-index: 0;}#sk-container-id-4 div.sk-serial {display: flex;flex-direction: column;align-items: center;background-color: white;padding-right: 0.2em;padding-left: 0.2em;position: relative;}#sk-container-id-4 div.sk-item {position: relative;z-index: 1;}#sk-container-id-4 div.sk-parallel {display: flex;align-items: stretch;justify-content: center;background-color: white;position: relative;}#sk-container-id-4 div.sk-item::before, #sk-container-id-4 div.sk-parallel-item::before {content: \"\";position: absolute;border-left: 1px solid gray;box-sizing: border-box;top: 0;bottom: 0;left: 50%;z-index: -1;}#sk-container-id-4 div.sk-parallel-item {display: flex;flex-direction: column;z-index: 1;position: relative;background-color: white;}#sk-container-id-4 div.sk-parallel-item:first-child::after {align-self: flex-end;width: 50%;}#sk-container-id-4 div.sk-parallel-item:last-child::after {align-self: flex-start;width: 50%;}#sk-container-id-4 div.sk-parallel-item:only-child::after {width: 0;}#sk-container-id-4 div.sk-dashed-wrapped {border: 1px dashed gray;margin: 0 0.4em 0.5em 0.4em;box-sizing: border-box;padding-bottom: 0.4em;background-color: white;}#sk-container-id-4 div.sk-label label {font-family: monospace;font-weight: bold;display: inline-block;line-height: 1.2em;}#sk-container-id-4 div.sk-label-container {text-align: center;}#sk-container-id-4 div.sk-container {/* jupyter's `normalize.less` sets `[hidden] { display: none; }` but bootstrap.min.css set `[hidden] { display: none !important; }` so we also need the `!important` here to be able to override the default hidden behavior on the sphinx rendered scikit-learn.org. See: https://github.com/scikit-learn/scikit-learn/issues/21755 */display: inline-block !important;position: relative;}#sk-container-id-4 div.sk-text-repr-fallback {display: none;}</style><div id=\"sk-container-id-4\" class=\"sk-top-container\"><div class=\"sk-text-repr-fallback\"><pre>LGBMRanker(importance_type=&#x27;gain&#x27;, label_gain=[0, 1, 2, 3, 4],\n",
              "           learning_rate=0.08751028231551655, max_depth=9, metric=&#x27;ndcg&#x27;,\n",
              "           n_estimators=10, num_leaves=43, objective=&#x27;lambdarank&#x27;)</pre><b>In a Jupyter environment, please rerun this cell to show the HTML representation or trust the notebook. <br />On GitHub, the HTML representation is unable to render, please try loading this page with nbviewer.org.</b></div><div class=\"sk-container\" hidden><div class=\"sk-item\"><div class=\"sk-estimator sk-toggleable\"><input class=\"sk-toggleable__control sk-hidden--visually\" id=\"sk-estimator-id-4\" type=\"checkbox\" checked><label for=\"sk-estimator-id-4\" class=\"sk-toggleable__label sk-toggleable__label-arrow\">LGBMRanker</label><div class=\"sk-toggleable__content\"><pre>LGBMRanker(importance_type=&#x27;gain&#x27;, label_gain=[0, 1, 2, 3, 4],\n",
              "           learning_rate=0.08751028231551655, max_depth=9, metric=&#x27;ndcg&#x27;,\n",
              "           n_estimators=10, num_leaves=43, objective=&#x27;lambdarank&#x27;)</pre></div></div></div></div></div>"
            ],
            "text/plain": [
              "LGBMRanker(importance_type='gain', label_gain=[0, 1, 2, 3, 4],\n",
              "           learning_rate=0.08751028231551655, max_depth=9, metric='ndcg',\n",
              "           n_estimators=10, num_leaves=43, objective='lambdarank')"
            ]
          },
          "execution_count": 55,
          "metadata": {},
          "output_type": "execute_result"
        }
      ],
      "source": [
        "best_hyper = best_trial.params\n",
        "\n",
        "ranker = lightgbm.LGBMRanker(\n",
        "    objective='lambdarank',\n",
        "    boosting_type='gbdt',\n",
        "    n_estimators=10,\n",
        "    importance_type='gain',\n",
        "    metric='ndcg',\n",
        "    num_leaves=best_hyper['num_leaves'],\n",
        "    learning_rate=best_hyper['learning_rate'],\n",
        "    max_depth=best_hyper['max_depth'],\n",
        "    label_gain=[i for i in range(max(y_train.max(), y_test.max()) + 1)]\n",
        ")\n",
        "\n",
        "ranker.fit(\n",
        "    X=X_train,\n",
        "    y=y_train,\n",
        "    group=qids_train,\n",
        "    eval_set=[(X_test, y_test)],\n",
        "    eval_group=[qids_test],\n",
        "    eval_at=[1, 3, 5]\n",
        ")"
      ]
    },
    {
      "cell_type": "code",
      "execution_count": 56,
      "metadata": {
        "id": "QFxR7gquDT5o"
      },
      "outputs": [],
      "source": [
        "X_val, y_val, _ = transform_data(main_val, current_embeddings, current_tokenizer, vector_dim)\n",
        "X_val = X_val.drop(['qid'], axis=1)"
      ]
    },
    {
      "cell_type": "code",
      "execution_count": 156,
      "metadata": {
        "colab": {
          "base_uri": "https://localhost:8080/"
        },
        "id": "WQTzI4L0XIwc",
        "outputId": "7a491e9a-6092-4ccf-a580-547b2c12e911"
      },
      "outputs": [
        {
          "name": "stdout",
          "output_type": "stream",
          "text": [
            "VAL ndcg@1: 0.6666\n",
            "VAL ndcg@2: 0.6988\n",
            "VAL ndcg@3: 0.7433\n",
            "VAL ndcg@4: 0.7995\n",
            "VAL ndcg@5: 0.8694\n"
          ]
        }
      ],
      "source": [
        "from sklearn.metrics import ndcg_score\n",
        "\n",
        "y_pred_val = ranker.predict(X_val)\n",
        "y_pred_val = np.reshape(y_pred_val, (-1, 5))\n",
        "\n",
        "y_val = np.reshape(y_val, (-1, 5))\n",
        "\n",
        "for i in range(5):\n",
        "    print(f'VAL ndcg@{i+1}:', ndcg_score(y_val, y_pred_val, k=i+1).round(4))"
      ]
    },
    {
      "cell_type": "code",
      "execution_count": 157,
      "metadata": {
        "colab": {
          "base_uri": "https://localhost:8080/"
        },
        "id": "ZVT-yqgI8XbS",
        "outputId": "99cc3c9e-a631-4aa7-fe10-2f6b5ea3a147"
      },
      "outputs": [
        {
          "name": "stdout",
          "output_type": "stream",
          "text": [
            "VAL hits@1: 0.394\n",
            "VAL hits@2: 0.6364\n",
            "VAL hits@3: 0.8067\n",
            "VAL hits@4: 0.9271\n",
            "VAL hits@5: 1.0\n"
          ]
        }
      ],
      "source": [
        "y_pred_val = np.argsort(np.reshape(y_pred_val, (-1, 5)))\n",
        "y_pred_val_list = [list(line) for line in y_pred_val]\n",
        "\n",
        "for i in range(5):\n",
        "    print(f'VAL hits@{i+1}:', round(hits_score(y_pred_val_list, k=i+1), 4))"
      ]
    },
    {
      "cell_type": "code",
      "execution_count": 159,
      "metadata": {
        "colab": {
          "base_uri": "https://localhost:8080/"
        },
        "id": "QD-r6Hyh_qqB",
        "outputId": "79e37a85-1891-4a54-eeb6-396ce7156d30"
      },
      "outputs": [
        {
          "name": "stdout",
          "output_type": "stream",
          "text": [
            "VAL dcg@1: 0.394\n",
            "VAL dcg@2: 0.5381\n",
            "VAL dcg@3: 0.6186\n",
            "VAL dcg@4: 0.6719\n",
            "VAL dcg@5: 0.7078\n"
          ]
        }
      ],
      "source": [
        "for i in range(5):\n",
        "    print(f'VAL dcg@{i+1}:', round(dcg_score(y_pred_val_list, k=i+1), 4))"
      ]
    },
    {
      "attachments": {},
      "cell_type": "markdown",
      "metadata": {
        "id": "NK9C8elpvB2E"
      },
      "source": [
        "# Предсказания для тестового набора данных"
      ]
    },
    {
      "cell_type": "code",
      "execution_count": 161,
      "metadata": {
        "id": "-Ltj_gGevvMQ"
      },
      "outputs": [],
      "source": [
        "test_data = pd.read_json('ranking_test.jsonl', lines=True)\n",
        "new_rows = []\n",
        "for index, row in test_data.iterrows():\n",
        "    for comment in row['comments']:\n",
        "        new_row = {'text': row['text'], 'comments_text': comment['text'], 'comments_score': comment['score']}\n",
        "        new_rows.append(new_row)"
      ]
    },
    {
      "cell_type": "code",
      "execution_count": 162,
      "metadata": {
        "colab": {
          "base_uri": "https://localhost:8080/",
          "height": 424
        },
        "id": "rZBJDCQLvvMQ",
        "outputId": "046a72b9-9e01-4dab-b0e4-9e3394c27080"
      },
      "outputs": [
        {
          "data": {
            "text/html": [
              "\n",
              "  <div id=\"df-69e26cec-4aa5-4f67-9075-34220f9cb5bf\">\n",
              "    <div class=\"colab-df-container\">\n",
              "      <div>\n",
              "<style scoped>\n",
              "    .dataframe tbody tr th:only-of-type {\n",
              "        vertical-align: middle;\n",
              "    }\n",
              "\n",
              "    .dataframe tbody tr th {\n",
              "        vertical-align: top;\n",
              "    }\n",
              "\n",
              "    .dataframe thead th {\n",
              "        text-align: right;\n",
              "    }\n",
              "</style>\n",
              "<table border=\"1\" class=\"dataframe\">\n",
              "  <thead>\n",
              "    <tr style=\"text-align: right;\">\n",
              "      <th></th>\n",
              "      <th>text</th>\n",
              "      <th>comments_text</th>\n",
              "      <th>comments_score</th>\n",
              "    </tr>\n",
              "  </thead>\n",
              "  <tbody>\n",
              "    <tr>\n",
              "      <th>0</th>\n",
              "      <td>iOS 8.0.1 released, broken on iPhone 6 models,...</td>\n",
              "      <td>I&amp;#x27;m still waiting for them to stabilize w...</td>\n",
              "      <td>None</td>\n",
              "    </tr>\n",
              "    <tr>\n",
              "      <th>1</th>\n",
              "      <td>iOS 8.0.1 released, broken on iPhone 6 models,...</td>\n",
              "      <td>For those who upgraded, no need to do a restor...</td>\n",
              "      <td>None</td>\n",
              "    </tr>\n",
              "    <tr>\n",
              "      <th>2</th>\n",
              "      <td>iOS 8.0.1 released, broken on iPhone 6 models,...</td>\n",
              "      <td>Upgraded shortly after it was released and suf...</td>\n",
              "      <td>None</td>\n",
              "    </tr>\n",
              "    <tr>\n",
              "      <th>3</th>\n",
              "      <td>iOS 8.0.1 released, broken on iPhone 6 models,...</td>\n",
              "      <td>I think they were under a lot of pressure on t...</td>\n",
              "      <td>None</td>\n",
              "    </tr>\n",
              "    <tr>\n",
              "      <th>4</th>\n",
              "      <td>iOS 8.0.1 released, broken on iPhone 6 models,...</td>\n",
              "      <td>Fix for those who already updated:  http:&amp;#x2F...</td>\n",
              "      <td>None</td>\n",
              "    </tr>\n",
              "    <tr>\n",
              "      <th>...</th>\n",
              "      <td>...</td>\n",
              "      <td>...</td>\n",
              "      <td>...</td>\n",
              "    </tr>\n",
              "    <tr>\n",
              "      <th>70015</th>\n",
              "      <td>Why does Gmail hate my domain?</td>\n",
              "      <td>I send a LOT of emails each month (email newsl...</td>\n",
              "      <td>None</td>\n",
              "    </tr>\n",
              "    <tr>\n",
              "      <th>70016</th>\n",
              "      <td>Why does Gmail hate my domain?</td>\n",
              "      <td>I hit a similar problems when sending automate...</td>\n",
              "      <td>None</td>\n",
              "    </tr>\n",
              "    <tr>\n",
              "      <th>70017</th>\n",
              "      <td>Why does Gmail hate my domain?</td>\n",
              "      <td>That&amp;#x27;s all a bit presumptive and inflamma...</td>\n",
              "      <td>None</td>\n",
              "    </tr>\n",
              "    <tr>\n",
              "      <th>70018</th>\n",
              "      <td>Why does Gmail hate my domain?</td>\n",
              "      <td>If the domain is bitbin.de and the mail server...</td>\n",
              "      <td>None</td>\n",
              "    </tr>\n",
              "    <tr>\n",
              "      <th>70019</th>\n",
              "      <td>Why does Gmail hate my domain?</td>\n",
              "      <td>I&amp;#x27;m very curious about that as well as I ...</td>\n",
              "      <td>None</td>\n",
              "    </tr>\n",
              "  </tbody>\n",
              "</table>\n",
              "<p>70020 rows × 3 columns</p>\n",
              "</div>\n",
              "      <button class=\"colab-df-convert\" onclick=\"convertToInteractive('df-69e26cec-4aa5-4f67-9075-34220f9cb5bf')\"\n",
              "              title=\"Convert this dataframe to an interactive table.\"\n",
              "              style=\"display:none;\">\n",
              "        \n",
              "  <svg xmlns=\"http://www.w3.org/2000/svg\" height=\"24px\"viewBox=\"0 0 24 24\"\n",
              "       width=\"24px\">\n",
              "    <path d=\"M0 0h24v24H0V0z\" fill=\"none\"/>\n",
              "    <path d=\"M18.56 5.44l.94 2.06.94-2.06 2.06-.94-2.06-.94-.94-2.06-.94 2.06-2.06.94zm-11 1L8.5 8.5l.94-2.06 2.06-.94-2.06-.94L8.5 2.5l-.94 2.06-2.06.94zm10 10l.94 2.06.94-2.06 2.06-.94-2.06-.94-.94-2.06-.94 2.06-2.06.94z\"/><path d=\"M17.41 7.96l-1.37-1.37c-.4-.4-.92-.59-1.43-.59-.52 0-1.04.2-1.43.59L10.3 9.45l-7.72 7.72c-.78.78-.78 2.05 0 2.83L4 21.41c.39.39.9.59 1.41.59.51 0 1.02-.2 1.41-.59l7.78-7.78 2.81-2.81c.8-.78.8-2.07 0-2.86zM5.41 20L4 18.59l7.72-7.72 1.47 1.35L5.41 20z\"/>\n",
              "  </svg>\n",
              "      </button>\n",
              "      \n",
              "  <style>\n",
              "    .colab-df-container {\n",
              "      display:flex;\n",
              "      flex-wrap:wrap;\n",
              "      gap: 12px;\n",
              "    }\n",
              "\n",
              "    .colab-df-convert {\n",
              "      background-color: #E8F0FE;\n",
              "      border: none;\n",
              "      border-radius: 50%;\n",
              "      cursor: pointer;\n",
              "      display: none;\n",
              "      fill: #1967D2;\n",
              "      height: 32px;\n",
              "      padding: 0 0 0 0;\n",
              "      width: 32px;\n",
              "    }\n",
              "\n",
              "    .colab-df-convert:hover {\n",
              "      background-color: #E2EBFA;\n",
              "      box-shadow: 0px 1px 2px rgba(60, 64, 67, 0.3), 0px 1px 3px 1px rgba(60, 64, 67, 0.15);\n",
              "      fill: #174EA6;\n",
              "    }\n",
              "\n",
              "    [theme=dark] .colab-df-convert {\n",
              "      background-color: #3B4455;\n",
              "      fill: #D2E3FC;\n",
              "    }\n",
              "\n",
              "    [theme=dark] .colab-df-convert:hover {\n",
              "      background-color: #434B5C;\n",
              "      box-shadow: 0px 1px 3px 1px rgba(0, 0, 0, 0.15);\n",
              "      filter: drop-shadow(0px 1px 2px rgba(0, 0, 0, 0.3));\n",
              "      fill: #FFFFFF;\n",
              "    }\n",
              "  </style>\n",
              "\n",
              "      <script>\n",
              "        const buttonEl =\n",
              "          document.querySelector('#df-69e26cec-4aa5-4f67-9075-34220f9cb5bf button.colab-df-convert');\n",
              "        buttonEl.style.display =\n",
              "          google.colab.kernel.accessAllowed ? 'block' : 'none';\n",
              "\n",
              "        async function convertToInteractive(key) {\n",
              "          const element = document.querySelector('#df-69e26cec-4aa5-4f67-9075-34220f9cb5bf');\n",
              "          const dataTable =\n",
              "            await google.colab.kernel.invokeFunction('convertToInteractive',\n",
              "                                                     [key], {});\n",
              "          if (!dataTable) return;\n",
              "\n",
              "          const docLinkHtml = 'Like what you see? Visit the ' +\n",
              "            '<a target=\"_blank\" href=https://colab.research.google.com/notebooks/data_table.ipynb>data table notebook</a>'\n",
              "            + ' to learn more about interactive tables.';\n",
              "          element.innerHTML = '';\n",
              "          dataTable['output_type'] = 'display_data';\n",
              "          await google.colab.output.renderOutput(dataTable, element);\n",
              "          const docLink = document.createElement('div');\n",
              "          docLink.innerHTML = docLinkHtml;\n",
              "          element.appendChild(docLink);\n",
              "        }\n",
              "      </script>\n",
              "    </div>\n",
              "  </div>\n",
              "  "
            ],
            "text/plain": [
              "                                                    text  \\\n",
              "0      iOS 8.0.1 released, broken on iPhone 6 models,...   \n",
              "1      iOS 8.0.1 released, broken on iPhone 6 models,...   \n",
              "2      iOS 8.0.1 released, broken on iPhone 6 models,...   \n",
              "3      iOS 8.0.1 released, broken on iPhone 6 models,...   \n",
              "4      iOS 8.0.1 released, broken on iPhone 6 models,...   \n",
              "...                                                  ...   \n",
              "70015                     Why does Gmail hate my domain?   \n",
              "70016                     Why does Gmail hate my domain?   \n",
              "70017                     Why does Gmail hate my domain?   \n",
              "70018                     Why does Gmail hate my domain?   \n",
              "70019                     Why does Gmail hate my domain?   \n",
              "\n",
              "                                           comments_text comments_score  \n",
              "0      I&#x27;m still waiting for them to stabilize w...           None  \n",
              "1      For those who upgraded, no need to do a restor...           None  \n",
              "2      Upgraded shortly after it was released and suf...           None  \n",
              "3      I think they were under a lot of pressure on t...           None  \n",
              "4      Fix for those who already updated:  http:&#x2F...           None  \n",
              "...                                                  ...            ...  \n",
              "70015  I send a LOT of emails each month (email newsl...           None  \n",
              "70016  I hit a similar problems when sending automate...           None  \n",
              "70017  That&#x27;s all a bit presumptive and inflamma...           None  \n",
              "70018  If the domain is bitbin.de and the mail server...           None  \n",
              "70019  I&#x27;m very curious about that as well as I ...           None  \n",
              "\n",
              "[70020 rows x 3 columns]"
            ]
          },
          "execution_count": 162,
          "metadata": {},
          "output_type": "execute_result"
        }
      ],
      "source": [
        "test_data = pd.DataFrame(new_rows)\n",
        "test_data = test_data.reset_index(drop=True)\n",
        "test_data"
      ]
    },
    {
      "cell_type": "code",
      "execution_count": null,
      "metadata": {
        "id": "9aQ9OhGcvvMS"
      },
      "outputs": [],
      "source": [
        "# Предобработка данных\n",
        "test_data.iloc[:, :2] = preprocessing(test_data.iloc[:, :2])"
      ]
    },
    {
      "cell_type": "code",
      "execution_count": 164,
      "metadata": {
        "id": "jY1o7NRkxLtL"
      },
      "outputs": [],
      "source": [
        "X, y, _ = transform_data(test_data, current_embeddings, current_tokenizer, vector_dim)\n",
        "X = X.drop(['qid'], axis=1)"
      ]
    },
    {
      "cell_type": "code",
      "execution_count": 165,
      "metadata": {
        "id": "uorsR7iLysqE"
      },
      "outputs": [],
      "source": [
        "# Делаем предсказания\n",
        "y_pred = ranker.predict(X)\n",
        "y_pred = np.argsort(np.reshape(y_pred, (-1, 5))).flatten()"
      ]
    },
    {
      "cell_type": "code",
      "execution_count": 166,
      "metadata": {
        "id": "qCQ5hubd3hTQ"
      },
      "outputs": [],
      "source": [
        "# Обновляем файл с тестовыми данными\n",
        "import json\n",
        "\n",
        "with open('ranking_test.jsonl', 'r') as f:\n",
        "    lines = f.readlines()\n",
        "\n",
        "updated_lines = []\n",
        "for i, line in enumerate(lines):\n",
        "    data = json.loads(line)\n",
        "    if 'comments' in data:\n",
        "        comments = data['comments']\n",
        "        for j, comment in enumerate(comments):\n",
        "            comment['score'] = int(y_pred[i * len(comments) + j])\n",
        "    updated_lines.append(json.dumps(data) + '\\n')\n",
        "\n",
        "with open('ranking_test.jsonl', 'w') as f:\n",
        "    f.writelines(updated_lines)"
      ]
    }
  ],
  "metadata": {
    "colab": {
      "provenance": []
    },
    "kernelspec": {
      "display_name": "Python 3",
      "name": "python3"
    },
    "language_info": {
      "name": "python"
    }
  },
  "nbformat": 4,
  "nbformat_minor": 0
}
