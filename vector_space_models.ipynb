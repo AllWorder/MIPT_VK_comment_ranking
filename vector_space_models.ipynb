{
 "cells": [
  {
   "cell_type": "code",
   "execution_count": 1,
   "metadata": {},
   "outputs": [],
   "source": [
    "import numpy as np\n",
    "import scipy\n",
    "import pandas as pd\n",
    "import matplotlib.pyplot as plt\n",
    "import seaborn as sns\n",
    "\n",
    "from tqdm import tqdm"
   ]
  },
  {
   "cell_type": "code",
   "execution_count": 2,
   "metadata": {},
   "outputs": [
    {
     "name": "stderr",
     "output_type": "stream",
     "text": [
      "[nltk_data] Downloading package punkt to /home/allworder/nltk_data...\n",
      "[nltk_data]   Package punkt is already up-to-date!\n"
     ]
    }
   ],
   "source": [
    "import nltk\n",
    "nltk.download('punkt')\n",
    "from nltk.tokenize import word_tokenize, sent_tokenize"
   ]
  },
  {
   "cell_type": "code",
   "execution_count": 3,
   "metadata": {},
   "outputs": [],
   "source": [
    "import torch"
   ]
  },
  {
   "attachments": {},
   "cell_type": "markdown",
   "metadata": {},
   "source": [
    "Будем использовать NDCG метрику для оценки качества модели"
   ]
  },
  {
   "cell_type": "code",
   "execution_count": 4,
   "metadata": {},
   "outputs": [],
   "source": [
    "from sklearn.metrics import ndcg_score"
   ]
  },
  {
   "attachments": {},
   "cell_type": "markdown",
   "metadata": {},
   "source": [
    "Меткрики близости веторов:"
   ]
  },
  {
   "cell_type": "code",
   "execution_count": 5,
   "metadata": {},
   "outputs": [],
   "source": [
    "from sklearn.metrics.pairwise import cosine_similarity"
   ]
  },
  {
   "cell_type": "code",
   "execution_count": 6,
   "metadata": {},
   "outputs": [],
   "source": [
    "import vector_space_models_utils\n",
    "from vector_space_models_utils import rank_comments"
   ]
  },
  {
   "attachments": {},
   "cell_type": "markdown",
   "metadata": {},
   "source": [
    "Загрузка предобработанного датасета:"
   ]
  },
  {
   "cell_type": "code",
   "execution_count": 7,
   "metadata": {},
   "outputs": [],
   "source": [
    "train_df = pd.read_table('ranking_train.tsv')"
   ]
  },
  {
   "cell_type": "code",
   "execution_count": 8,
   "metadata": {},
   "outputs": [],
   "source": [
    "import string"
   ]
  },
  {
   "cell_type": "code",
   "execution_count": 9,
   "metadata": {},
   "outputs": [],
   "source": [
    "from nltk.corpus import stopwords\n",
    "\n",
    "stopWords = set(stopwords.words('english'))"
   ]
  },
  {
   "attachments": {},
   "cell_type": "markdown",
   "metadata": {},
   "source": [
    "# Word2vec and GloVe pretrained models vectorization"
   ]
  },
  {
   "attachments": {},
   "cell_type": "markdown",
   "metadata": {},
   "source": [
    "В данном разделе для перевода текстов комментариев и поста в вектора мы будем использовать уже предобученные embedding Word2vec или GloVe."
   ]
  },
  {
   "cell_type": "code",
   "execution_count": 10,
   "metadata": {},
   "outputs": [],
   "source": [
    "import gensim.downloader"
   ]
  },
  {
   "attachments": {},
   "cell_type": "markdown",
   "metadata": {},
   "source": [
    "Загрузим модель:"
   ]
  },
  {
   "cell_type": "code",
   "execution_count": 8,
   "metadata": {},
   "outputs": [],
   "source": [
    "glove_embeddings = gensim.downloader.load('glove-wiki-gigaword-50')\n",
    "glove_vectors_dim = 50"
   ]
  },
  {
   "attachments": {},
   "cell_type": "markdown",
   "metadata": {},
   "source": [
    "Создадим токенизатор с небольшой предобработкой текста:"
   ]
  },
  {
   "cell_type": "code",
   "execution_count": 14,
   "metadata": {},
   "outputs": [],
   "source": [
    "class NLTK_Tokenizer:\n",
    "    def __init__(self, delete_punctuation=False, delete_stop_words=False):\n",
    "        self.delete_punctuation = delete_punctuation\n",
    "        self.delete_stop_words = delete_stop_words\n",
    "    def tokenize(self, text, ):\n",
    "        if self.delete_punctuation:\n",
    "            text = text.translate(str.maketrans('', '', string.punctuation))\n",
    "        tokens = word_tokenize(text.lower())\n",
    "        if self.delete_stop_words:\n",
    "            return [token for token in tokens if token not in stopWords]\n",
    "        return tokens\n",
    "    \n",
    "nltk_tokenizer = NLTK_Tokenizer()"
   ]
  },
  {
   "attachments": {},
   "cell_type": "markdown",
   "metadata": {},
   "source": [
    "Создадим экземпляр класса Embeddings_text_to_vector с описанными ранее embedding и tokenizer:"
   ]
  },
  {
   "cell_type": "code",
   "execution_count": 16,
   "metadata": {},
   "outputs": [],
   "source": [
    "from vector_space_models_utils import Embeddings_text_to_vector"
   ]
  },
  {
   "cell_type": "code",
   "execution_count": 11,
   "metadata": {},
   "outputs": [],
   "source": [
    "glove_wiki_50_vectorizer = Embeddings_text_to_vector(glove_embeddings, nltk_tokenizer, glove_vectors_dim)"
   ]
  },
  {
   "cell_type": "code",
   "execution_count": 33,
   "metadata": {},
   "outputs": [],
   "source": [
    "def get_ndcg_of_whole_dataset(train_df, vectorizer, verbose=False):\n",
    "\n",
    "    predicted_ranks = []\n",
    "    true_ranks = []\n",
    "\n",
    "    for i in range(len(train_df)):\n",
    "        comments_text = []\n",
    "        post_text = train_df.loc[i]['text']\n",
    "        comments_text.append(train_df.loc[i]['comments_text_0'])\n",
    "        comments_text.append(train_df.loc[i]['comments_text_1'])\n",
    "        comments_text.append(train_df.loc[i]['comments_text_2'])\n",
    "        comments_text.append(train_df.loc[i]['comments_text_3'])\n",
    "        comments_text.append(train_df.loc[i]['comments_text_4'])\n",
    "\n",
    "        predicted_rank = rank_comments(post_text, comments_text, vectorizer)\n",
    "        true_rank = [0, 1, 2, 3, 4]\n",
    "\n",
    "        predicted_ranks.append(predicted_rank)\n",
    "        true_ranks.append(true_rank)\n",
    "    result = ndcg_score(true_ranks, predicted_ranks, k=5)\n",
    "    if verbose:\n",
    "        print(f'NDCG@5: {result}')\n",
    "\n",
    "    return result"
   ]
  },
  {
   "attachments": {},
   "cell_type": "markdown",
   "metadata": {},
   "source": [
    "Проверим данный подход, используя разные embeddings и методы предобрабоки текста:"
   ]
  },
  {
   "cell_type": "code",
   "execution_count": 17,
   "metadata": {},
   "outputs": [
    {
     "name": "stderr",
     "output_type": "stream",
     "text": [
      " 17%|█▋        | 1/6 [03:23<16:58, 203.67s/it]"
     ]
    },
    {
     "name": "stdout",
     "output_type": "stream",
     "text": [
      "for embedding glove-wiki-gigaword-50 NDCG@5: 0.8285731620711256\n"
     ]
    },
    {
     "name": "stderr",
     "output_type": "stream",
     "text": [
      " 33%|███▎      | 2/6 [06:46<13:33, 203.27s/it]"
     ]
    },
    {
     "name": "stdout",
     "output_type": "stream",
     "text": [
      "for embedding glove-wiki-gigaword-100 NDCG@5: 0.8321542241096035\n",
      "[==================================================] 100.0% 252.1/252.1MB downloaded\n"
     ]
    },
    {
     "name": "stderr",
     "output_type": "stream",
     "text": [
      " 50%|█████     | 3/6 [11:43<12:18, 246.11s/it]"
     ]
    },
    {
     "name": "stdout",
     "output_type": "stream",
     "text": [
      "for embedding glove-wiki-gigaword-200 NDCG@5: 0.8334439360084916\n",
      "[==================================================] 100.0% 104.8/104.8MB downloaded\n"
     ]
    },
    {
     "name": "stderr",
     "output_type": "stream",
     "text": [
      " 67%|██████▋   | 4/6 [15:42<08:06, 243.13s/it]"
     ]
    },
    {
     "name": "stdout",
     "output_type": "stream",
     "text": [
      "for embedding glove-twitter-25 NDCG@5: 0.8260184715899926\n",
      "[==================================================] 100.0% 199.5/199.5MB downloaded\n"
     ]
    },
    {
     "name": "stderr",
     "output_type": "stream",
     "text": [
      " 83%|████████▎ | 5/6 [20:04<04:10, 250.13s/it]"
     ]
    },
    {
     "name": "stdout",
     "output_type": "stream",
     "text": [
      "for embedding glove-twitter-50 NDCG@5: 0.8286520432630164\n",
      "[==================================================] 100.0% 387.1/387.1MB downloaded\n"
     ]
    },
    {
     "name": "stderr",
     "output_type": "stream",
     "text": [
      "100%|██████████| 6/6 [25:41<00:00, 256.88s/it]"
     ]
    },
    {
     "name": "stdout",
     "output_type": "stream",
     "text": [
      "for embedding glove-twitter-100 NDCG@5: 0.8317598302992919\n"
     ]
    },
    {
     "name": "stderr",
     "output_type": "stream",
     "text": [
      "\n"
     ]
    }
   ],
   "source": [
    "embeddings_list = [('glove-wiki-gigaword-50', 50), ('glove-wiki-gigaword-100', 100), ('glove-wiki-gigaword-200', 200),\n",
    "                   ('glove-twitter-25', 25), ('glove-twitter-50', 50), ('glove-twitter-100', 100)]\n",
    "\n",
    "for embedding_name, vector_dim in tqdm(embeddings_list):\n",
    "    current_embeddings = gensim.downloader.load(embedding_name)\n",
    "    current_tokenizer = NLTK_Tokenizer(delete_punctuation=True, delete_stop_words=True)\n",
    "    current_vectorizer = Embeddings_text_to_vector(current_embeddings, current_tokenizer, vector_dim)\n",
    "\n",
    "    current_ndcg =  get_ndcg_of_whole_dataset(train_df, current_vectorizer)\n",
    "\n",
    "    print(f'for embedding {embedding_name} NDCG@5: {current_ndcg}')"
   ]
  },
  {
   "attachments": {},
   "cell_type": "markdown",
   "metadata": {},
   "source": [
    "После тестирования различных embeddings:\n",
    "\n",
    "| Embedding | NDCG@5 |\n",
    "|----------|----------|\n",
    "| glove-wiki-gigaword-50 | 0.829 |\n",
    "| glove-wiki-gigaword-100 | 0.832 |\n",
    "| glove-wiki-gigaword-200 | 0.833 |\n",
    "| glove-twitter-25 | 0.826 |\n",
    "| glove-twitter-50 | 0.829 |\n",
    "| glove-twitter-100 | 0.832 |\n",
    "\n",
    "Получили результат, что увеличение размерности вектора не приводит к сильному улучшению результата. \n",
    "\n",
    "В нашем случае результат на embeddings из текстов википедии или твиттера сопоставим\n",
    "\n",
    "На ранжирование всей обучающей выборки уходит примерно 200-250 с"
   ]
  },
  {
   "attachments": {},
   "cell_type": "markdown",
   "metadata": {},
   "source": [
    "# Tf-IDF vectorization"
   ]
  },
  {
   "attachments": {},
   "cell_type": "markdown",
   "metadata": {},
   "source": [
    "В данном разделе мы будем использовать Tf-IDF вектора для векторизации текста"
   ]
  },
  {
   "attachments": {},
   "cell_type": "markdown",
   "metadata": {},
   "source": [
    "В начале загрузим корпус документов, состоящий из текстов и постов, и комментариев:"
   ]
  },
  {
   "cell_type": "code",
   "execution_count": 10,
   "metadata": {},
   "outputs": [],
   "source": [
    "corpus = []\n",
    "for i in range(len(train_df)):\n",
    "    for column in train_df.columns:\n",
    "        corpus.append(train_df.loc[i][column])"
   ]
  },
  {
   "attachments": {},
   "cell_type": "markdown",
   "metadata": {},
   "source": [
    "Препроцессинг документов в корпусе:\n",
    "- уберём пунктуацию\n",
    "- уберём стоп-слова, так как у них всё равно будет почти нулевой IDF\n",
    "- проведём стемминг, чтобы уменьшить размерность векторов"
   ]
  },
  {
   "cell_type": "code",
   "execution_count": 11,
   "metadata": {},
   "outputs": [],
   "source": [
    "from nltk.stem import PorterStemmer\n",
    "\n",
    "ps = PorterStemmer()"
   ]
  },
  {
   "cell_type": "code",
   "execution_count": 12,
   "metadata": {},
   "outputs": [],
   "source": [
    "class Tokenizer_with_stemming:\n",
    "    def __init__(self, delete_punctuation=False, delete_stop_words=False):\n",
    "        self.delete_punctuation = delete_punctuation\n",
    "        self.delete_stop_words = delete_stop_words\n",
    "    def tokenize(self, text, ):\n",
    "        if self.delete_punctuation:\n",
    "            text = text.translate(str.maketrans('', '', string.punctuation))\n",
    "        tokens = word_tokenize(text.lower())\n",
    "        if self.delete_stop_words:\n",
    "            return [ps.stem(token) for token in tokens if token not in stopWords and token.isalpha()]\n",
    "        return tokens\n",
    "    \n",
    "tokenizer_with_stemming = Tokenizer_with_stemming(delete_punctuation=True, delete_stop_words=True)"
   ]
  },
  {
   "cell_type": "code",
   "execution_count": 13,
   "metadata": {},
   "outputs": [
    {
     "name": "stderr",
     "output_type": "stream",
     "text": [
      "100%|██████████| 528642/528642 [05:09<00:00, 1705.91it/s]\n"
     ]
    }
   ],
   "source": [
    "for i in tqdm(range(len(corpus))):\n",
    "    corpus[i] = ' '.join(tokenizer_with_stemming.tokenize(corpus[i]))\n",
    "    "
   ]
  },
  {
   "attachments": {},
   "cell_type": "markdown",
   "metadata": {},
   "source": [
    "Далее воспользуемся библиотекой sklearn для подсчёта IDF слов в корпусе документов:"
   ]
  },
  {
   "cell_type": "code",
   "execution_count": 35,
   "metadata": {},
   "outputs": [],
   "source": [
    "from sklearn.feature_extraction.text import TfidfVectorizer"
   ]
  },
  {
   "cell_type": "code",
   "execution_count": 36,
   "metadata": {},
   "outputs": [],
   "source": [
    "tf_idf_vectorizer = TfidfVectorizer(use_idf=True)\n",
    "tf_idf_vectorizer.fit(corpus)\n",
    "idf_dict = dict(zip(tf_idf_vectorizer.get_feature_names_out(), tf_idf_vectorizer.idf_))"
   ]
  },
  {
   "cell_type": "code",
   "execution_count": 37,
   "metadata": {},
   "outputs": [
    {
     "name": "stdout",
     "output_type": "stream",
     "text": [
      "Получили вектора длины: 547952\n"
     ]
    }
   ],
   "source": [
    "print(f'Получили вектора длины: {len(idf_dict)}')"
   ]
  },
  {
   "attachments": {},
   "cell_type": "markdown",
   "metadata": {},
   "source": [
    "Посмотрим на распределение IDF:"
   ]
  },
  {
   "cell_type": "code",
   "execution_count": 17,
   "metadata": {},
   "outputs": [
    {
     "data": {
      "text/plain": [
       "Text(0.5, 1.0, 'IDF histogram')"
      ]
     },
     "execution_count": 17,
     "metadata": {},
     "output_type": "execute_result"
    },
    {
     "data": {
      "image/png": "[encoded data removed]",
      "text/plain": [
       "<Figure size 640x480 with 1 Axes>"
      ]
     },
     "metadata": {},
     "output_type": "display_data"
    }
   ],
   "source": [
    "plt.hist(idf_dict.values())\n",
    "plt.xlabel('IDF')\n",
    "plt.ylabel('counts')\n",
    "plt.title('IDF histogram')"
   ]
  },
  {
   "cell_type": "code",
   "execution_count": 18,
   "metadata": {},
   "outputs": [
    {
     "name": "stdout",
     "output_type": "stream",
     "text": [
      "Слова, которые встречаются в документе всего один раз имеют IDF = 13.178066733160517\n"
     ]
    }
   ],
   "source": [
    "print(f'Слова, которые встречаются в документе всего один раз имеют IDF = {np.log(len(corpus))}')"
   ]
  },
  {
   "cell_type": "code",
   "execution_count": 41,
   "metadata": {},
   "outputs": [],
   "source": [
    "keys_to_del = []\n",
    "\n",
    "for key in idf_dict.keys():\n",
    "    if idf_dict[key] > 13:\n",
    "        keys_to_del.append(key)\n",
    "\n",
    "for key in keys_to_del:\n",
    "    idf_dict.pop(key)"
   ]
  },
  {
   "cell_type": "code",
   "execution_count": 42,
   "metadata": {},
   "outputs": [
    {
     "name": "stdout",
     "output_type": "stream",
     "text": [
      "Получили вектора длины: 86779\n"
     ]
    }
   ],
   "source": [
    "print(f'Получили вектора длины: {len(idf_dict)}')"
   ]
  },
  {
   "attachments": {},
   "cell_type": "markdown",
   "metadata": {},
   "source": [
    "Удалим такие слова, которые встречаются всего один раз, так как, скорее всего, это просто мусор или опечатки"
   ]
  },
  {
   "attachments": {},
   "cell_type": "markdown",
   "metadata": {},
   "source": [
    "Создадим экземпляр класса Tf_idf_vectorizer:"
   ]
  },
  {
   "cell_type": "code",
   "execution_count": 43,
   "metadata": {},
   "outputs": [],
   "source": [
    "from vector_space_models_utils import Tf_idf_vectorizer"
   ]
  },
  {
   "cell_type": "code",
   "execution_count": 44,
   "metadata": {},
   "outputs": [],
   "source": [
    "our_tf_idf_vectorizer = Tf_idf_vectorizer(idf_dict, tokenizer_with_stemming)"
   ]
  },
  {
   "attachments": {},
   "cell_type": "markdown",
   "metadata": {},
   "source": [
    "Оценим качество модели, так как подсчёт tf и операции с векторами большой размерности занимают много времени, будем использовать каждый 50 пост и его комментарии:"
   ]
  },
  {
   "cell_type": "code",
   "execution_count": null,
   "metadata": {},
   "outputs": [],
   "source": [
    "from vector_space_models_utils import get_ndcg_of_whole_dataset"
   ]
  },
  {
   "cell_type": "code",
   "execution_count": 53,
   "metadata": {},
   "outputs": [
    {
     "name": "stdout",
     "output_type": "stream",
     "text": [
      "Tf-IDF NDCG@5: 0.7866337545937307\n"
     ]
    }
   ],
   "source": [
    "tf_idf_ndcg =  get_ndcg_of_whole_dataset(train_df[::50].reset_index(), our_tf_idf_vectorizer)\n",
    "print(f'Tf-IDF NDCG@5: {tf_idf_ndcg}')"
   ]
  },
  {
   "attachments": {},
   "cell_type": "markdown",
   "metadata": {},
   "source": [
    "На меньшей части обучающей выборки получили NDCG@50 = 0.787, что меньше, чем у подхода на embedding. Важно отметить, что в Tf-IDF вектора имеют существенно большую размерность и операции с ними происходят значительно дольше."
   ]
  },
  {
   "attachments": {},
   "cell_type": "markdown",
   "metadata": {},
   "source": [
    "# BERT model"
   ]
  },
  {
   "attachments": {},
   "cell_type": "markdown",
   "metadata": {},
   "source": [
    "В данном разделе будем получать вектор предложения из латентных слоёв модели BERT:"
   ]
  },
  {
   "cell_type": "code",
   "execution_count": 10,
   "metadata": {},
   "outputs": [],
   "source": [
    "from transformers import BertTokenizer, BertModel"
   ]
  },
  {
   "cell_type": "code",
   "execution_count": 12,
   "metadata": {},
   "outputs": [
    {
     "name": "stderr",
     "output_type": "stream",
     "text": [
      "Some weights of the model checkpoint at bert-base-uncased were not used when initializing BertModel: ['cls.predictions.transform.LayerNorm.weight', 'cls.seq_relationship.bias', 'cls.predictions.bias', 'cls.predictions.transform.dense.weight', 'cls.predictions.transform.dense.bias', 'cls.seq_relationship.weight', 'cls.predictions.transform.LayerNorm.bias']\n",
      "- This IS expected if you are initializing BertModel from the checkpoint of a model trained on another task or with another architecture (e.g. initializing a BertForSequenceClassification model from a BertForPreTraining model).\n",
      "- This IS NOT expected if you are initializing BertModel from the checkpoint of a model that you expect to be exactly identical (initializing a BertForSequenceClassification model from a BertForSequenceClassification model).\n"
     ]
    },
    {
     "data": {
      "text/plain": [
       "BertModel(\n",
       "  (embeddings): BertEmbeddings(\n",
       "    (word_embeddings): Embedding(30522, 768, padding_idx=0)\n",
       "    (position_embeddings): Embedding(512, 768)\n",
       "    (token_type_embeddings): Embedding(2, 768)\n",
       "    (LayerNorm): LayerNorm((768,), eps=1e-12, elementwise_affine=True)\n",
       "    (dropout): Dropout(p=0.1, inplace=False)\n",
       "  )\n",
       "  (encoder): BertEncoder(\n",
       "    (layer): ModuleList(\n",
       "      (0-11): 12 x BertLayer(\n",
       "        (attention): BertAttention(\n",
       "          (self): BertSelfAttention(\n",
       "            (query): Linear(in_features=768, out_features=768, bias=True)\n",
       "            (key): Linear(in_features=768, out_features=768, bias=True)\n",
       "            (value): Linear(in_features=768, out_features=768, bias=True)\n",
       "            (dropout): Dropout(p=0.1, inplace=False)\n",
       "          )\n",
       "          (output): BertSelfOutput(\n",
       "            (dense): Linear(in_features=768, out_features=768, bias=True)\n",
       "            (LayerNorm): LayerNorm((768,), eps=1e-12, elementwise_affine=True)\n",
       "            (dropout): Dropout(p=0.1, inplace=False)\n",
       "          )\n",
       "        )\n",
       "        (intermediate): BertIntermediate(\n",
       "          (dense): Linear(in_features=768, out_features=3072, bias=True)\n",
       "          (intermediate_act_fn): GELUActivation()\n",
       "        )\n",
       "        (output): BertOutput(\n",
       "          (dense): Linear(in_features=3072, out_features=768, bias=True)\n",
       "          (LayerNorm): LayerNorm((768,), eps=1e-12, elementwise_affine=True)\n",
       "          (dropout): Dropout(p=0.1, inplace=False)\n",
       "        )\n",
       "      )\n",
       "    )\n",
       "  )\n",
       "  (pooler): BertPooler(\n",
       "    (dense): Linear(in_features=768, out_features=768, bias=True)\n",
       "    (activation): Tanh()\n",
       "  )\n",
       ")"
      ]
     },
     "execution_count": 12,
     "metadata": {},
     "output_type": "execute_result"
    }
   ],
   "source": [
    "bert_tokenizer = BertTokenizer.from_pretrained('bert-base-uncased')\n",
    "bert_model = BertModel.from_pretrained('bert-base-uncased', output_hidden_states=True)\n",
    "bert_model.eval()"
   ]
  },
  {
   "attachments": {},
   "cell_type": "markdown",
   "metadata": {},
   "source": [
    "Создадим экземпляр класса BERT_vectorizer:"
   ]
  },
  {
   "cell_type": "code",
   "execution_count": 13,
   "metadata": {},
   "outputs": [],
   "source": [
    "from vector_space_models_utils import BERT_vectorizer"
   ]
  },
  {
   "cell_type": "code",
   "execution_count": 14,
   "metadata": {},
   "outputs": [],
   "source": [
    "bert_vectorizer = BERT_vectorizer(bert_model, bert_tokenizer)"
   ]
  },
  {
   "attachments": {},
   "cell_type": "markdown",
   "metadata": {},
   "source": [
    "Оценим качество модели:"
   ]
  },
  {
   "cell_type": "code",
   "execution_count": 18,
   "metadata": {},
   "outputs": [
    {
     "name": "stdout",
     "output_type": "stream",
     "text": [
      "predicted ranks: [[2, 4, 0, 3, 1]]\n",
      "NDCG@5: 0.7358812399521907\n"
     ]
    }
   ],
   "source": [
    "predicted_ranks = [rank_comments(post_text, comments_text, bert_vectorizer)]\n",
    "print(f'predicted ranks: {predicted_ranks}')\n",
    "true_ranks = [[0, 1, 2, 3, 4]]\n",
    "\n",
    "print(f'NDCG@5: {ndcg_score(true_ranks, predicted_ranks, k=5)}')"
   ]
  }
 ],
 "metadata": {
  "kernelspec": {
   "display_name": "base",
   "language": "python",
   "name": "python3"
  },
  "language_info": {
   "codemirror_mode": {
    "name": "ipython",
    "version": 3
   },
   "file_extension": ".py",
   "mimetype": "text/x-python",
   "name": "python",
   "nbconvert_exporter": "python",
   "pygments_lexer": "ipython3",
   "version": "3.11.3"
  },
  "orig_nbformat": 4
 },
 "nbformat": 4,
 "nbformat_minor": 2
}
