{
  "cells": [
    {
      "cell_type": "code",
      "execution_count": 1,
      "metadata": {
        "colab": {
          "base_uri": "https://localhost:8080/"
        },
        "id": "QEmq7rOSCQlG",
        "outputId": "cb59cfab-80e9-4b26-a239-86b2c7832d1b"
      },
      "outputs": [
        {
          "name": "stdout",
          "output_type": "stream",
          "text": [
            "Mounted at /content/drive\n"
          ]
        }
      ],
      "source": [
        "# from google.colab import drive\n",
        "# drive.mount('/content/drive')"
      ]
    },
    {
      "attachments": {},
      "cell_type": "markdown",
      "metadata": {
        "id": "YHJqIk7Xxqo4"
      },
      "source": [
        "<h2> Vector Space Models"
      ]
    },
    {
      "attachments": {},
      "cell_type": "markdown",
      "metadata": {
        "id": "isNCwir0QYee"
      },
      "source": [
        "<h4> В данном ноутбуке для решения задачи ранжирования комментариев используются модели, которые основаны на смысловой схожести текста комментария и текста поста. Для оценки схожести текстов сначала переведём текста в векторное пространство, где каждому тексту будет соотвествовать свой вектор. Далее на основе мер близости векторов будем оценивать наиболее схожие по смыслу текста. В конце необходимо отранжировать комментарии на основе данной меры.\n",
        "<h4> В ноутбуке представлены:\n",
        "<h4> 1) Методы векторизации слов и текстов (TF-IDF, Word2vec, GloVe, BERT)\n",
        "<h4> 2) Меры оценки близости векторов в пространстве (косинусная и евклидовы меры)\n",
        "<h4> 3) Способы оценки качества модели (ndcg... to be continued)"
      ]
    },
    {
      "cell_type": "code",
      "execution_count": 1,
      "metadata": {
        "colab": {
          "base_uri": "https://localhost:8080/"
        },
        "id": "d8MJAeESPZm2",
        "outputId": "e4ac78bb-a793-4dc6-a878-55ec5e2f88b3"
      },
      "outputs": [
        {
          "name": "stderr",
          "output_type": "stream",
          "text": [
            "[nltk_data] Downloading package punkt to\n",
            "[nltk_data]     C:\\Users\\qochu\\AppData\\Roaming\\nltk_data...\n",
            "[nltk_data]   Package punkt is already up-to-date!\n",
            "[nltk_data] Downloading package stopwords to\n",
            "[nltk_data]     C:\\Users\\qochu\\AppData\\Roaming\\nltk_data...\n",
            "[nltk_data]   Package stopwords is already up-to-date!\n"
          ]
        }
      ],
      "source": [
        "import numpy as np\n",
        "import scipy\n",
        "import pandas as pd\n",
        "import matplotlib.pyplot as plt\n",
        "import seaborn as sns\n",
        "import torch\n",
        "from tqdm import tqdm\n",
        "import sys\n",
        "\n",
        "import string\n",
        "import nltk\n",
        "nltk.download('punkt')\n",
        "\n",
        "nltk.download('stopwords')\n",
        "from nltk.corpus import stopwords\n",
        "\n",
        "stopWords = set(stopwords.words('english'))\n",
        "\n",
        "from nltk.tokenize import word_tokenize, sent_tokenize"
      ]
    },
    {
      "attachments": {},
      "cell_type": "markdown",
      "metadata": {
        "id": "Rp50VrqaQK__"
      },
      "source": [
        "<h4> Все модели для векторизации и ранжирования комментариев описаны в файле vector_space_models_utils"
      ]
    },
    {
      "cell_type": "code",
      "execution_count": 3,
      "metadata": {
        "id": "2LkdJeUuCpYv"
      },
      "outputs": [],
      "source": [
        "# sys.path.append(\"/content/drive/MyDrive/Colab Notebooks/VK_hackaton\")"
      ]
    },
    {
      "cell_type": "code",
      "execution_count": 2,
      "metadata": {
        "id": "ecvBIM5gQKpN"
      },
      "outputs": [],
      "source": [
        "import vector_space_models_utils\n",
        "from vector_space_models_utils import rank_comments"
      ]
    },
    {
      "attachments": {},
      "cell_type": "markdown",
      "metadata": {
        "id": "zMWED0yHPZm9"
      },
      "source": [
        "<h4> Загрузка предобработанного датасета:"
      ]
    },
    {
      "cell_type": "code",
      "execution_count": 3,
      "metadata": {
        "id": "3LcteuQoPZm-"
      },
      "outputs": [],
      "source": [
        "train_df = pd.read_csv('ranking_train.tsv', sep=\"\\t\")"
      ]
    },
    {
      "cell_type": "code",
      "execution_count": 4,
      "metadata": {
        "id": "kYwQ9G1wxqpB"
      },
      "outputs": [],
      "source": [
        "import gensim.downloader"
      ]
    },
    {
      "attachments": {},
      "cell_type": "markdown",
      "metadata": {
        "id": "JWBwqobsxqpC"
      },
      "source": [
        "<h4> Создание токенизатора с небольшой предобработкой текста:"
      ]
    },
    {
      "cell_type": "code",
      "execution_count": 5,
      "metadata": {
        "id": "gOrk4NMWxqpC"
      },
      "outputs": [],
      "source": [
        "class NLTK_Tokenizer:\n",
        "    def __init__(self, delete_punctuation=False, delete_stop_words=False):\n",
        "        self.delete_punctuation = delete_punctuation\n",
        "        self.delete_stop_words = delete_stop_words\n",
        "    def tokenize(self, text, ):\n",
        "        if self.delete_punctuation:\n",
        "            text = text.translate(str.maketrans('', '', string.punctuation))\n",
        "        tokens = word_tokenize(text.lower())\n",
        "        if self.delete_stop_words:\n",
        "            return [token for token in tokens if token not in stopWords]\n",
        "        return tokens\n",
        "\n",
        "nltk_tokenizer = NLTK_Tokenizer()"
      ]
    },
    {
      "attachments": {},
      "cell_type": "markdown",
      "metadata": {
        "id": "kFNL3JS-xqpC"
      },
      "source": [
        "<h4> Создание экземпляра класса Embeddings_text_to_vector с описанными ранее embedding и tokenizer:"
      ]
    },
    {
      "cell_type": "code",
      "execution_count": 6,
      "metadata": {
        "id": "mmfinkvAxqpD"
      },
      "outputs": [],
      "source": [
        "from vector_space_models_utils import Embeddings_text_to_vector\n",
        "from vector_space_models_utils import get_predicted_order"
      ]
    },
    {
      "attachments": {},
      "cell_type": "markdown",
      "metadata": {
        "id": "ovP2ZTLbOucj"
      },
      "source": [
        "<h4> Метрики оценки качества модели"
      ]
    },
    {
      "cell_type": "code",
      "execution_count": 8,
      "metadata": {
        "id": "9IPtaxaqOtqK"
      },
      "outputs": [],
      "source": [
        "from vector_space_models_utils import hits_score\n",
        "from vector_space_models_utils import dcg_score\n",
        "from vector_space_models_utils import get_ndcg\n",
        "from sklearn.metrics import ndcg_score"
      ]
    },
    {
      "attachments": {},
      "cell_type": "markdown",
      "metadata": {
        "id": "H0izAXl1xqpD"
      },
      "source": [
        "<h2> Модель Word2vec"
      ]
    },
    {
      "attachments": {},
      "cell_type": "markdown",
      "metadata": {
        "id": "yOoZys3dxqpD"
      },
      "source": [
        "<h5> В данном разделе для перевода текстов комментариев и поста в вектора используются уже предобученные embedding из Word2vec."
      ]
    },
    {
      "attachments": {},
      "cell_type": "markdown",
      "metadata": {},
      "source": [
        "<h5> Косинусная мера близости"
      ]
    },
    {
      "cell_type": "code",
      "execution_count": 9,
      "metadata": {
        "colab": {
          "base_uri": "https://localhost:8080/"
        },
        "id": "IHu3_jZQxqpD",
        "outputId": "6610487c-1990-4398-bc84-f77f752f57f4"
      },
      "outputs": [
        {
          "name": "stdout",
          "output_type": "stream",
          "text": [
            "Cosine similarity ranking:\n",
            "\n",
            "word2vec-google-news-300\n",
            "hits@1: 0.26 dcg@1: 0.26 ndcg@1: 0.58\n",
            "hits@2: 0.51 dcg@2: 0.42 ndcg@2: 0.63\n",
            "hits@3: 0.72 dcg@3: 0.52 ndcg@3: 0.68\n",
            "hits@4: 0.88 dcg@4: 0.59 ndcg@4: 0.75\n"
          ]
        }
      ],
      "source": [
        "embeddings_list = [('word2vec-google-news-300', 300)]\n",
        "\n",
        "print('Cosine similarity ranking:')\n",
        "print()\n",
        "\n",
        "for embedding_name, vector_dim in embeddings_list:\n",
        "    current_embeddings = gensim.downloader.load(embedding_name)\n",
        "    current_tokenizer = NLTK_Tokenizer(delete_punctuation=True, delete_stop_words=True)\n",
        "    current_vectorizer = Embeddings_text_to_vector(current_embeddings, current_tokenizer, vector_dim)\n",
        "\n",
        "    predicted_oreders = get_predicted_order(train_df, current_vectorizer)\n",
        "\n",
        "    print(embedding_name)\n",
        "    for k in range(1, 5):\n",
        "        print(f'hits@{k}: {round(hits_score(predicted_oreders, k=k), 2)}',\n",
        "              f'dcg@{k}: {round(dcg_score(predicted_oreders, k=k), 2)}',\n",
        "              f'ndcg@{k}: {round(ndcg_score([[0, 1, 2, 3, 4]] * len(train_df), predicted_oreders, k=k), 2)}')"
      ]
    },
    {
      "attachments": {},
      "cell_type": "markdown",
      "metadata": {
        "id": "vvco2Apx9YX8"
      },
      "source": [
        "<h5> После тестирования с использованием косинусной меры близости:\n",
        "\n",
        "| Embedding                 | top comment DCG@1 | top comment DCG@3 | top comment NDCG@1 | top comment NDCG@3 |\n",
        "|----------                 |------             |------             |------              |------              |\n",
        "| word2vec-google-news-300  |0.26               |0.52               |0.58                |0.68                |"
      ]
    },
    {
      "attachments": {},
      "cell_type": "markdown",
      "metadata": {},
      "source": [
        "<h5> Евклидовое расстояние"
      ]
    },
    {
      "cell_type": "code",
      "execution_count": 10,
      "metadata": {},
      "outputs": [
        {
          "name": "stdout",
          "output_type": "stream",
          "text": [
            "Euclidean distance ranking:\n",
            "\n",
            "word2vec-google-news-300\n",
            "hits@1: 0.29 dcg@1: 0.29 ndcg@1: 0.6\n",
            "hits@2: 0.54 dcg@2: 0.45 ndcg@2: 0.65\n",
            "hits@3: 0.75 dcg@3: 0.55 ndcg@3: 0.7\n",
            "hits@4: 0.9 dcg@4: 0.62 ndcg@4: 0.77\n"
          ]
        }
      ],
      "source": [
        "embeddings_list = [('word2vec-google-news-300', 300)]\n",
        "\n",
        "print('Euclidean distance ranking:')\n",
        "print()\n",
        "\n",
        "for embedding_name, vector_dim in embeddings_list:\n",
        "    current_embeddings = gensim.downloader.load(embedding_name)\n",
        "    current_tokenizer = NLTK_Tokenizer(delete_punctuation=True, delete_stop_words=True)\n",
        "    current_vectorizer = Embeddings_text_to_vector(current_embeddings, current_tokenizer, vector_dim)\n",
        "\n",
        "    predicted_oreders = get_predicted_order(train_df, current_vectorizer, rank_by='euclidian_distance')\n",
        "\n",
        "    print(embedding_name)\n",
        "    for k in range(1, 5):\n",
        "        print(f'hits@{k}: {round(hits_score(predicted_oreders, k=k), 2)}',\n",
        "              f'dcg@{k}: {round(dcg_score(predicted_oreders, k=k), 2)}',\n",
        "              f'ndcg@{k}: {round(ndcg_score([[0, 1, 2, 3, 4]] * len(train_df), predicted_oreders, k=k), 2)}')"
      ]
    },
    {
      "attachments": {},
      "cell_type": "markdown",
      "metadata": {},
      "source": [
        "<h5> После тестирования с использованием евклидового расстояния :\n",
        "\n",
        "| Embedding                 | top comment DCG@1 | top comment DCG@3 | top comment NDCG@1 | top comment NDCG@3 |\n",
        "|----------                 |------             |------             |------              |------              |\n",
        "| word2vec-google-news-300  |0.29               |0.55               |0.6                 |0.7                 |"
      ]
    },
    {
      "attachments": {},
      "cell_type": "markdown",
      "metadata": {
        "id": "YFig1RZ_PZm_"
      },
      "source": [
        "<h2> Модель GloVe"
      ]
    },
    {
      "attachments": {},
      "cell_type": "markdown",
      "metadata": {
        "id": "eeRPSRj1PZm_"
      },
      "source": [
        "<h5> В данном разделе для перевода текстов комментариев и поста в вектора используются уже предобученные embedding из GloVe."
      ]
    },
    {
      "attachments": {},
      "cell_type": "markdown",
      "metadata": {},
      "source": [
        "<h5> Косинусная мера близости"
      ]
    },
    {
      "cell_type": "code",
      "execution_count": 11,
      "metadata": {
        "colab": {
          "base_uri": "https://localhost:8080/"
        },
        "id": "dSMYOnimPZnB",
        "outputId": "19a34582-41bf-4209-8b80-d93c4fa36bb7"
      },
      "outputs": [
        {
          "name": "stdout",
          "output_type": "stream",
          "text": [
            "Cosine similarity ranking:\n",
            "\n"
          ]
        },
        {
          "name": "stderr",
          "output_type": "stream",
          "text": [
            "  0%|          | 0/6 [00:00<?, ?it/s]"
          ]
        },
        {
          "name": "stdout",
          "output_type": "stream",
          "text": [
            "glove-wiki-gigaword-50\n",
            "hits@1: 0.24 dcg@1: 0.24 ndcg@1: 0.56\n",
            "hits@2: 0.47 dcg@2: 0.39 ndcg@2: 0.61\n",
            "hits@3: 0.69 dcg@3: 0.49 ndcg@3: 0.66\n"
          ]
        },
        {
          "name": "stderr",
          "output_type": "stream",
          "text": [
            " 17%|█▋        | 1/6 [05:47<28:56, 347.23s/it]"
          ]
        },
        {
          "name": "stdout",
          "output_type": "stream",
          "text": [
            "hits@4: 0.87 dcg@4: 0.57 ndcg@4: 0.74\n",
            "glove-wiki-gigaword-100\n",
            "hits@1: 0.25 dcg@1: 0.25 ndcg@1: 0.57\n",
            "hits@2: 0.49 dcg@2: 0.4 ndcg@2: 0.61\n",
            "hits@3: 0.7 dcg@3: 0.5 ndcg@3: 0.67\n"
          ]
        },
        {
          "name": "stderr",
          "output_type": "stream",
          "text": [
            " 33%|███▎      | 2/6 [11:32<23:04, 346.10s/it]"
          ]
        },
        {
          "name": "stdout",
          "output_type": "stream",
          "text": [
            "hits@4: 0.87 dcg@4: 0.58 ndcg@4: 0.74\n",
            "glove-wiki-gigaword-200\n",
            "hits@1: 0.25 dcg@1: 0.25 ndcg@1: 0.57\n",
            "hits@2: 0.49 dcg@2: 0.4 ndcg@2: 0.62\n",
            "hits@3: 0.7 dcg@3: 0.51 ndcg@3: 0.67\n"
          ]
        },
        {
          "name": "stderr",
          "output_type": "stream",
          "text": [
            " 50%|█████     | 3/6 [18:06<18:24, 368.06s/it]"
          ]
        },
        {
          "name": "stdout",
          "output_type": "stream",
          "text": [
            "hits@4: 0.88 dcg@4: 0.58 ndcg@4: 0.74\n",
            "glove-twitter-25\n",
            "hits@1: 0.23 dcg@1: 0.23 ndcg@1: 0.55\n",
            "hits@2: 0.46 dcg@2: 0.38 ndcg@2: 0.6\n",
            "hits@3: 0.68 dcg@3: 0.49 ndcg@3: 0.66\n"
          ]
        },
        {
          "name": "stderr",
          "output_type": "stream",
          "text": [
            " 67%|██████▋   | 4/6 [23:40<11:49, 354.62s/it]"
          ]
        },
        {
          "name": "stdout",
          "output_type": "stream",
          "text": [
            "hits@4: 0.86 dcg@4: 0.56 ndcg@4: 0.73\n",
            "glove-twitter-50\n",
            "hits@1: 0.24 dcg@1: 0.24 ndcg@1: 0.56\n",
            "hits@2: 0.47 dcg@2: 0.39 ndcg@2: 0.61\n",
            "hits@3: 0.69 dcg@3: 0.49 ndcg@3: 0.66\n"
          ]
        },
        {
          "name": "stderr",
          "output_type": "stream",
          "text": [
            " 83%|████████▎ | 5/6 [29:45<05:58, 358.27s/it]"
          ]
        },
        {
          "name": "stdout",
          "output_type": "stream",
          "text": [
            "hits@4: 0.87 dcg@4: 0.57 ndcg@4: 0.74\n",
            "glove-twitter-100\n",
            "hits@1: 0.25 dcg@1: 0.25 ndcg@1: 0.57\n",
            "hits@2: 0.49 dcg@2: 0.4 ndcg@2: 0.61\n",
            "hits@3: 0.7 dcg@3: 0.5 ndcg@3: 0.67\n"
          ]
        },
        {
          "name": "stderr",
          "output_type": "stream",
          "text": [
            "100%|██████████| 6/6 [36:49<00:00, 368.28s/it]"
          ]
        },
        {
          "name": "stdout",
          "output_type": "stream",
          "text": [
            "hits@4: 0.87 dcg@4: 0.58 ndcg@4: 0.74\n"
          ]
        },
        {
          "name": "stderr",
          "output_type": "stream",
          "text": [
            "\n"
          ]
        }
      ],
      "source": [
        "embeddings_list = [('glove-wiki-gigaword-50', 50), ('glove-wiki-gigaword-100', 100), ('glove-wiki-gigaword-200', 200),\n",
        "                   ('glove-twitter-25', 25), ('glove-twitter-50', 50), ('glove-twitter-100', 100)]\n",
        "\n",
        "print('Cosine similarity ranking:')\n",
        "print()\n",
        "\n",
        "for embedding_name, vector_dim in tqdm(embeddings_list):\n",
        "    current_embeddings = gensim.downloader.load(embedding_name)\n",
        "    current_tokenizer = NLTK_Tokenizer(delete_punctuation=True, delete_stop_words=True)\n",
        "    current_vectorizer = Embeddings_text_to_vector(current_embeddings, current_tokenizer, vector_dim)\n",
        "\n",
        "    predicted_oreders = get_predicted_order(train_df, current_vectorizer)\n",
        "\n",
        "    print(embedding_name)\n",
        "    for k in range(1, 5):\n",
        "        print(f'hits@{k}: {round(hits_score(predicted_oreders, k=k), 2)}',\n",
        "              f'dcg@{k}: {round(dcg_score(predicted_oreders, k=k), 2)}',\n",
        "              f'ndcg@{k}: {round(ndcg_score([[0, 1, 2, 3, 4]] * len(train_df), predicted_oreders, k=k), 2)}')"
      ]
    },
    {
      "attachments": {},
      "cell_type": "markdown",
      "metadata": {},
      "source": [
        "<h5> После тестирования различных embeddings на косинусной мере близости:\n",
        "\n",
        "| Embedding                 | top comment DCG@1| top comment DCG@3| top comment NDCG@1 | top comment NDCG@3 |\n",
        "|----------                 |------            |------            |------              |------              |\n",
        "| glove-wiki-gigaword-50    | 0.24             | 0.49             | 0.56               | 0.66               |\n",
        "| glove-wiki-gigaword-100   | 0.25             | 0.50             | 0.57               | 0.67               |\n",
        "| glove-wiki-gigaword-200   | 0.25             | 0.51             | 0.57               | 0.67               |\n",
        "| glove-twitter-25          | 0.23             | 0.49             | 0.55               | 0.66               |\n",
        "| glove-twitter-50          | 0.24             | 0.49             | 0.56               | 0.66               |\n",
        "| glove-twitter-100         | 0.25             | 0.50             | 0.57               | 0.67               |\n",
        "| random                    | 0.20             | 0.43             |                    |                    |"
      ]
    },
    {
      "cell_type": "code",
      "execution_count": 12,
      "metadata": {},
      "outputs": [
        {
          "name": "stdout",
          "output_type": "stream",
          "text": [
            "Euclidean distance ranking:\n",
            "\n"
          ]
        },
        {
          "name": "stderr",
          "output_type": "stream",
          "text": [
            "  0%|          | 0/6 [00:00<?, ?it/s]"
          ]
        },
        {
          "name": "stdout",
          "output_type": "stream",
          "text": [
            "glove-wiki-gigaword-50\n",
            "hits@1: 0.25 dcg@1: 0.25 ndcg@1: 0.58\n",
            "hits@2: 0.5 dcg@2: 0.41 ndcg@2: 0.62\n",
            "hits@3: 0.71 dcg@3: 0.51 ndcg@3: 0.68\n"
          ]
        },
        {
          "name": "stderr",
          "output_type": "stream",
          "text": [
            " 17%|█▋        | 1/6 [04:34<22:52, 274.46s/it]"
          ]
        },
        {
          "name": "stdout",
          "output_type": "stream",
          "text": [
            "hits@4: 0.88 dcg@4: 0.59 ndcg@4: 0.75\n",
            "glove-wiki-gigaword-100\n",
            "hits@1: 0.27 dcg@1: 0.27 ndcg@1: 0.59\n",
            "hits@2: 0.51 dcg@2: 0.42 ndcg@2: 0.63\n",
            "hits@3: 0.72 dcg@3: 0.53 ndcg@3: 0.69\n"
          ]
        },
        {
          "name": "stderr",
          "output_type": "stream",
          "text": [
            " 33%|███▎      | 2/6 [09:20<18:44, 281.01s/it]"
          ]
        },
        {
          "name": "stdout",
          "output_type": "stream",
          "text": [
            "hits@4: 0.89 dcg@4: 0.6 ndcg@4: 0.75\n",
            "glove-wiki-gigaword-200\n",
            "hits@1: 0.27 dcg@1: 0.27 ndcg@1: 0.59\n",
            "hits@2: 0.52 dcg@2: 0.43 ndcg@2: 0.64\n",
            "hits@3: 0.73 dcg@3: 0.54 ndcg@3: 0.69\n"
          ]
        },
        {
          "name": "stderr",
          "output_type": "stream",
          "text": [
            " 50%|█████     | 3/6 [14:52<15:13, 304.45s/it]"
          ]
        },
        {
          "name": "stdout",
          "output_type": "stream",
          "text": [
            "hits@4: 0.89 dcg@4: 0.61 ndcg@4: 0.76\n",
            "glove-twitter-25\n",
            "hits@1: 0.24 dcg@1: 0.24 ndcg@1: 0.56\n",
            "hits@2: 0.48 dcg@2: 0.39 ndcg@2: 0.61\n",
            "hits@3: 0.69 dcg@3: 0.5 ndcg@3: 0.67\n"
          ]
        },
        {
          "name": "stderr",
          "output_type": "stream",
          "text": [
            " 67%|██████▋   | 4/6 [20:01<10:12, 306.40s/it]"
          ]
        },
        {
          "name": "stdout",
          "output_type": "stream",
          "text": [
            "hits@4: 0.87 dcg@4: 0.58 ndcg@4: 0.74\n",
            "glove-twitter-50\n",
            "hits@1: 0.25 dcg@1: 0.25 ndcg@1: 0.57\n",
            "hits@2: 0.5 dcg@2: 0.41 ndcg@2: 0.62\n",
            "hits@3: 0.71 dcg@3: 0.51 ndcg@3: 0.68\n"
          ]
        },
        {
          "name": "stderr",
          "output_type": "stream",
          "text": [
            " 83%|████████▎ | 5/6 [25:52<05:22, 322.26s/it]"
          ]
        },
        {
          "name": "stdout",
          "output_type": "stream",
          "text": [
            "hits@4: 0.88 dcg@4: 0.59 ndcg@4: 0.75\n",
            "glove-twitter-100\n",
            "hits@1: 0.27 dcg@1: 0.27 ndcg@1: 0.58\n",
            "hits@2: 0.51 dcg@2: 0.42 ndcg@2: 0.63\n",
            "hits@3: 0.72 dcg@3: 0.53 ndcg@3: 0.69\n"
          ]
        },
        {
          "name": "stderr",
          "output_type": "stream",
          "text": [
            "100%|██████████| 6/6 [32:33<00:00, 325.51s/it]"
          ]
        },
        {
          "name": "stdout",
          "output_type": "stream",
          "text": [
            "hits@4: 0.89 dcg@4: 0.6 ndcg@4: 0.75\n"
          ]
        },
        {
          "name": "stderr",
          "output_type": "stream",
          "text": [
            "\n"
          ]
        }
      ],
      "source": [
        "embeddings_list = [('glove-wiki-gigaword-50', 50), ('glove-wiki-gigaword-100', 100), ('glove-wiki-gigaword-200', 200),\n",
        "                   ('glove-twitter-25', 25), ('glove-twitter-50', 50), ('glove-twitter-100', 100)]\n",
        "\n",
        "print('Euclidean distance ranking:')\n",
        "print()\n",
        "\n",
        "for embedding_name, vector_dim in tqdm(embeddings_list):\n",
        "    current_embeddings = gensim.downloader.load(embedding_name)\n",
        "    current_tokenizer = NLTK_Tokenizer(delete_punctuation=True, delete_stop_words=True)\n",
        "    current_vectorizer = Embeddings_text_to_vector(current_embeddings, current_tokenizer, vector_dim)\n",
        "\n",
        "    predicted_oreders = get_predicted_order(train_df, current_vectorizer, rank_by='euclidian_distance')\n",
        "\n",
        "    print(embedding_name)\n",
        "    for k in range(1, 5):\n",
        "        print(f'hits@{k}: {round(hits_score(predicted_oreders, k=k), 2)}',\n",
        "              f'dcg@{k}: {round(dcg_score(predicted_oreders, k=k), 2)}',\n",
        "              f'ndcg@{k}: {round(ndcg_score([[0, 1, 2, 3, 4]] * len(train_df), predicted_oreders, k=k), 2)}')"
      ]
    },
    {
      "attachments": {},
      "cell_type": "markdown",
      "metadata": {},
      "source": [
        "<h5> После тестирования различных embeddings по евклидовому расстоянию:\n",
        "\n",
        "| Embedding                 | top comment DCG@1| top comment DCG@3| top comment NDCG@1 | top comment NDCG@3 |\n",
        "|----------                 |------            |------            |------              |------              |\n",
        "| glove-wiki-gigaword-50    | 0.25             | 0.71             | 0.25               | 0.51               |\n",
        "| glove-wiki-gigaword-100   | 0.27             | 0.72             | 0.27               | 0.53               |\n",
        "| glove-wiki-gigaword-200   | 0.27             | 0.73             | 0.27               | 0.54               |\n",
        "| glove-twitter-25          | 0.24             | 0.69             | 0.24               | 0.5               |\n",
        "| glove-twitter-50          | 0.25             | 0.71             | 0.15               | 0.66               |\n",
        "| glove-twitter-100         | 0.25             | 0.50             | 0.57               | 0.67               |\n",
        "| random                    | 0.20             | 0.43             |                    |                    |"
      ]
    },
    {
      "attachments": {},
      "cell_type": "markdown",
      "metadata": {
        "id": "c6sFt4QyPZnB"
      },
      "source": [
        "<h5>Получен результат, что увеличение размерности векторного представления слова не приводит к сильному улучшению результата.\n",
        "\n",
        "<h5>В данном случае результат на embeddings из текстов википедии или твиттера сопоставим, embeddings из википедии отработали незначительно лучше.\n",
        "\n",
        "<h5>На ранжирование всей обучающей выборки уходит примерно 200-250 с"
      ]
    },
    {
      "attachments": {},
      "cell_type": "markdown",
      "metadata": {
        "id": "BWIQlArZPZnC"
      },
      "source": [
        "<h2> Tf-IDF vectorization"
      ]
    },
    {
      "attachments": {},
      "cell_type": "markdown",
      "metadata": {
        "id": "C-qNAckkPZnC"
      },
      "source": [
        "<h5> В данном разделе используются Tf-IDF вектора для векторизации текста"
      ]
    },
    {
      "attachments": {},
      "cell_type": "markdown",
      "metadata": {
        "id": "MRrTepL4PZnC"
      },
      "source": [
        "<h5> Загрузка корпус документов, состоящий из текстов и постов, и комментариев:"
      ]
    },
    {
      "cell_type": "code",
      "execution_count": 20,
      "metadata": {
        "id": "wevxyeQhPZnC"
      },
      "outputs": [],
      "source": [
        "corpus = []\n",
        "for i in range(len(train_df)):\n",
        "    for column in train_df.columns:\n",
        "        corpus.append(train_df.loc[i][column])"
      ]
    },
    {
      "attachments": {},
      "cell_type": "markdown",
      "metadata": {
        "id": "MopH9zdIPZnC"
      },
      "source": [
        "<h5> Преобработка документов в корпусе:\n",
        "<h5> - удаление пунктуации\n",
        "<h5> - удаление стоп-слов, так как у них получится почти нулевой IDF\n",
        "<h5> - стемминг текста, чтобы уменьшить размерность векторов"
      ]
    },
    {
      "cell_type": "code",
      "execution_count": 21,
      "metadata": {
        "id": "DJ3USqv3PZnC"
      },
      "outputs": [],
      "source": [
        "from nltk.stem import PorterStemmer\n",
        "\n",
        "ps = PorterStemmer()"
      ]
    },
    {
      "cell_type": "code",
      "execution_count": 22,
      "metadata": {
        "id": "HqdZXbX2PZnC"
      },
      "outputs": [],
      "source": [
        "class Tokenizer_with_stemming:\n",
        "    def __init__(self, delete_punctuation=False, delete_stop_words=False):\n",
        "        self.delete_punctuation = delete_punctuation\n",
        "        self.delete_stop_words = delete_stop_words\n",
        "    def tokenize(self, text, ):\n",
        "        if self.delete_punctuation:\n",
        "            text = text.translate(str.maketrans('', '', string.punctuation))\n",
        "        tokens = word_tokenize(text.lower())\n",
        "        if self.delete_stop_words:\n",
        "            return [ps.stem(token) for token in tokens if token not in stopWords and token.isalpha()]\n",
        "        return tokens\n",
        "\n",
        "tokenizer_with_stemming = Tokenizer_with_stemming(delete_punctuation=True, delete_stop_words=True)"
      ]
    },
    {
      "cell_type": "code",
      "execution_count": 23,
      "metadata": {
        "colab": {
          "base_uri": "https://localhost:8080/"
        },
        "id": "zYylG4D3PZnC",
        "outputId": "9a94574f-0645-4ddd-fb9f-64129b9714ae"
      },
      "outputs": [
        {
          "name": "stderr",
          "output_type": "stream",
          "text": [
            "100%|██████████| 528642/528642 [09:53<00:00, 890.46it/s] \n"
          ]
        }
      ],
      "source": [
        "for i in tqdm(range(len(corpus))):\n",
        "    corpus[i] = ' '.join(tokenizer_with_stemming.tokenize(corpus[i]))"
      ]
    },
    {
      "attachments": {},
      "cell_type": "markdown",
      "metadata": {
        "id": "Q1_KKJFoPZnD"
      },
      "source": [
        "<h5> Далее используется библиотека sklearn для подсчёта IDF слов в корпусе документов:"
      ]
    },
    {
      "cell_type": "code",
      "execution_count": 24,
      "metadata": {
        "id": "zLv4j8CsPZnD"
      },
      "outputs": [],
      "source": [
        "from sklearn.feature_extraction.text import TfidfVectorizer"
      ]
    },
    {
      "cell_type": "code",
      "execution_count": 25,
      "metadata": {
        "id": "PolDJNhLPZnD"
      },
      "outputs": [],
      "source": [
        "tf_idf_vectorizer = TfidfVectorizer(use_idf=True)\n",
        "tf_idf_vectorizer.fit(corpus)\n",
        "idf_dict = dict(zip(tf_idf_vectorizer.get_feature_names_out(), tf_idf_vectorizer.idf_))"
      ]
    },
    {
      "cell_type": "code",
      "execution_count": 26,
      "metadata": {
        "colab": {
          "base_uri": "https://localhost:8080/"
        },
        "id": "DVMpaZ2LPZnD",
        "outputId": "f5fc3362-a2bf-49e8-b2a2-75c85296606d"
      },
      "outputs": [
        {
          "name": "stdout",
          "output_type": "stream",
          "text": [
            "Длины векторов: 547952\n"
          ]
        }
      ],
      "source": [
        "print(f'Длины векторов: {len(idf_dict)}')"
      ]
    },
    {
      "attachments": {},
      "cell_type": "markdown",
      "metadata": {
        "id": "dUJTscgwPZnD"
      },
      "source": [
        "<h5> Распределение IDF:"
      ]
    },
    {
      "cell_type": "code",
      "execution_count": 28,
      "metadata": {
        "colab": {
          "base_uri": "https://localhost:8080/",
          "height": 472
        },
        "id": "8M5BUHJhPZnD",
        "outputId": "cbde35f9-6c92-4e0b-96ce-79162a1af807"
      },
      "outputs": [
        {
          "data": {
            "image/png": "[encoded data removed]",
            "text/plain": [
              "<Figure size 640x480 with 1 Axes>"
            ]
          },
          "metadata": {},
          "output_type": "display_data"
        }
      ],
      "source": [
        "plt.hist(idf_dict.values())\n",
        "plt.xlabel('IDF')\n",
        "plt.ylabel('counts')\n",
        "plt.title('IDF histogram')\n",
        "plt.show()"
      ]
    },
    {
      "cell_type": "code",
      "execution_count": 29,
      "metadata": {
        "colab": {
          "base_uri": "https://localhost:8080/"
        },
        "id": "QPIP61fyPZnE",
        "outputId": "470b29ef-3210-4a96-f075-82356b73ebff"
      },
      "outputs": [
        {
          "name": "stdout",
          "output_type": "stream",
          "text": [
            "Слова, которые встречаются всего в одном документе, имеют IDF = 13.178066733160517\n"
          ]
        }
      ],
      "source": [
        "print(f'Слова, которые встречаются всего в одном документе, имеют IDF = {np.log(len(corpus))}')"
      ]
    },
    {
      "cell_type": "code",
      "execution_count": 30,
      "metadata": {
        "id": "YIWZ9J_PPZnM"
      },
      "outputs": [],
      "source": [
        "keys_to_del = []\n",
        "\n",
        "for key in idf_dict.keys():\n",
        "    if idf_dict[key] > 13:\n",
        "        keys_to_del.append(key)\n",
        "\n",
        "for key in keys_to_del:\n",
        "    idf_dict.pop(key)"
      ]
    },
    {
      "cell_type": "code",
      "execution_count": 31,
      "metadata": {
        "colab": {
          "base_uri": "https://localhost:8080/"
        },
        "id": "3ZvIR30xPZnN",
        "outputId": "b5e09c76-2099-4af5-beb8-b8da14c2706c"
      },
      "outputs": [
        {
          "name": "stdout",
          "output_type": "stream",
          "text": [
            "Длины векторов после обработки: 86779\n"
          ]
        }
      ],
      "source": [
        "print(f'Длины векторов после обработки: {len(idf_dict)}')"
      ]
    },
    {
      "attachments": {},
      "cell_type": "markdown",
      "metadata": {
        "id": "B1oIBplEPZnN"
      },
      "source": [
        "<h5> Удаление слов, которые встречаются всего в одном документе, так как, скорее всего, это просто мусор или опечатки"
      ]
    },
    {
      "attachments": {},
      "cell_type": "markdown",
      "metadata": {
        "id": "7_jFIfI4PZnN"
      },
      "source": [
        "<h5> Создание экземпляр класса Tf_idf_vectorizer:"
      ]
    },
    {
      "cell_type": "code",
      "execution_count": 32,
      "metadata": {
        "id": "0KakndYwPZnN"
      },
      "outputs": [],
      "source": [
        "from vector_space_models_utils import Tf_idf_vectorizer"
      ]
    },
    {
      "cell_type": "code",
      "execution_count": 33,
      "metadata": {
        "id": "KBW5X84ePZnN"
      },
      "outputs": [],
      "source": [
        "our_tf_idf_vectorizer = Tf_idf_vectorizer(idf_dict, tokenizer_with_stemming)"
      ]
    },
    {
      "attachments": {},
      "cell_type": "markdown",
      "metadata": {
        "id": "9SfvUhrYPZnN"
      },
      "source": [
        "<h5> Оценка качества модели, так как подсчёт tf и операции с векторами большой размерности занимают много времени, используются каждый 50 пост и его комментарии:"
      ]
    },
    {
      "cell_type": "code",
      "execution_count": 35,
      "metadata": {
        "id": "WHHvR1eTPZnO"
      },
      "outputs": [],
      "source": [
        "tf_idf_predicted_orders =  get_predicted_order(train_df[::50].reset_index(), our_tf_idf_vectorizer)"
      ]
    },
    {
      "cell_type": "code",
      "execution_count": 36,
      "metadata": {
        "colab": {
          "base_uri": "https://localhost:8080/"
        },
        "id": "Wx2kkyB-PZnO",
        "outputId": "f5c8651a-29f6-401e-c979-b3f6ad2d0fb7"
      },
      "outputs": [
        {
          "name": "stdout",
          "output_type": "stream",
          "text": [
            "Tf-IDF scores:\n",
            "hits@1: 0.2189449801474759, dcg@1: 0.2189449801474759\n",
            "hits@2: 0.42824730572887126, dcg@2: 0.35100004484847874\n",
            "hits@3: 0.5887691435053886, dcg@3: 0.43126096373673617\n",
            "hits@4: 0.6931366988088485, dcg@4: 0.4762096232293648\n"
          ]
        }
      ],
      "source": [
        "print('Tf-IDF scores (cosine_similarity):')\n",
        "\n",
        "for k in range(1, 5):\n",
        "    print(f'hits@{k}: {round(hits_score(predicted_oreders, k=k), 2)}',\n",
        "          f'dcg@{k}: {round(dcg_score(predicted_oreders, k=k), 2)}',\n",
        "          f'ndcg@{k}: {round(ndcg_score([[0, 1, 2, 3, 4]] * len(train_df), predicted_oreders, k=k), 2)}')"
      ]
    },
    {
      "attachments": {},
      "cell_type": "markdown",
      "metadata": {
        "id": "X1c7FatAPZnO"
      },
      "source": [
        "<h5> Для Tf-IDF подхода получено качество:\n",
        "\n",
        "| Method                    | DCG@1| DCG@3|\n",
        "|----------                 |------|------|\n",
        "| Tf-IDF vectors            | 0.22 | 0.43 |\n",
        "| random                    | 0.20 | 0.43 |\n",
        "\n",
        "<h5> Score на методе, основанном, на Tf-IDF векторах лишь незначительно лучше алгоритма, который бы случайно предсказывал порядок комментариев."
      ]
    },
    {
      "attachments": {},
      "cell_type": "markdown",
      "metadata": {
        "id": "tR7YlXnGPZnO"
      },
      "source": [
        "# BERT model"
      ]
    },
    {
      "attachments": {},
      "cell_type": "markdown",
      "metadata": {
        "id": "Bi7d4z0iPZnO"
      },
      "source": [
        "<h5> В данном разделе вектор текста получается из латентных слоёв модели BERT:"
      ]
    },
    {
      "cell_type": "code",
      "execution_count": 37,
      "metadata": {
        "colab": {
          "base_uri": "https://localhost:8080/"
        },
        "id": "itOfy3NWZiB4",
        "outputId": "ac49c9f7-40f3-436c-9994-eb9f112de702"
      },
      "outputs": [
        {
          "name": "stdout",
          "output_type": "stream",
          "text": [
            "Looking in indexes: https://pypi.org/simple, https://us-python.pkg.dev/colab-wheels/public/simple/\n",
            "Collecting transformers\n",
            "  Downloading transformers-4.30.2-py3-none-any.whl (7.2 MB)\n",
            "\u001b[2K     \u001b[90m━━━━━━━━━━━━━━━━━━━━━━━━━━━━━━━━━━━━━━━━\u001b[0m \u001b[32m7.2/7.2 MB\u001b[0m \u001b[31m60.3 MB/s\u001b[0m eta \u001b[36m0:00:00\u001b[0m\n",
            "\u001b[?25hRequirement already satisfied: filelock in /usr/local/lib/python3.10/dist-packages (from transformers) (3.12.2)\n",
            "Collecting huggingface-hub<1.0,>=0.14.1 (from transformers)\n",
            "  Downloading huggingface_hub-0.15.1-py3-none-any.whl (236 kB)\n",
            "\u001b[2K     \u001b[90m━━━━━━━━━━━━━━━━━━━━━━━━━━━━━━━━━━━━━━\u001b[0m \u001b[32m236.8/236.8 kB\u001b[0m \u001b[31m31.1 MB/s\u001b[0m eta \u001b[36m0:00:00\u001b[0m\n",
            "\u001b[?25hRequirement already satisfied: numpy>=1.17 in /usr/local/lib/python3.10/dist-packages (from transformers) (1.22.4)\n",
            "Requirement already satisfied: packaging>=20.0 in /usr/local/lib/python3.10/dist-packages (from transformers) (23.1)\n",
            "Requirement already satisfied: pyyaml>=5.1 in /usr/local/lib/python3.10/dist-packages (from transformers) (6.0)\n",
            "Requirement already satisfied: regex!=2019.12.17 in /usr/local/lib/python3.10/dist-packages (from transformers) (2022.10.31)\n",
            "Requirement already satisfied: requests in /usr/local/lib/python3.10/dist-packages (from transformers) (2.27.1)\n",
            "Collecting tokenizers!=0.11.3,<0.14,>=0.11.1 (from transformers)\n",
            "  Downloading tokenizers-0.13.3-cp310-cp310-manylinux_2_17_x86_64.manylinux2014_x86_64.whl (7.8 MB)\n",
            "\u001b[2K     \u001b[90m━━━━━━━━━━━━━━━━━━━━━━━━━━━━━━━━━━━━━━━━\u001b[0m \u001b[32m7.8/7.8 MB\u001b[0m \u001b[31m112.7 MB/s\u001b[0m eta \u001b[36m0:00:00\u001b[0m\n",
            "\u001b[?25hCollecting safetensors>=0.3.1 (from transformers)\n",
            "  Downloading safetensors-0.3.1-cp310-cp310-manylinux_2_17_x86_64.manylinux2014_x86_64.whl (1.3 MB)\n",
            "\u001b[2K     \u001b[90m━━━━━━━━━━━━━━━━━━━━━━━━━━━━━━━━━━━━━━━━\u001b[0m \u001b[32m1.3/1.3 MB\u001b[0m \u001b[31m72.4 MB/s\u001b[0m eta \u001b[36m0:00:00\u001b[0m\n",
            "\u001b[?25hRequirement already satisfied: tqdm>=4.27 in /usr/local/lib/python3.10/dist-packages (from transformers) (4.65.0)\n",
            "Requirement already satisfied: fsspec in /usr/local/lib/python3.10/dist-packages (from huggingface-hub<1.0,>=0.14.1->transformers) (2023.6.0)\n",
            "Requirement already satisfied: typing-extensions>=3.7.4.3 in /usr/local/lib/python3.10/dist-packages (from huggingface-hub<1.0,>=0.14.1->transformers) (4.6.3)\n",
            "Requirement already satisfied: urllib3<1.27,>=1.21.1 in /usr/local/lib/python3.10/dist-packages (from requests->transformers) (1.26.16)\n",
            "Requirement already satisfied: certifi>=2017.4.17 in /usr/local/lib/python3.10/dist-packages (from requests->transformers) (2023.5.7)\n",
            "Requirement already satisfied: charset-normalizer~=2.0.0 in /usr/local/lib/python3.10/dist-packages (from requests->transformers) (2.0.12)\n",
            "Requirement already satisfied: idna<4,>=2.5 in /usr/local/lib/python3.10/dist-packages (from requests->transformers) (3.4)\n",
            "Installing collected packages: tokenizers, safetensors, huggingface-hub, transformers\n",
            "Successfully installed huggingface-hub-0.15.1 safetensors-0.3.1 tokenizers-0.13.3 transformers-4.30.2\n"
          ]
        }
      ],
      "source": [
        "# !pip install transformers"
      ]
    },
    {
      "cell_type": "code",
      "execution_count": 13,
      "metadata": {
        "id": "VBoN8YP8PZnO"
      },
      "outputs": [],
      "source": [
        "from transformers import BertTokenizer, BertModel"
      ]
    },
    {
      "cell_type": "code",
      "execution_count": 14,
      "metadata": {
        "id": "ndud-k90xqpT"
      },
      "outputs": [],
      "source": [
        "device = torch.device('cuda' if torch.cuda.is_available() else 'cpu')"
      ]
    },
    {
      "cell_type": "code",
      "execution_count": 15,
      "metadata": {
        "colab": {
          "base_uri": "https://localhost:8080/",
          "height": 929,
          "referenced_widgets": [
            "2b11e443b1d94d9795622b26c91eb9ad",
            "4ea4826165e94f2eb46ea34b66f5ad46",
            "42dc4e06da254a53ba8c45d61b017430",
            "a0f1434a0ce74916a4ddb0d3eb5518e4",
            "77dc2b3f79d542b09503c0af34a6b4fb",
            "1d5004e505564e9383055d914a8924d3",
            "ac447f1225d34a899599f15b03bb5811",
            "1ee78348f5d543d9be158fc375f7492d",
            "6b72f2ec73514f799b7e2c5bba000feb",
            "8bff39189fee48f28e68772964ead227",
            "b3771c577b0542b9941639cd1fd19c7f",
            "9cbe382aeb6040d09211836385378bc4",
            "8caf4857b68f489c8dc8e43999de379d",
            "e83b9c2e9ef54da1b3c453f7924e978a",
            "d12b5182064f460db063f111c7392ad6",
            "20da9bb21f3c4c4cb1a924f50a010983",
            "fe658dd5fc7746a482996bcc2c225c05",
            "49924011483b4bc38d1e47c40ff04965",
            "0b11219773fd4230a691160a1ebce8de",
            "e71d34cecfe04f24ab40c6fb41d53969",
            "48514bbe0e5548ebbe463c921e1bc210",
            "241314fd633a463a92a18a0c18ce10f0",
            "2895815775434140b49164ead6359e2a",
            "c2310a0f39244a288ccf4ef2a5eb4ef8",
            "419d05796d46424c971a7326d9595423",
            "e0cc23653dfa454ab77a864eae721a11",
            "99b67d71ccab4cf8940131c277dbdabc",
            "8e6ee27745e642dcb7dbd4d73c340371",
            "cbaed600a2a04bba9287cd5cce7df82b",
            "f0ff7cd501ee4dff90fcfdbaadf797dd",
            "eca3074f090543e19a12086aa4e76b7a",
            "5a21f898c83c49b896184226e55c1a58",
            "fef23357fed94f7494d1e6baab304df2",
            "bed1099dfdd548929169e6f4c1cff912",
            "122e1679c96a4200b8c6bcc3a5a6c0bd",
            "f63d9d01d15643a28d38b36b0e8e16f3",
            "390ca7cde5934363a0d3af777c96edee",
            "c8dacaeb095241b8a251b3d554c8a6e6",
            "739b6e149a9543d386922904bedc1c28",
            "76d0b8a42bf44fe8b7573a20f3caf838",
            "1e0b76d8d606448aadc6eb1d0c40effa",
            "194bf3955a124dfbac3de2bcb7879df1",
            "61c89e45d6de4edba8a1a482f41752da",
            "116ad1d6035243e2a06a1a021d2360f7"
          ]
        },
        "id": "9PDZCACrPZnP",
        "outputId": "d143883b-db39-4017-cd31-3de501a8d09c"
      },
      "outputs": [
        {
          "data": {
            "application/vnd.jupyter.widget-view+json": {
              "model_id": "ca573b1c4d8141ea9bc0b8c271ca7e52",
              "version_major": 2,
              "version_minor": 0
            },
            "text/plain": [
              "Downloading (…)solve/main/vocab.txt:   0%|          | 0.00/232k [00:00<?, ?B/s]"
            ]
          },
          "metadata": {},
          "output_type": "display_data"
        },
        {
          "data": {
            "application/vnd.jupyter.widget-view+json": {
              "model_id": "af2bba28732b4891b5ad619e79cfc463",
              "version_major": 2,
              "version_minor": 0
            },
            "text/plain": [
              "Downloading (…)okenizer_config.json:   0%|          | 0.00/28.0 [00:00<?, ?B/s]"
            ]
          },
          "metadata": {},
          "output_type": "display_data"
        },
        {
          "data": {
            "application/vnd.jupyter.widget-view+json": {
              "model_id": "9121f17cf27945238611e3b344bf43d7",
              "version_major": 2,
              "version_minor": 0
            },
            "text/plain": [
              "Downloading (…)lve/main/config.json:   0%|          | 0.00/570 [00:00<?, ?B/s]"
            ]
          },
          "metadata": {},
          "output_type": "display_data"
        },
        {
          "data": {
            "application/vnd.jupyter.widget-view+json": {
              "model_id": "64403c21b297434abf7097caef02dd53",
              "version_major": 2,
              "version_minor": 0
            },
            "text/plain": [
              "Downloading pytorch_model.bin:   0%|          | 0.00/440M [00:00<?, ?B/s]"
            ]
          },
          "metadata": {},
          "output_type": "display_data"
        },
        {
          "name": "stderr",
          "output_type": "stream",
          "text": [
            "Some weights of the model checkpoint at bert-base-uncased were not used when initializing BertModel: ['cls.predictions.transform.dense.bias', 'cls.seq_relationship.weight', 'cls.predictions.transform.LayerNorm.bias', 'cls.predictions.bias', 'cls.predictions.transform.LayerNorm.weight', 'cls.seq_relationship.bias', 'cls.predictions.transform.dense.weight', 'cls.predictions.decoder.weight']\n",
            "- This IS expected if you are initializing BertModel from the checkpoint of a model trained on another task or with another architecture (e.g. initializing a BertForSequenceClassification model from a BertForPreTraining model).\n",
            "- This IS NOT expected if you are initializing BertModel from the checkpoint of a model that you expect to be exactly identical (initializing a BertForSequenceClassification model from a BertForSequenceClassification model).\n"
          ]
        },
        {
          "data": {
            "text/plain": [
              "BertModel(\n",
              "  (embeddings): BertEmbeddings(\n",
              "    (word_embeddings): Embedding(30522, 768, padding_idx=0)\n",
              "    (position_embeddings): Embedding(512, 768)\n",
              "    (token_type_embeddings): Embedding(2, 768)\n",
              "    (LayerNorm): LayerNorm((768,), eps=1e-12, elementwise_affine=True)\n",
              "    (dropout): Dropout(p=0.1, inplace=False)\n",
              "  )\n",
              "  (encoder): BertEncoder(\n",
              "    (layer): ModuleList(\n",
              "      (0): BertLayer(\n",
              "        (attention): BertAttention(\n",
              "          (self): BertSelfAttention(\n",
              "            (query): Linear(in_features=768, out_features=768, bias=True)\n",
              "            (key): Linear(in_features=768, out_features=768, bias=True)\n",
              "            (value): Linear(in_features=768, out_features=768, bias=True)\n",
              "            (dropout): Dropout(p=0.1, inplace=False)\n",
              "          )\n",
              "          (output): BertSelfOutput(\n",
              "            (dense): Linear(in_features=768, out_features=768, bias=True)\n",
              "            (LayerNorm): LayerNorm((768,), eps=1e-12, elementwise_affine=True)\n",
              "            (dropout): Dropout(p=0.1, inplace=False)\n",
              "          )\n",
              "        )\n",
              "        (intermediate): BertIntermediate(\n",
              "          (dense): Linear(in_features=768, out_features=3072, bias=True)\n",
              "          (intermediate_act_fn): GELUActivation()\n",
              "        )\n",
              "        (output): BertOutput(\n",
              "          (dense): Linear(in_features=3072, out_features=768, bias=True)\n",
              "          (LayerNorm): LayerNorm((768,), eps=1e-12, elementwise_affine=True)\n",
              "          (dropout): Dropout(p=0.1, inplace=False)\n",
              "        )\n",
              "      )\n",
              "      (1): BertLayer(\n",
              "        (attention): BertAttention(\n",
              "          (self): BertSelfAttention(\n",
              "            (query): Linear(in_features=768, out_features=768, bias=True)\n",
              "            (key): Linear(in_features=768, out_features=768, bias=True)\n",
              "            (value): Linear(in_features=768, out_features=768, bias=True)\n",
              "            (dropout): Dropout(p=0.1, inplace=False)\n",
              "          )\n",
              "          (output): BertSelfOutput(\n",
              "            (dense): Linear(in_features=768, out_features=768, bias=True)\n",
              "            (LayerNorm): LayerNorm((768,), eps=1e-12, elementwise_affine=True)\n",
              "            (dropout): Dropout(p=0.1, inplace=False)\n",
              "          )\n",
              "        )\n",
              "        (intermediate): BertIntermediate(\n",
              "          (dense): Linear(in_features=768, out_features=3072, bias=True)\n",
              "          (intermediate_act_fn): GELUActivation()\n",
              "        )\n",
              "        (output): BertOutput(\n",
              "          (dense): Linear(in_features=3072, out_features=768, bias=True)\n",
              "          (LayerNorm): LayerNorm((768,), eps=1e-12, elementwise_affine=True)\n",
              "          (dropout): Dropout(p=0.1, inplace=False)\n",
              "        )\n",
              "      )\n",
              "      (2): BertLayer(\n",
              "        (attention): BertAttention(\n",
              "          (self): BertSelfAttention(\n",
              "            (query): Linear(in_features=768, out_features=768, bias=True)\n",
              "            (key): Linear(in_features=768, out_features=768, bias=True)\n",
              "            (value): Linear(in_features=768, out_features=768, bias=True)\n",
              "            (dropout): Dropout(p=0.1, inplace=False)\n",
              "          )\n",
              "          (output): BertSelfOutput(\n",
              "            (dense): Linear(in_features=768, out_features=768, bias=True)\n",
              "            (LayerNorm): LayerNorm((768,), eps=1e-12, elementwise_affine=True)\n",
              "            (dropout): Dropout(p=0.1, inplace=False)\n",
              "          )\n",
              "        )\n",
              "        (intermediate): BertIntermediate(\n",
              "          (dense): Linear(in_features=768, out_features=3072, bias=True)\n",
              "          (intermediate_act_fn): GELUActivation()\n",
              "        )\n",
              "        (output): BertOutput(\n",
              "          (dense): Linear(in_features=3072, out_features=768, bias=True)\n",
              "          (LayerNorm): LayerNorm((768,), eps=1e-12, elementwise_affine=True)\n",
              "          (dropout): Dropout(p=0.1, inplace=False)\n",
              "        )\n",
              "      )\n",
              "      (3): BertLayer(\n",
              "        (attention): BertAttention(\n",
              "          (self): BertSelfAttention(\n",
              "            (query): Linear(in_features=768, out_features=768, bias=True)\n",
              "            (key): Linear(in_features=768, out_features=768, bias=True)\n",
              "            (value): Linear(in_features=768, out_features=768, bias=True)\n",
              "            (dropout): Dropout(p=0.1, inplace=False)\n",
              "          )\n",
              "          (output): BertSelfOutput(\n",
              "            (dense): Linear(in_features=768, out_features=768, bias=True)\n",
              "            (LayerNorm): LayerNorm((768,), eps=1e-12, elementwise_affine=True)\n",
              "            (dropout): Dropout(p=0.1, inplace=False)\n",
              "          )\n",
              "        )\n",
              "        (intermediate): BertIntermediate(\n",
              "          (dense): Linear(in_features=768, out_features=3072, bias=True)\n",
              "          (intermediate_act_fn): GELUActivation()\n",
              "        )\n",
              "        (output): BertOutput(\n",
              "          (dense): Linear(in_features=3072, out_features=768, bias=True)\n",
              "          (LayerNorm): LayerNorm((768,), eps=1e-12, elementwise_affine=True)\n",
              "          (dropout): Dropout(p=0.1, inplace=False)\n",
              "        )\n",
              "      )\n",
              "      (4): BertLayer(\n",
              "        (attention): BertAttention(\n",
              "          (self): BertSelfAttention(\n",
              "            (query): Linear(in_features=768, out_features=768, bias=True)\n",
              "            (key): Linear(in_features=768, out_features=768, bias=True)\n",
              "            (value): Linear(in_features=768, out_features=768, bias=True)\n",
              "            (dropout): Dropout(p=0.1, inplace=False)\n",
              "          )\n",
              "          (output): BertSelfOutput(\n",
              "            (dense): Linear(in_features=768, out_features=768, bias=True)\n",
              "            (LayerNorm): LayerNorm((768,), eps=1e-12, elementwise_affine=True)\n",
              "            (dropout): Dropout(p=0.1, inplace=False)\n",
              "          )\n",
              "        )\n",
              "        (intermediate): BertIntermediate(\n",
              "          (dense): Linear(in_features=768, out_features=3072, bias=True)\n",
              "          (intermediate_act_fn): GELUActivation()\n",
              "        )\n",
              "        (output): BertOutput(\n",
              "          (dense): Linear(in_features=3072, out_features=768, bias=True)\n",
              "          (LayerNorm): LayerNorm((768,), eps=1e-12, elementwise_affine=True)\n",
              "          (dropout): Dropout(p=0.1, inplace=False)\n",
              "        )\n",
              "      )\n",
              "      (5): BertLayer(\n",
              "        (attention): BertAttention(\n",
              "          (self): BertSelfAttention(\n",
              "            (query): Linear(in_features=768, out_features=768, bias=True)\n",
              "            (key): Linear(in_features=768, out_features=768, bias=True)\n",
              "            (value): Linear(in_features=768, out_features=768, bias=True)\n",
              "            (dropout): Dropout(p=0.1, inplace=False)\n",
              "          )\n",
              "          (output): BertSelfOutput(\n",
              "            (dense): Linear(in_features=768, out_features=768, bias=True)\n",
              "            (LayerNorm): LayerNorm((768,), eps=1e-12, elementwise_affine=True)\n",
              "            (dropout): Dropout(p=0.1, inplace=False)\n",
              "          )\n",
              "        )\n",
              "        (intermediate): BertIntermediate(\n",
              "          (dense): Linear(in_features=768, out_features=3072, bias=True)\n",
              "          (intermediate_act_fn): GELUActivation()\n",
              "        )\n",
              "        (output): BertOutput(\n",
              "          (dense): Linear(in_features=3072, out_features=768, bias=True)\n",
              "          (LayerNorm): LayerNorm((768,), eps=1e-12, elementwise_affine=True)\n",
              "          (dropout): Dropout(p=0.1, inplace=False)\n",
              "        )\n",
              "      )\n",
              "      (6): BertLayer(\n",
              "        (attention): BertAttention(\n",
              "          (self): BertSelfAttention(\n",
              "            (query): Linear(in_features=768, out_features=768, bias=True)\n",
              "            (key): Linear(in_features=768, out_features=768, bias=True)\n",
              "            (value): Linear(in_features=768, out_features=768, bias=True)\n",
              "            (dropout): Dropout(p=0.1, inplace=False)\n",
              "          )\n",
              "          (output): BertSelfOutput(\n",
              "            (dense): Linear(in_features=768, out_features=768, bias=True)\n",
              "            (LayerNorm): LayerNorm((768,), eps=1e-12, elementwise_affine=True)\n",
              "            (dropout): Dropout(p=0.1, inplace=False)\n",
              "          )\n",
              "        )\n",
              "        (intermediate): BertIntermediate(\n",
              "          (dense): Linear(in_features=768, out_features=3072, bias=True)\n",
              "          (intermediate_act_fn): GELUActivation()\n",
              "        )\n",
              "        (output): BertOutput(\n",
              "          (dense): Linear(in_features=3072, out_features=768, bias=True)\n",
              "          (LayerNorm): LayerNorm((768,), eps=1e-12, elementwise_affine=True)\n",
              "          (dropout): Dropout(p=0.1, inplace=False)\n",
              "        )\n",
              "      )\n",
              "      (7): BertLayer(\n",
              "        (attention): BertAttention(\n",
              "          (self): BertSelfAttention(\n",
              "            (query): Linear(in_features=768, out_features=768, bias=True)\n",
              "            (key): Linear(in_features=768, out_features=768, bias=True)\n",
              "            (value): Linear(in_features=768, out_features=768, bias=True)\n",
              "            (dropout): Dropout(p=0.1, inplace=False)\n",
              "          )\n",
              "          (output): BertSelfOutput(\n",
              "            (dense): Linear(in_features=768, out_features=768, bias=True)\n",
              "            (LayerNorm): LayerNorm((768,), eps=1e-12, elementwise_affine=True)\n",
              "            (dropout): Dropout(p=0.1, inplace=False)\n",
              "          )\n",
              "        )\n",
              "        (intermediate): BertIntermediate(\n",
              "          (dense): Linear(in_features=768, out_features=3072, bias=True)\n",
              "          (intermediate_act_fn): GELUActivation()\n",
              "        )\n",
              "        (output): BertOutput(\n",
              "          (dense): Linear(in_features=3072, out_features=768, bias=True)\n",
              "          (LayerNorm): LayerNorm((768,), eps=1e-12, elementwise_affine=True)\n",
              "          (dropout): Dropout(p=0.1, inplace=False)\n",
              "        )\n",
              "      )\n",
              "      (8): BertLayer(\n",
              "        (attention): BertAttention(\n",
              "          (self): BertSelfAttention(\n",
              "            (query): Linear(in_features=768, out_features=768, bias=True)\n",
              "            (key): Linear(in_features=768, out_features=768, bias=True)\n",
              "            (value): Linear(in_features=768, out_features=768, bias=True)\n",
              "            (dropout): Dropout(p=0.1, inplace=False)\n",
              "          )\n",
              "          (output): BertSelfOutput(\n",
              "            (dense): Linear(in_features=768, out_features=768, bias=True)\n",
              "            (LayerNorm): LayerNorm((768,), eps=1e-12, elementwise_affine=True)\n",
              "            (dropout): Dropout(p=0.1, inplace=False)\n",
              "          )\n",
              "        )\n",
              "        (intermediate): BertIntermediate(\n",
              "          (dense): Linear(in_features=768, out_features=3072, bias=True)\n",
              "          (intermediate_act_fn): GELUActivation()\n",
              "        )\n",
              "        (output): BertOutput(\n",
              "          (dense): Linear(in_features=3072, out_features=768, bias=True)\n",
              "          (LayerNorm): LayerNorm((768,), eps=1e-12, elementwise_affine=True)\n",
              "          (dropout): Dropout(p=0.1, inplace=False)\n",
              "        )\n",
              "      )\n",
              "      (9): BertLayer(\n",
              "        (attention): BertAttention(\n",
              "          (self): BertSelfAttention(\n",
              "            (query): Linear(in_features=768, out_features=768, bias=True)\n",
              "            (key): Linear(in_features=768, out_features=768, bias=True)\n",
              "            (value): Linear(in_features=768, out_features=768, bias=True)\n",
              "            (dropout): Dropout(p=0.1, inplace=False)\n",
              "          )\n",
              "          (output): BertSelfOutput(\n",
              "            (dense): Linear(in_features=768, out_features=768, bias=True)\n",
              "            (LayerNorm): LayerNorm((768,), eps=1e-12, elementwise_affine=True)\n",
              "            (dropout): Dropout(p=0.1, inplace=False)\n",
              "          )\n",
              "        )\n",
              "        (intermediate): BertIntermediate(\n",
              "          (dense): Linear(in_features=768, out_features=3072, bias=True)\n",
              "          (intermediate_act_fn): GELUActivation()\n",
              "        )\n",
              "        (output): BertOutput(\n",
              "          (dense): Linear(in_features=3072, out_features=768, bias=True)\n",
              "          (LayerNorm): LayerNorm((768,), eps=1e-12, elementwise_affine=True)\n",
              "          (dropout): Dropout(p=0.1, inplace=False)\n",
              "        )\n",
              "      )\n",
              "      (10): BertLayer(\n",
              "        (attention): BertAttention(\n",
              "          (self): BertSelfAttention(\n",
              "            (query): Linear(in_features=768, out_features=768, bias=True)\n",
              "            (key): Linear(in_features=768, out_features=768, bias=True)\n",
              "            (value): Linear(in_features=768, out_features=768, bias=True)\n",
              "            (dropout): Dropout(p=0.1, inplace=False)\n",
              "          )\n",
              "          (output): BertSelfOutput(\n",
              "            (dense): Linear(in_features=768, out_features=768, bias=True)\n",
              "            (LayerNorm): LayerNorm((768,), eps=1e-12, elementwise_affine=True)\n",
              "            (dropout): Dropout(p=0.1, inplace=False)\n",
              "          )\n",
              "        )\n",
              "        (intermediate): BertIntermediate(\n",
              "          (dense): Linear(in_features=768, out_features=3072, bias=True)\n",
              "          (intermediate_act_fn): GELUActivation()\n",
              "        )\n",
              "        (output): BertOutput(\n",
              "          (dense): Linear(in_features=3072, out_features=768, bias=True)\n",
              "          (LayerNorm): LayerNorm((768,), eps=1e-12, elementwise_affine=True)\n",
              "          (dropout): Dropout(p=0.1, inplace=False)\n",
              "        )\n",
              "      )\n",
              "      (11): BertLayer(\n",
              "        (attention): BertAttention(\n",
              "          (self): BertSelfAttention(\n",
              "            (query): Linear(in_features=768, out_features=768, bias=True)\n",
              "            (key): Linear(in_features=768, out_features=768, bias=True)\n",
              "            (value): Linear(in_features=768, out_features=768, bias=True)\n",
              "            (dropout): Dropout(p=0.1, inplace=False)\n",
              "          )\n",
              "          (output): BertSelfOutput(\n",
              "            (dense): Linear(in_features=768, out_features=768, bias=True)\n",
              "            (LayerNorm): LayerNorm((768,), eps=1e-12, elementwise_affine=True)\n",
              "            (dropout): Dropout(p=0.1, inplace=False)\n",
              "          )\n",
              "        )\n",
              "        (intermediate): BertIntermediate(\n",
              "          (dense): Linear(in_features=768, out_features=3072, bias=True)\n",
              "          (intermediate_act_fn): GELUActivation()\n",
              "        )\n",
              "        (output): BertOutput(\n",
              "          (dense): Linear(in_features=3072, out_features=768, bias=True)\n",
              "          (LayerNorm): LayerNorm((768,), eps=1e-12, elementwise_affine=True)\n",
              "          (dropout): Dropout(p=0.1, inplace=False)\n",
              "        )\n",
              "      )\n",
              "    )\n",
              "  )\n",
              "  (pooler): BertPooler(\n",
              "    (dense): Linear(in_features=768, out_features=768, bias=True)\n",
              "    (activation): Tanh()\n",
              "  )\n",
              ")"
            ]
          },
          "execution_count": 15,
          "metadata": {},
          "output_type": "execute_result"
        }
      ],
      "source": [
        "bert_tokenizer = BertTokenizer.from_pretrained('bert-base-uncased')\n",
        "bert_model = BertModel.from_pretrained('bert-base-uncased', output_hidden_states=True)\n",
        "bert_model.eval().to(device)"
      ]
    },
    {
      "attachments": {},
      "cell_type": "markdown",
      "metadata": {
        "id": "IVfLdgg6PZnP"
      },
      "source": [
        "<h5> Создание экземпляра класса BERT_vectorizer:"
      ]
    },
    {
      "cell_type": "code",
      "execution_count": 41,
      "metadata": {
        "id": "IR6YcP71PZnP"
      },
      "outputs": [],
      "source": [
        "from vector_space_models_utils import BERT_vectorizer"
      ]
    },
    {
      "cell_type": "code",
      "execution_count": 42,
      "metadata": {
        "id": "3txU_kaoPZnP"
      },
      "outputs": [],
      "source": [
        "bert_vectorizer = BERT_vectorizer(bert_model, bert_tokenizer)"
      ]
    },
    {
      "attachments": {},
      "cell_type": "markdown",
      "metadata": {
        "id": "EWxK-QBHPZnP"
      },
      "source": [
        "<h5> Оценка качества модели:"
      ]
    },
    {
      "cell_type": "code",
      "execution_count": 44,
      "metadata": {
        "colab": {
          "base_uri": "https://localhost:8080/"
        },
        "id": "wwgNQ4cqPZnQ",
        "outputId": "ad64a7c9-84fe-4355-c7c3-cca950c9ba1f"
      },
      "outputs": [
        {
          "name": "stdout",
          "output_type": "stream",
          "text": [
            "BERT-based vectors scores:\n",
            "hits@1: 0.17467397596104736, dcg@1: 0.17467397596104736\n",
            "hits@2: 0.3778814396131976, dcg@2: 0.30288361092688754\n",
            "hits@3: 0.5979093602097449, dcg@3: 0.41289757122510456\n",
            "hits@4: 0.8145436798438263, dcg@4: 0.5061968943658232\n"
          ]
        }
      ],
      "source": [
        "bert_predicted_orders = get_predicted_order(train_df, bert_vectorizer)\n",
        "\n",
        "print('BERT-based vectors scores:')\n",
        "for k in range(1, 5):\n",
        "    print(f'hits@{k}: {hits_score(bert_predicted_orders, k=k)}, dcg@{k}: {dcg_score(bert_predicted_orders, k=k)}')"
      ]
    },
    {
      "cell_type": "code",
      "execution_count": 58,
      "metadata": {
        "id": "AtcQJzx2PZnQ",
        "outputId": "7932fad0-a689-4475-d50d-933d39bf4621"
      },
      "outputs": [
        {
          "data": {
            "text/plain": [
              "<module 'vector_space_models_utils' from 'c:\\\\Users\\\\qochu\\\\Desktop\\\\VK Hackathon\\\\vector_space_models_utils.py'>"
            ]
          },
          "execution_count": 58,
          "metadata": {},
          "output_type": "execute_result"
        }
      ],
      "source": [
        "from imp import reload\n",
        "\n",
        "reload(vector_space_models_utils)"
      ]
    }
  ],
  "metadata": {
    "accelerator": "GPU",
    "colab": {
      "gpuType": "T4",
      "provenance": []
    },
    "kernelspec": {
      "display_name": "Python 3",
      "name": "python3"
    },
    "language_info": {
      "codemirror_mode": {
        "name": "ipython",
        "version": 3
      },
      "file_extension": ".py",
      "mimetype": "text/x-python",
      "name": "python",
      "nbconvert_exporter": "python",
      "pygments_lexer": "ipython3",
      "version": "3.9.13"
    },
    "orig_nbformat": 4,
    "widgets": {
      "application/vnd.jupyter.widget-state+json": {
        "0b11219773fd4230a691160a1ebce8de": {
          "model_module": "@jupyter-widgets/base",
          "model_module_version": "1.2.0",
          "model_name": "LayoutModel",
          "state": {
            "_model_module": "@jupyter-widgets/base",
            "_model_module_version": "1.2.0",
            "_model_name": "LayoutModel",
            "_view_count": null,
            "_view_module": "@jupyter-widgets/base",
            "_view_module_version": "1.2.0",
            "_view_name": "LayoutView",
            "align_content": null,
            "align_items": null,
            "align_self": null,
            "border": null,
            "bottom": null,
            "display": null,
            "flex": null,
            "flex_flow": null,
            "grid_area": null,
            "grid_auto_columns": null,
            "grid_auto_flow": null,
            "grid_auto_rows": null,
            "grid_column": null,
            "grid_gap": null,
            "grid_row": null,
            "grid_template_areas": null,
            "grid_template_columns": null,
            "grid_template_rows": null,
            "height": null,
            "justify_content": null,
            "justify_items": null,
            "left": null,
            "margin": null,
            "max_height": null,
            "max_width": null,
            "min_height": null,
            "min_width": null,
            "object_fit": null,
            "object_position": null,
            "order": null,
            "overflow": null,
            "overflow_x": null,
            "overflow_y": null,
            "padding": null,
            "right": null,
            "top": null,
            "visibility": null,
            "width": null
          }
        },
        "116ad1d6035243e2a06a1a021d2360f7": {
          "model_module": "@jupyter-widgets/controls",
          "model_module_version": "1.5.0",
          "model_name": "DescriptionStyleModel",
          "state": {
            "_model_module": "@jupyter-widgets/controls",
            "_model_module_version": "1.5.0",
            "_model_name": "DescriptionStyleModel",
            "_view_count": null,
            "_view_module": "@jupyter-widgets/base",
            "_view_module_version": "1.2.0",
            "_view_name": "StyleView",
            "description_width": ""
          }
        },
        "122e1679c96a4200b8c6bcc3a5a6c0bd": {
          "model_module": "@jupyter-widgets/controls",
          "model_module_version": "1.5.0",
          "model_name": "HTMLModel",
          "state": {
            "_dom_classes": [],
            "_model_module": "@jupyter-widgets/controls",
            "_model_module_version": "1.5.0",
            "_model_name": "HTMLModel",
            "_view_count": null,
            "_view_module": "@jupyter-widgets/controls",
            "_view_module_version": "1.5.0",
            "_view_name": "HTMLView",
            "description": "",
            "description_tooltip": null,
            "layout": "IPY_MODEL_739b6e149a9543d386922904bedc1c28",
            "placeholder": "​",
            "style": "IPY_MODEL_76d0b8a42bf44fe8b7573a20f3caf838",
            "value": "Downloading model.safetensors: 100%"
          }
        },
        "194bf3955a124dfbac3de2bcb7879df1": {
          "model_module": "@jupyter-widgets/controls",
          "model_module_version": "1.5.0",
          "model_name": "ProgressStyleModel",
          "state": {
            "_model_module": "@jupyter-widgets/controls",
            "_model_module_version": "1.5.0",
            "_model_name": "ProgressStyleModel",
            "_view_count": null,
            "_view_module": "@jupyter-widgets/base",
            "_view_module_version": "1.2.0",
            "_view_name": "StyleView",
            "bar_color": null,
            "description_width": ""
          }
        },
        "1d5004e505564e9383055d914a8924d3": {
          "model_module": "@jupyter-widgets/base",
          "model_module_version": "1.2.0",
          "model_name": "LayoutModel",
          "state": {
            "_model_module": "@jupyter-widgets/base",
            "_model_module_version": "1.2.0",
            "_model_name": "LayoutModel",
            "_view_count": null,
            "_view_module": "@jupyter-widgets/base",
            "_view_module_version": "1.2.0",
            "_view_name": "LayoutView",
            "align_content": null,
            "align_items": null,
            "align_self": null,
            "border": null,
            "bottom": null,
            "display": null,
            "flex": null,
            "flex_flow": null,
            "grid_area": null,
            "grid_auto_columns": null,
            "grid_auto_flow": null,
            "grid_auto_rows": null,
            "grid_column": null,
            "grid_gap": null,
            "grid_row": null,
            "grid_template_areas": null,
            "grid_template_columns": null,
            "grid_template_rows": null,
            "height": null,
            "justify_content": null,
            "justify_items": null,
            "left": null,
            "margin": null,
            "max_height": null,
            "max_width": null,
            "min_height": null,
            "min_width": null,
            "object_fit": null,
            "object_position": null,
            "order": null,
            "overflow": null,
            "overflow_x": null,
            "overflow_y": null,
            "padding": null,
            "right": null,
            "top": null,
            "visibility": null,
            "width": null
          }
        },
        "1e0b76d8d606448aadc6eb1d0c40effa": {
          "model_module": "@jupyter-widgets/base",
          "model_module_version": "1.2.0",
          "model_name": "LayoutModel",
          "state": {
            "_model_module": "@jupyter-widgets/base",
            "_model_module_version": "1.2.0",
            "_model_name": "LayoutModel",
            "_view_count": null,
            "_view_module": "@jupyter-widgets/base",
            "_view_module_version": "1.2.0",
            "_view_name": "LayoutView",
            "align_content": null,
            "align_items": null,
            "align_self": null,
            "border": null,
            "bottom": null,
            "display": null,
            "flex": null,
            "flex_flow": null,
            "grid_area": null,
            "grid_auto_columns": null,
            "grid_auto_flow": null,
            "grid_auto_rows": null,
            "grid_column": null,
            "grid_gap": null,
            "grid_row": null,
            "grid_template_areas": null,
            "grid_template_columns": null,
            "grid_template_rows": null,
            "height": null,
            "justify_content": null,
            "justify_items": null,
            "left": null,
            "margin": null,
            "max_height": null,
            "max_width": null,
            "min_height": null,
            "min_width": null,
            "object_fit": null,
            "object_position": null,
            "order": null,
            "overflow": null,
            "overflow_x": null,
            "overflow_y": null,
            "padding": null,
            "right": null,
            "top": null,
            "visibility": null,
            "width": null
          }
        },
        "1ee78348f5d543d9be158fc375f7492d": {
          "model_module": "@jupyter-widgets/base",
          "model_module_version": "1.2.0",
          "model_name": "LayoutModel",
          "state": {
            "_model_module": "@jupyter-widgets/base",
            "_model_module_version": "1.2.0",
            "_model_name": "LayoutModel",
            "_view_count": null,
            "_view_module": "@jupyter-widgets/base",
            "_view_module_version": "1.2.0",
            "_view_name": "LayoutView",
            "align_content": null,
            "align_items": null,
            "align_self": null,
            "border": null,
            "bottom": null,
            "display": null,
            "flex": null,
            "flex_flow": null,
            "grid_area": null,
            "grid_auto_columns": null,
            "grid_auto_flow": null,
            "grid_auto_rows": null,
            "grid_column": null,
            "grid_gap": null,
            "grid_row": null,
            "grid_template_areas": null,
            "grid_template_columns": null,
            "grid_template_rows": null,
            "height": null,
            "justify_content": null,
            "justify_items": null,
            "left": null,
            "margin": null,
            "max_height": null,
            "max_width": null,
            "min_height": null,
            "min_width": null,
            "object_fit": null,
            "object_position": null,
            "order": null,
            "overflow": null,
            "overflow_x": null,
            "overflow_y": null,
            "padding": null,
            "right": null,
            "top": null,
            "visibility": null,
            "width": "20px"
          }
        },
        "20da9bb21f3c4c4cb1a924f50a010983": {
          "model_module": "@jupyter-widgets/base",
          "model_module_version": "1.2.0",
          "model_name": "LayoutModel",
          "state": {
            "_model_module": "@jupyter-widgets/base",
            "_model_module_version": "1.2.0",
            "_model_name": "LayoutModel",
            "_view_count": null,
            "_view_module": "@jupyter-widgets/base",
            "_view_module_version": "1.2.0",
            "_view_name": "LayoutView",
            "align_content": null,
            "align_items": null,
            "align_self": null,
            "border": null,
            "bottom": null,
            "display": null,
            "flex": null,
            "flex_flow": null,
            "grid_area": null,
            "grid_auto_columns": null,
            "grid_auto_flow": null,
            "grid_auto_rows": null,
            "grid_column": null,
            "grid_gap": null,
            "grid_row": null,
            "grid_template_areas": null,
            "grid_template_columns": null,
            "grid_template_rows": null,
            "height": null,
            "justify_content": null,
            "justify_items": null,
            "left": null,
            "margin": null,
            "max_height": null,
            "max_width": null,
            "min_height": null,
            "min_width": null,
            "object_fit": null,
            "object_position": null,
            "order": null,
            "overflow": null,
            "overflow_x": null,
            "overflow_y": null,
            "padding": null,
            "right": null,
            "top": null,
            "visibility": null,
            "width": null
          }
        },
        "241314fd633a463a92a18a0c18ce10f0": {
          "model_module": "@jupyter-widgets/controls",
          "model_module_version": "1.5.0",
          "model_name": "DescriptionStyleModel",
          "state": {
            "_model_module": "@jupyter-widgets/controls",
            "_model_module_version": "1.5.0",
            "_model_name": "DescriptionStyleModel",
            "_view_count": null,
            "_view_module": "@jupyter-widgets/base",
            "_view_module_version": "1.2.0",
            "_view_name": "StyleView",
            "description_width": ""
          }
        },
        "2895815775434140b49164ead6359e2a": {
          "model_module": "@jupyter-widgets/controls",
          "model_module_version": "1.5.0",
          "model_name": "HBoxModel",
          "state": {
            "_dom_classes": [],
            "_model_module": "@jupyter-widgets/controls",
            "_model_module_version": "1.5.0",
            "_model_name": "HBoxModel",
            "_view_count": null,
            "_view_module": "@jupyter-widgets/controls",
            "_view_module_version": "1.5.0",
            "_view_name": "HBoxView",
            "box_style": "",
            "children": [
              "IPY_MODEL_c2310a0f39244a288ccf4ef2a5eb4ef8",
              "IPY_MODEL_419d05796d46424c971a7326d9595423",
              "IPY_MODEL_e0cc23653dfa454ab77a864eae721a11"
            ],
            "layout": "IPY_MODEL_99b67d71ccab4cf8940131c277dbdabc"
          }
        },
        "2b11e443b1d94d9795622b26c91eb9ad": {
          "model_module": "@jupyter-widgets/controls",
          "model_module_version": "1.5.0",
          "model_name": "HBoxModel",
          "state": {
            "_dom_classes": [],
            "_model_module": "@jupyter-widgets/controls",
            "_model_module_version": "1.5.0",
            "_model_name": "HBoxModel",
            "_view_count": null,
            "_view_module": "@jupyter-widgets/controls",
            "_view_module_version": "1.5.0",
            "_view_name": "HBoxView",
            "box_style": "",
            "children": [
              "IPY_MODEL_4ea4826165e94f2eb46ea34b66f5ad46",
              "IPY_MODEL_42dc4e06da254a53ba8c45d61b017430",
              "IPY_MODEL_a0f1434a0ce74916a4ddb0d3eb5518e4"
            ],
            "layout": "IPY_MODEL_77dc2b3f79d542b09503c0af34a6b4fb"
          }
        },
        "390ca7cde5934363a0d3af777c96edee": {
          "model_module": "@jupyter-widgets/controls",
          "model_module_version": "1.5.0",
          "model_name": "HTMLModel",
          "state": {
            "_dom_classes": [],
            "_model_module": "@jupyter-widgets/controls",
            "_model_module_version": "1.5.0",
            "_model_name": "HTMLModel",
            "_view_count": null,
            "_view_module": "@jupyter-widgets/controls",
            "_view_module_version": "1.5.0",
            "_view_name": "HTMLView",
            "description": "",
            "description_tooltip": null,
            "layout": "IPY_MODEL_61c89e45d6de4edba8a1a482f41752da",
            "placeholder": "​",
            "style": "IPY_MODEL_116ad1d6035243e2a06a1a021d2360f7",
            "value": " 440M/440M [00:04&lt;00:00, 125MB/s]"
          }
        },
        "419d05796d46424c971a7326d9595423": {
          "model_module": "@jupyter-widgets/controls",
          "model_module_version": "1.5.0",
          "model_name": "FloatProgressModel",
          "state": {
            "_dom_classes": [],
            "_model_module": "@jupyter-widgets/controls",
            "_model_module_version": "1.5.0",
            "_model_name": "FloatProgressModel",
            "_view_count": null,
            "_view_module": "@jupyter-widgets/controls",
            "_view_module_version": "1.5.0",
            "_view_name": "ProgressView",
            "bar_style": "success",
            "description": "",
            "description_tooltip": null,
            "layout": "IPY_MODEL_f0ff7cd501ee4dff90fcfdbaadf797dd",
            "max": 570,
            "min": 0,
            "orientation": "horizontal",
            "style": "IPY_MODEL_eca3074f090543e19a12086aa4e76b7a",
            "value": 570
          }
        },
        "42dc4e06da254a53ba8c45d61b017430": {
          "model_module": "@jupyter-widgets/controls",
          "model_module_version": "1.5.0",
          "model_name": "FloatProgressModel",
          "state": {
            "_dom_classes": [],
            "_model_module": "@jupyter-widgets/controls",
            "_model_module_version": "1.5.0",
            "_model_name": "FloatProgressModel",
            "_view_count": null,
            "_view_module": "@jupyter-widgets/controls",
            "_view_module_version": "1.5.0",
            "_view_name": "ProgressView",
            "bar_style": "success",
            "description": "",
            "description_tooltip": null,
            "layout": "IPY_MODEL_1ee78348f5d543d9be158fc375f7492d",
            "max": 1,
            "min": 0,
            "orientation": "horizontal",
            "style": "IPY_MODEL_6b72f2ec73514f799b7e2c5bba000feb",
            "value": 1
          }
        },
        "48514bbe0e5548ebbe463c921e1bc210": {
          "model_module": "@jupyter-widgets/base",
          "model_module_version": "1.2.0",
          "model_name": "LayoutModel",
          "state": {
            "_model_module": "@jupyter-widgets/base",
            "_model_module_version": "1.2.0",
            "_model_name": "LayoutModel",
            "_view_count": null,
            "_view_module": "@jupyter-widgets/base",
            "_view_module_version": "1.2.0",
            "_view_name": "LayoutView",
            "align_content": null,
            "align_items": null,
            "align_self": null,
            "border": null,
            "bottom": null,
            "display": null,
            "flex": null,
            "flex_flow": null,
            "grid_area": null,
            "grid_auto_columns": null,
            "grid_auto_flow": null,
            "grid_auto_rows": null,
            "grid_column": null,
            "grid_gap": null,
            "grid_row": null,
            "grid_template_areas": null,
            "grid_template_columns": null,
            "grid_template_rows": null,
            "height": null,
            "justify_content": null,
            "justify_items": null,
            "left": null,
            "margin": null,
            "max_height": null,
            "max_width": null,
            "min_height": null,
            "min_width": null,
            "object_fit": null,
            "object_position": null,
            "order": null,
            "overflow": null,
            "overflow_x": null,
            "overflow_y": null,
            "padding": null,
            "right": null,
            "top": null,
            "visibility": null,
            "width": null
          }
        },
        "49924011483b4bc38d1e47c40ff04965": {
          "model_module": "@jupyter-widgets/controls",
          "model_module_version": "1.5.0",
          "model_name": "DescriptionStyleModel",
          "state": {
            "_model_module": "@jupyter-widgets/controls",
            "_model_module_version": "1.5.0",
            "_model_name": "DescriptionStyleModel",
            "_view_count": null,
            "_view_module": "@jupyter-widgets/base",
            "_view_module_version": "1.2.0",
            "_view_name": "StyleView",
            "description_width": ""
          }
        },
        "4ea4826165e94f2eb46ea34b66f5ad46": {
          "model_module": "@jupyter-widgets/controls",
          "model_module_version": "1.5.0",
          "model_name": "HTMLModel",
          "state": {
            "_dom_classes": [],
            "_model_module": "@jupyter-widgets/controls",
            "_model_module_version": "1.5.0",
            "_model_name": "HTMLModel",
            "_view_count": null,
            "_view_module": "@jupyter-widgets/controls",
            "_view_module_version": "1.5.0",
            "_view_name": "HTMLView",
            "description": "",
            "description_tooltip": null,
            "layout": "IPY_MODEL_1d5004e505564e9383055d914a8924d3",
            "placeholder": "​",
            "style": "IPY_MODEL_ac447f1225d34a899599f15b03bb5811",
            "value": "Downloading (…)solve/main/vocab.txt: "
          }
        },
        "5a21f898c83c49b896184226e55c1a58": {
          "model_module": "@jupyter-widgets/base",
          "model_module_version": "1.2.0",
          "model_name": "LayoutModel",
          "state": {
            "_model_module": "@jupyter-widgets/base",
            "_model_module_version": "1.2.0",
            "_model_name": "LayoutModel",
            "_view_count": null,
            "_view_module": "@jupyter-widgets/base",
            "_view_module_version": "1.2.0",
            "_view_name": "LayoutView",
            "align_content": null,
            "align_items": null,
            "align_self": null,
            "border": null,
            "bottom": null,
            "display": null,
            "flex": null,
            "flex_flow": null,
            "grid_area": null,
            "grid_auto_columns": null,
            "grid_auto_flow": null,
            "grid_auto_rows": null,
            "grid_column": null,
            "grid_gap": null,
            "grid_row": null,
            "grid_template_areas": null,
            "grid_template_columns": null,
            "grid_template_rows": null,
            "height": null,
            "justify_content": null,
            "justify_items": null,
            "left": null,
            "margin": null,
            "max_height": null,
            "max_width": null,
            "min_height": null,
            "min_width": null,
            "object_fit": null,
            "object_position": null,
            "order": null,
            "overflow": null,
            "overflow_x": null,
            "overflow_y": null,
            "padding": null,
            "right": null,
            "top": null,
            "visibility": null,
            "width": null
          }
        },
        "61c89e45d6de4edba8a1a482f41752da": {
          "model_module": "@jupyter-widgets/base",
          "model_module_version": "1.2.0",
          "model_name": "LayoutModel",
          "state": {
            "_model_module": "@jupyter-widgets/base",
            "_model_module_version": "1.2.0",
            "_model_name": "LayoutModel",
            "_view_count": null,
            "_view_module": "@jupyter-widgets/base",
            "_view_module_version": "1.2.0",
            "_view_name": "LayoutView",
            "align_content": null,
            "align_items": null,
            "align_self": null,
            "border": null,
            "bottom": null,
            "display": null,
            "flex": null,
            "flex_flow": null,
            "grid_area": null,
            "grid_auto_columns": null,
            "grid_auto_flow": null,
            "grid_auto_rows": null,
            "grid_column": null,
            "grid_gap": null,
            "grid_row": null,
            "grid_template_areas": null,
            "grid_template_columns": null,
            "grid_template_rows": null,
            "height": null,
            "justify_content": null,
            "justify_items": null,
            "left": null,
            "margin": null,
            "max_height": null,
            "max_width": null,
            "min_height": null,
            "min_width": null,
            "object_fit": null,
            "object_position": null,
            "order": null,
            "overflow": null,
            "overflow_x": null,
            "overflow_y": null,
            "padding": null,
            "right": null,
            "top": null,
            "visibility": null,
            "width": null
          }
        },
        "6b72f2ec73514f799b7e2c5bba000feb": {
          "model_module": "@jupyter-widgets/controls",
          "model_module_version": "1.5.0",
          "model_name": "ProgressStyleModel",
          "state": {
            "_model_module": "@jupyter-widgets/controls",
            "_model_module_version": "1.5.0",
            "_model_name": "ProgressStyleModel",
            "_view_count": null,
            "_view_module": "@jupyter-widgets/base",
            "_view_module_version": "1.2.0",
            "_view_name": "StyleView",
            "bar_color": null,
            "description_width": ""
          }
        },
        "739b6e149a9543d386922904bedc1c28": {
          "model_module": "@jupyter-widgets/base",
          "model_module_version": "1.2.0",
          "model_name": "LayoutModel",
          "state": {
            "_model_module": "@jupyter-widgets/base",
            "_model_module_version": "1.2.0",
            "_model_name": "LayoutModel",
            "_view_count": null,
            "_view_module": "@jupyter-widgets/base",
            "_view_module_version": "1.2.0",
            "_view_name": "LayoutView",
            "align_content": null,
            "align_items": null,
            "align_self": null,
            "border": null,
            "bottom": null,
            "display": null,
            "flex": null,
            "flex_flow": null,
            "grid_area": null,
            "grid_auto_columns": null,
            "grid_auto_flow": null,
            "grid_auto_rows": null,
            "grid_column": null,
            "grid_gap": null,
            "grid_row": null,
            "grid_template_areas": null,
            "grid_template_columns": null,
            "grid_template_rows": null,
            "height": null,
            "justify_content": null,
            "justify_items": null,
            "left": null,
            "margin": null,
            "max_height": null,
            "max_width": null,
            "min_height": null,
            "min_width": null,
            "object_fit": null,
            "object_position": null,
            "order": null,
            "overflow": null,
            "overflow_x": null,
            "overflow_y": null,
            "padding": null,
            "right": null,
            "top": null,
            "visibility": null,
            "width": null
          }
        },
        "76d0b8a42bf44fe8b7573a20f3caf838": {
          "model_module": "@jupyter-widgets/controls",
          "model_module_version": "1.5.0",
          "model_name": "DescriptionStyleModel",
          "state": {
            "_model_module": "@jupyter-widgets/controls",
            "_model_module_version": "1.5.0",
            "_model_name": "DescriptionStyleModel",
            "_view_count": null,
            "_view_module": "@jupyter-widgets/base",
            "_view_module_version": "1.2.0",
            "_view_name": "StyleView",
            "description_width": ""
          }
        },
        "77dc2b3f79d542b09503c0af34a6b4fb": {
          "model_module": "@jupyter-widgets/base",
          "model_module_version": "1.2.0",
          "model_name": "LayoutModel",
          "state": {
            "_model_module": "@jupyter-widgets/base",
            "_model_module_version": "1.2.0",
            "_model_name": "LayoutModel",
            "_view_count": null,
            "_view_module": "@jupyter-widgets/base",
            "_view_module_version": "1.2.0",
            "_view_name": "LayoutView",
            "align_content": null,
            "align_items": null,
            "align_self": null,
            "border": null,
            "bottom": null,
            "display": null,
            "flex": null,
            "flex_flow": null,
            "grid_area": null,
            "grid_auto_columns": null,
            "grid_auto_flow": null,
            "grid_auto_rows": null,
            "grid_column": null,
            "grid_gap": null,
            "grid_row": null,
            "grid_template_areas": null,
            "grid_template_columns": null,
            "grid_template_rows": null,
            "height": null,
            "justify_content": null,
            "justify_items": null,
            "left": null,
            "margin": null,
            "max_height": null,
            "max_width": null,
            "min_height": null,
            "min_width": null,
            "object_fit": null,
            "object_position": null,
            "order": null,
            "overflow": null,
            "overflow_x": null,
            "overflow_y": null,
            "padding": null,
            "right": null,
            "top": null,
            "visibility": null,
            "width": null
          }
        },
        "8bff39189fee48f28e68772964ead227": {
          "model_module": "@jupyter-widgets/base",
          "model_module_version": "1.2.0",
          "model_name": "LayoutModel",
          "state": {
            "_model_module": "@jupyter-widgets/base",
            "_model_module_version": "1.2.0",
            "_model_name": "LayoutModel",
            "_view_count": null,
            "_view_module": "@jupyter-widgets/base",
            "_view_module_version": "1.2.0",
            "_view_name": "LayoutView",
            "align_content": null,
            "align_items": null,
            "align_self": null,
            "border": null,
            "bottom": null,
            "display": null,
            "flex": null,
            "flex_flow": null,
            "grid_area": null,
            "grid_auto_columns": null,
            "grid_auto_flow": null,
            "grid_auto_rows": null,
            "grid_column": null,
            "grid_gap": null,
            "grid_row": null,
            "grid_template_areas": null,
            "grid_template_columns": null,
            "grid_template_rows": null,
            "height": null,
            "justify_content": null,
            "justify_items": null,
            "left": null,
            "margin": null,
            "max_height": null,
            "max_width": null,
            "min_height": null,
            "min_width": null,
            "object_fit": null,
            "object_position": null,
            "order": null,
            "overflow": null,
            "overflow_x": null,
            "overflow_y": null,
            "padding": null,
            "right": null,
            "top": null,
            "visibility": null,
            "width": null
          }
        },
        "8caf4857b68f489c8dc8e43999de379d": {
          "model_module": "@jupyter-widgets/controls",
          "model_module_version": "1.5.0",
          "model_name": "HTMLModel",
          "state": {
            "_dom_classes": [],
            "_model_module": "@jupyter-widgets/controls",
            "_model_module_version": "1.5.0",
            "_model_name": "HTMLModel",
            "_view_count": null,
            "_view_module": "@jupyter-widgets/controls",
            "_view_module_version": "1.5.0",
            "_view_name": "HTMLView",
            "description": "",
            "description_tooltip": null,
            "layout": "IPY_MODEL_fe658dd5fc7746a482996bcc2c225c05",
            "placeholder": "​",
            "style": "IPY_MODEL_49924011483b4bc38d1e47c40ff04965",
            "value": "Downloading (…)okenizer_config.json: 100%"
          }
        },
        "8e6ee27745e642dcb7dbd4d73c340371": {
          "model_module": "@jupyter-widgets/base",
          "model_module_version": "1.2.0",
          "model_name": "LayoutModel",
          "state": {
            "_model_module": "@jupyter-widgets/base",
            "_model_module_version": "1.2.0",
            "_model_name": "LayoutModel",
            "_view_count": null,
            "_view_module": "@jupyter-widgets/base",
            "_view_module_version": "1.2.0",
            "_view_name": "LayoutView",
            "align_content": null,
            "align_items": null,
            "align_self": null,
            "border": null,
            "bottom": null,
            "display": null,
            "flex": null,
            "flex_flow": null,
            "grid_area": null,
            "grid_auto_columns": null,
            "grid_auto_flow": null,
            "grid_auto_rows": null,
            "grid_column": null,
            "grid_gap": null,
            "grid_row": null,
            "grid_template_areas": null,
            "grid_template_columns": null,
            "grid_template_rows": null,
            "height": null,
            "justify_content": null,
            "justify_items": null,
            "left": null,
            "margin": null,
            "max_height": null,
            "max_width": null,
            "min_height": null,
            "min_width": null,
            "object_fit": null,
            "object_position": null,
            "order": null,
            "overflow": null,
            "overflow_x": null,
            "overflow_y": null,
            "padding": null,
            "right": null,
            "top": null,
            "visibility": null,
            "width": null
          }
        },
        "99b67d71ccab4cf8940131c277dbdabc": {
          "model_module": "@jupyter-widgets/base",
          "model_module_version": "1.2.0",
          "model_name": "LayoutModel",
          "state": {
            "_model_module": "@jupyter-widgets/base",
            "_model_module_version": "1.2.0",
            "_model_name": "LayoutModel",
            "_view_count": null,
            "_view_module": "@jupyter-widgets/base",
            "_view_module_version": "1.2.0",
            "_view_name": "LayoutView",
            "align_content": null,
            "align_items": null,
            "align_self": null,
            "border": null,
            "bottom": null,
            "display": null,
            "flex": null,
            "flex_flow": null,
            "grid_area": null,
            "grid_auto_columns": null,
            "grid_auto_flow": null,
            "grid_auto_rows": null,
            "grid_column": null,
            "grid_gap": null,
            "grid_row": null,
            "grid_template_areas": null,
            "grid_template_columns": null,
            "grid_template_rows": null,
            "height": null,
            "justify_content": null,
            "justify_items": null,
            "left": null,
            "margin": null,
            "max_height": null,
            "max_width": null,
            "min_height": null,
            "min_width": null,
            "object_fit": null,
            "object_position": null,
            "order": null,
            "overflow": null,
            "overflow_x": null,
            "overflow_y": null,
            "padding": null,
            "right": null,
            "top": null,
            "visibility": null,
            "width": null
          }
        },
        "9cbe382aeb6040d09211836385378bc4": {
          "model_module": "@jupyter-widgets/controls",
          "model_module_version": "1.5.0",
          "model_name": "HBoxModel",
          "state": {
            "_dom_classes": [],
            "_model_module": "@jupyter-widgets/controls",
            "_model_module_version": "1.5.0",
            "_model_name": "HBoxModel",
            "_view_count": null,
            "_view_module": "@jupyter-widgets/controls",
            "_view_module_version": "1.5.0",
            "_view_name": "HBoxView",
            "box_style": "",
            "children": [
              "IPY_MODEL_8caf4857b68f489c8dc8e43999de379d",
              "IPY_MODEL_e83b9c2e9ef54da1b3c453f7924e978a",
              "IPY_MODEL_d12b5182064f460db063f111c7392ad6"
            ],
            "layout": "IPY_MODEL_20da9bb21f3c4c4cb1a924f50a010983"
          }
        },
        "a0f1434a0ce74916a4ddb0d3eb5518e4": {
          "model_module": "@jupyter-widgets/controls",
          "model_module_version": "1.5.0",
          "model_name": "HTMLModel",
          "state": {
            "_dom_classes": [],
            "_model_module": "@jupyter-widgets/controls",
            "_model_module_version": "1.5.0",
            "_model_name": "HTMLModel",
            "_view_count": null,
            "_view_module": "@jupyter-widgets/controls",
            "_view_module_version": "1.5.0",
            "_view_name": "HTMLView",
            "description": "",
            "description_tooltip": null,
            "layout": "IPY_MODEL_8bff39189fee48f28e68772964ead227",
            "placeholder": "​",
            "style": "IPY_MODEL_b3771c577b0542b9941639cd1fd19c7f",
            "value": " 232k/? [00:00&lt;00:00, 4.55MB/s]"
          }
        },
        "ac447f1225d34a899599f15b03bb5811": {
          "model_module": "@jupyter-widgets/controls",
          "model_module_version": "1.5.0",
          "model_name": "DescriptionStyleModel",
          "state": {
            "_model_module": "@jupyter-widgets/controls",
            "_model_module_version": "1.5.0",
            "_model_name": "DescriptionStyleModel",
            "_view_count": null,
            "_view_module": "@jupyter-widgets/base",
            "_view_module_version": "1.2.0",
            "_view_name": "StyleView",
            "description_width": ""
          }
        },
        "b3771c577b0542b9941639cd1fd19c7f": {
          "model_module": "@jupyter-widgets/controls",
          "model_module_version": "1.5.0",
          "model_name": "DescriptionStyleModel",
          "state": {
            "_model_module": "@jupyter-widgets/controls",
            "_model_module_version": "1.5.0",
            "_model_name": "DescriptionStyleModel",
            "_view_count": null,
            "_view_module": "@jupyter-widgets/base",
            "_view_module_version": "1.2.0",
            "_view_name": "StyleView",
            "description_width": ""
          }
        },
        "bed1099dfdd548929169e6f4c1cff912": {
          "model_module": "@jupyter-widgets/controls",
          "model_module_version": "1.5.0",
          "model_name": "HBoxModel",
          "state": {
            "_dom_classes": [],
            "_model_module": "@jupyter-widgets/controls",
            "_model_module_version": "1.5.0",
            "_model_name": "HBoxModel",
            "_view_count": null,
            "_view_module": "@jupyter-widgets/controls",
            "_view_module_version": "1.5.0",
            "_view_name": "HBoxView",
            "box_style": "",
            "children": [
              "IPY_MODEL_122e1679c96a4200b8c6bcc3a5a6c0bd",
              "IPY_MODEL_f63d9d01d15643a28d38b36b0e8e16f3",
              "IPY_MODEL_390ca7cde5934363a0d3af777c96edee"
            ],
            "layout": "IPY_MODEL_c8dacaeb095241b8a251b3d554c8a6e6"
          }
        },
        "c2310a0f39244a288ccf4ef2a5eb4ef8": {
          "model_module": "@jupyter-widgets/controls",
          "model_module_version": "1.5.0",
          "model_name": "HTMLModel",
          "state": {
            "_dom_classes": [],
            "_model_module": "@jupyter-widgets/controls",
            "_model_module_version": "1.5.0",
            "_model_name": "HTMLModel",
            "_view_count": null,
            "_view_module": "@jupyter-widgets/controls",
            "_view_module_version": "1.5.0",
            "_view_name": "HTMLView",
            "description": "",
            "description_tooltip": null,
            "layout": "IPY_MODEL_8e6ee27745e642dcb7dbd4d73c340371",
            "placeholder": "​",
            "style": "IPY_MODEL_cbaed600a2a04bba9287cd5cce7df82b",
            "value": "Downloading (…)lve/main/config.json: 100%"
          }
        },
        "c8dacaeb095241b8a251b3d554c8a6e6": {
          "model_module": "@jupyter-widgets/base",
          "model_module_version": "1.2.0",
          "model_name": "LayoutModel",
          "state": {
            "_model_module": "@jupyter-widgets/base",
            "_model_module_version": "1.2.0",
            "_model_name": "LayoutModel",
            "_view_count": null,
            "_view_module": "@jupyter-widgets/base",
            "_view_module_version": "1.2.0",
            "_view_name": "LayoutView",
            "align_content": null,
            "align_items": null,
            "align_self": null,
            "border": null,
            "bottom": null,
            "display": null,
            "flex": null,
            "flex_flow": null,
            "grid_area": null,
            "grid_auto_columns": null,
            "grid_auto_flow": null,
            "grid_auto_rows": null,
            "grid_column": null,
            "grid_gap": null,
            "grid_row": null,
            "grid_template_areas": null,
            "grid_template_columns": null,
            "grid_template_rows": null,
            "height": null,
            "justify_content": null,
            "justify_items": null,
            "left": null,
            "margin": null,
            "max_height": null,
            "max_width": null,
            "min_height": null,
            "min_width": null,
            "object_fit": null,
            "object_position": null,
            "order": null,
            "overflow": null,
            "overflow_x": null,
            "overflow_y": null,
            "padding": null,
            "right": null,
            "top": null,
            "visibility": null,
            "width": null
          }
        },
        "cbaed600a2a04bba9287cd5cce7df82b": {
          "model_module": "@jupyter-widgets/controls",
          "model_module_version": "1.5.0",
          "model_name": "DescriptionStyleModel",
          "state": {
            "_model_module": "@jupyter-widgets/controls",
            "_model_module_version": "1.5.0",
            "_model_name": "DescriptionStyleModel",
            "_view_count": null,
            "_view_module": "@jupyter-widgets/base",
            "_view_module_version": "1.2.0",
            "_view_name": "StyleView",
            "description_width": ""
          }
        },
        "d12b5182064f460db063f111c7392ad6": {
          "model_module": "@jupyter-widgets/controls",
          "model_module_version": "1.5.0",
          "model_name": "HTMLModel",
          "state": {
            "_dom_classes": [],
            "_model_module": "@jupyter-widgets/controls",
            "_model_module_version": "1.5.0",
            "_model_name": "HTMLModel",
            "_view_count": null,
            "_view_module": "@jupyter-widgets/controls",
            "_view_module_version": "1.5.0",
            "_view_name": "HTMLView",
            "description": "",
            "description_tooltip": null,
            "layout": "IPY_MODEL_48514bbe0e5548ebbe463c921e1bc210",
            "placeholder": "​",
            "style": "IPY_MODEL_241314fd633a463a92a18a0c18ce10f0",
            "value": " 28.0/28.0 [00:00&lt;00:00, 802B/s]"
          }
        },
        "e0cc23653dfa454ab77a864eae721a11": {
          "model_module": "@jupyter-widgets/controls",
          "model_module_version": "1.5.0",
          "model_name": "HTMLModel",
          "state": {
            "_dom_classes": [],
            "_model_module": "@jupyter-widgets/controls",
            "_model_module_version": "1.5.0",
            "_model_name": "HTMLModel",
            "_view_count": null,
            "_view_module": "@jupyter-widgets/controls",
            "_view_module_version": "1.5.0",
            "_view_name": "HTMLView",
            "description": "",
            "description_tooltip": null,
            "layout": "IPY_MODEL_5a21f898c83c49b896184226e55c1a58",
            "placeholder": "​",
            "style": "IPY_MODEL_fef23357fed94f7494d1e6baab304df2",
            "value": " 570/570 [00:00&lt;00:00, 13.7kB/s]"
          }
        },
        "e71d34cecfe04f24ab40c6fb41d53969": {
          "model_module": "@jupyter-widgets/controls",
          "model_module_version": "1.5.0",
          "model_name": "ProgressStyleModel",
          "state": {
            "_model_module": "@jupyter-widgets/controls",
            "_model_module_version": "1.5.0",
            "_model_name": "ProgressStyleModel",
            "_view_count": null,
            "_view_module": "@jupyter-widgets/base",
            "_view_module_version": "1.2.0",
            "_view_name": "StyleView",
            "bar_color": null,
            "description_width": ""
          }
        },
        "e83b9c2e9ef54da1b3c453f7924e978a": {
          "model_module": "@jupyter-widgets/controls",
          "model_module_version": "1.5.0",
          "model_name": "FloatProgressModel",
          "state": {
            "_dom_classes": [],
            "_model_module": "@jupyter-widgets/controls",
            "_model_module_version": "1.5.0",
            "_model_name": "FloatProgressModel",
            "_view_count": null,
            "_view_module": "@jupyter-widgets/controls",
            "_view_module_version": "1.5.0",
            "_view_name": "ProgressView",
            "bar_style": "success",
            "description": "",
            "description_tooltip": null,
            "layout": "IPY_MODEL_0b11219773fd4230a691160a1ebce8de",
            "max": 28,
            "min": 0,
            "orientation": "horizontal",
            "style": "IPY_MODEL_e71d34cecfe04f24ab40c6fb41d53969",
            "value": 28
          }
        },
        "eca3074f090543e19a12086aa4e76b7a": {
          "model_module": "@jupyter-widgets/controls",
          "model_module_version": "1.5.0",
          "model_name": "ProgressStyleModel",
          "state": {
            "_model_module": "@jupyter-widgets/controls",
            "_model_module_version": "1.5.0",
            "_model_name": "ProgressStyleModel",
            "_view_count": null,
            "_view_module": "@jupyter-widgets/base",
            "_view_module_version": "1.2.0",
            "_view_name": "StyleView",
            "bar_color": null,
            "description_width": ""
          }
        },
        "f0ff7cd501ee4dff90fcfdbaadf797dd": {
          "model_module": "@jupyter-widgets/base",
          "model_module_version": "1.2.0",
          "model_name": "LayoutModel",
          "state": {
            "_model_module": "@jupyter-widgets/base",
            "_model_module_version": "1.2.0",
            "_model_name": "LayoutModel",
            "_view_count": null,
            "_view_module": "@jupyter-widgets/base",
            "_view_module_version": "1.2.0",
            "_view_name": "LayoutView",
            "align_content": null,
            "align_items": null,
            "align_self": null,
            "border": null,
            "bottom": null,
            "display": null,
            "flex": null,
            "flex_flow": null,
            "grid_area": null,
            "grid_auto_columns": null,
            "grid_auto_flow": null,
            "grid_auto_rows": null,
            "grid_column": null,
            "grid_gap": null,
            "grid_row": null,
            "grid_template_areas": null,
            "grid_template_columns": null,
            "grid_template_rows": null,
            "height": null,
            "justify_content": null,
            "justify_items": null,
            "left": null,
            "margin": null,
            "max_height": null,
            "max_width": null,
            "min_height": null,
            "min_width": null,
            "object_fit": null,
            "object_position": null,
            "order": null,
            "overflow": null,
            "overflow_x": null,
            "overflow_y": null,
            "padding": null,
            "right": null,
            "top": null,
            "visibility": null,
            "width": null
          }
        },
        "f63d9d01d15643a28d38b36b0e8e16f3": {
          "model_module": "@jupyter-widgets/controls",
          "model_module_version": "1.5.0",
          "model_name": "FloatProgressModel",
          "state": {
            "_dom_classes": [],
            "_model_module": "@jupyter-widgets/controls",
            "_model_module_version": "1.5.0",
            "_model_name": "FloatProgressModel",
            "_view_count": null,
            "_view_module": "@jupyter-widgets/controls",
            "_view_module_version": "1.5.0",
            "_view_name": "ProgressView",
            "bar_style": "success",
            "description": "",
            "description_tooltip": null,
            "layout": "IPY_MODEL_1e0b76d8d606448aadc6eb1d0c40effa",
            "max": 440449768,
            "min": 0,
            "orientation": "horizontal",
            "style": "IPY_MODEL_194bf3955a124dfbac3de2bcb7879df1",
            "value": 440449768
          }
        },
        "fe658dd5fc7746a482996bcc2c225c05": {
          "model_module": "@jupyter-widgets/base",
          "model_module_version": "1.2.0",
          "model_name": "LayoutModel",
          "state": {
            "_model_module": "@jupyter-widgets/base",
            "_model_module_version": "1.2.0",
            "_model_name": "LayoutModel",
            "_view_count": null,
            "_view_module": "@jupyter-widgets/base",
            "_view_module_version": "1.2.0",
            "_view_name": "LayoutView",
            "align_content": null,
            "align_items": null,
            "align_self": null,
            "border": null,
            "bottom": null,
            "display": null,
            "flex": null,
            "flex_flow": null,
            "grid_area": null,
            "grid_auto_columns": null,
            "grid_auto_flow": null,
            "grid_auto_rows": null,
            "grid_column": null,
            "grid_gap": null,
            "grid_row": null,
            "grid_template_areas": null,
            "grid_template_columns": null,
            "grid_template_rows": null,
            "height": null,
            "justify_content": null,
            "justify_items": null,
            "left": null,
            "margin": null,
            "max_height": null,
            "max_width": null,
            "min_height": null,
            "min_width": null,
            "object_fit": null,
            "object_position": null,
            "order": null,
            "overflow": null,
            "overflow_x": null,
            "overflow_y": null,
            "padding": null,
            "right": null,
            "top": null,
            "visibility": null,
            "width": null
          }
        },
        "fef23357fed94f7494d1e6baab304df2": {
          "model_module": "@jupyter-widgets/controls",
          "model_module_version": "1.5.0",
          "model_name": "DescriptionStyleModel",
          "state": {
            "_model_module": "@jupyter-widgets/controls",
            "_model_module_version": "1.5.0",
            "_model_name": "DescriptionStyleModel",
            "_view_count": null,
            "_view_module": "@jupyter-widgets/base",
            "_view_module_version": "1.2.0",
            "_view_name": "StyleView",
            "description_width": ""
          }
        }
      }
    }
  },
  "nbformat": 4,
  "nbformat_minor": 0
}
